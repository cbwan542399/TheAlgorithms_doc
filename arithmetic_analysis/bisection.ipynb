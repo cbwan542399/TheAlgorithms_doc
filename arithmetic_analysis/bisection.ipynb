{
 "metadata": {
  "language_info": {
   "codemirror_mode": {
    "name": "ipython",
    "version": 3
   },
   "file_extension": ".py",
   "mimetype": "text/x-python",
   "name": "python",
   "nbconvert_exporter": "python",
   "pygments_lexer": "ipython3",
   "version": "3.8.0"
  },
  "orig_nbformat": 2,
  "kernelspec": {
   "name": "pythonjvsc74a57bd04570298ddf55f12d72b384cb5a92401407339203adac8a4a881fb11d70b7d0b5",
   "display_name": "Python 3.8.0  ('myaivenv': venv)"
  },
  "metadata": {
   "interpreter": {
    "hash": "4570298ddf55f12d72b384cb5a92401407339203adac8a4a881fb11d70b7d0b5"
   }
  }
 },
 "nbformat": 4,
 "nbformat_minor": 2,
 "cells": [
  {
   "source": [
    "# bisection  二分法求解方程\n",
    "\n",
    "## 二分法求解方程\n",
    "\n",
    "二分法是一种求解方程 $ f(x) = 0 $ 的解的一种方法。\n",
    "\n",
    "假设函数 $ f(x) $ 在区间 $ [a,b] $ 上连续，并且 $ f(a)*f(b)<0 $,此时就可以用二分法求解。\n",
    "\n",
    "## 求解伪代码：\n",
    "1. $ a_1 = a; $ &nbsp; $ b_1 = b $ ;\n",
    "2. 计算中点 $ p_1 = \\frac{(a_1+b_1)}2 $\n",
    "3. 如果: $ f(p_1) = 0 $ ,那么方程的解为 $ x=p_1 $ ，终止\n",
    "4. 如果: $ f(p_1) \\not= 0 $ \n",
    "     - 如果: $ f(p_1) * f(a_1)> 0 $,则： $ a_1=p_1;b_1=b_1 $\n",
    "     - 如果: $ f(p_1) * f(a_1)< 0 $,则： $ a_1=a_1;b_1=p_1 $\n",
    "\n",
    "重复上述步骤2到4，直到满足误差，停止迭代。\n",
    "\n",
    "## 收敛\n",
    "$ |p_n-p| \\leq \\frac1{2^n}(b-a) $ 是第n次迭代的结果，p为真是解。\n",
    "\n",
    "\n",
    "\n",
    "## 案例 \n",
    "--求解：方程 $ 3x^2-x-3 = 0 $在区间 $ [0,2] $\n",
    "--并显示其曲线\n",
    "\n",
    "$$ f(x) = 3x^2-x-3  ;  $$\n",
    "\n",
    "$$ f(0) = -3 ; $$\n",
    "$$ f(2) = 7 ; $$ \n",
    "$$ f(\\frac{0+2}2) = f(1) = -3 ; $$ \n",
    "\n",
    "## 代码\n",
    "[bisection.py]{..\\src\\arithmetic_analysis\\bisection.py}\n",
    "\n"
   ],
   "cell_type": "markdown",
   "metadata": {}
  },
  {
   "cell_type": "code",
   "execution_count": 1,
   "metadata": {},
   "outputs": [],
   "source": [
    "\"\"\"\n",
    "Prepare\n",
    "   1. sys.path 中增加 TheAlgorithms\\src 子模块\n",
    "   2. import matplotlib.pyplot，用于绘图使用 \n",
    "   3. import numpy 用于区间分界\n",
    "\"\"\"\n",
    "import  matplotlib.pyplot as plt\n",
    "import numpy as np\n",
    "import sys\n",
    "sys.path.append('E:\\dev\\AI\\TheAlgorithms\\src')\n"
   ]
  },
  {
   "source": [
    "**安例一** <br>\n",
    "求解：$ f(x) = x^3 - 2x - 5 $ 在区间 $[-10,10]$ 中的解。\n"
   ],
   "cell_type": "markdown",
   "metadata": {}
  },
  {
   "cell_type": "code",
   "execution_count": 5,
   "metadata": {},
   "outputs": [
    {
     "output_type": "stream",
     "name": "stdout",
     "text": [
      "2.0945515483617783\n"
     ]
    },
    {
     "output_type": "display_data",
     "data": {
      "text/plain": "<Figure size 432x288 with 1 Axes>",
      "image/png": "[encoded data removed]"
     },
     "metadata": {
      "needs_background": "light"
     }
    }
   ],
   "source": [
    "from arithmetic_analysis.bisection import bisection,f \n",
    "\"\"\"\n",
    "直接调用 bisection 中的 __main__ 内相关信息\n",
    "其中 程序 自定义的默认 f(x) = x ** 3 - 2 * x - 5\n",
    "\"\"\"\n",
    "myFunction = f # 设定当前函数指定的function\n",
    "a,b=-10,10      # 区间初始值\n",
    "divPointAmt=20  # 区间间产生20个点\n",
    "x=np.linspace(a,b,divPointAmt)# 区间间产生20个点\n",
    "y=myFunction(x) # 设置 x,y 之间的函数关系\n",
    "'''\n",
    "绘制曲线\n",
    "'''\n",
    "plt.figure()\n",
    "plt.plot(x,y)\n",
    "\n",
    "print(bisection(myFunction, a, b)) # 显示方程的解"
   ]
  },
  {
   "source": [
    "**案例 二** <br>\n",
    "求解：$ f(x) = x^3 - 1 $ 在区间 $[-5,5]$ 中的解。"
   ],
   "cell_type": "markdown",
   "metadata": {}
  },
  {
   "cell_type": "code",
   "execution_count": 10,
   "metadata": {},
   "outputs": [
    {
     "output_type": "stream",
     "name": "stdout",
     "text": [
      "1.0000000149011612\n"
     ]
    },
    {
     "output_type": "display_data",
     "data": {
      "text/plain": "<Figure size 432x288 with 1 Axes>",
      "image/png": "[encoded data removed]"
     },
     "metadata": {
      "needs_background": "light"
     }
    }
   ],
   "source": [
    "\"\"\"\n",
    "调用 自定义 lambda 函数\n",
    "\"\"\"\n",
    "myFunction = lambda x: x ** 3  - 1 # 设定当前函数指定的function\n",
    "a,b=-5,5      # 区间初始值\n",
    "divPointAmt=20  # 区间间产生20个点\n",
    "x=np.linspace(a,b,divPointAmt)# 区间间产生20个点\n",
    "y=myFunction(x) # 设置 x,y 之间的函数关系\n",
    "'''\n",
    "绘制曲线\n",
    "'''\n",
    "plt.figure()\n",
    "plt.plot(x,y)\n",
    "\n",
    "print(bisection(theFunction, a, b)) # 显示方程的解\n",
    "\n",
    "# print (bisection(lambda x: x ** 3 - 1, -5, 5))"
   ]
  },
  {
   "source": [
    "**案例 三** <br>\n",
    "求解：$ 3x^2-x-3 = 0 $在区间 $ [0,2] $ 中的解。"
   ],
   "cell_type": "markdown",
   "metadata": {}
  },
  {
   "cell_type": "code",
   "execution_count": 20,
   "metadata": {},
   "outputs": [
    {
     "output_type": "stream",
     "name": "stdout",
     "text": [
      "1.1804603934288025\n"
     ]
    },
    {
     "output_type": "display_data",
     "data": {
      "text/plain": "<Figure size 432x288 with 1 Axes>",
      "image/png": "[encoded data removed]"
     },
     "metadata": {
      "needs_background": "light"
     }
    }
   ],
   "source": [
    "\"\"\"\n",
    "调用 自定义 myFunction 函数\n",
    "\"\"\"\n",
    "\n",
    "def myFunction(x: float) -> float:\n",
    "    return 3*(x**2) - x - 3\n",
    "\n",
    "a,b=0,2      # 区间初始值\n",
    "divPointAmt=20  # 区间间产生20个点\n",
    "x=np.linspace(a,b,divPointAmt)# 区间间产生20个点\n",
    "y=myFunction(x) # 设置 x,y 之间的函数关系\n",
    "'''\n",
    "绘制曲线\n",
    "'''\n",
    "plt.figure()\n",
    "plt.plot(x,y)\n",
    "\n",
    "print(bisection(myFunction, a, b)) # 显示方程的解"
   ]
  },
  {
   "cell_type": "code",
   "execution_count": null,
   "metadata": {},
   "outputs": [],
   "source": []
  }
 ]
}