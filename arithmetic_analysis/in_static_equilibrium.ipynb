{
 "metadata": {
  "language_info": {
   "codemirror_mode": {
    "name": "ipython",
    "version": 3
   },
   "file_extension": ".py",
   "mimetype": "text/x-python",
   "name": "python",
   "nbconvert_exporter": "python",
   "pygments_lexer": "ipython3",
   "version": "3.8.0"
  },
  "orig_nbformat": 2,
  "kernelspec": {
   "name": "pythonjvsc74a57bd04570298ddf55f12d72b384cb5a92401407339203adac8a4a881fb11d70b7d0b5",
   "display_name": "Python 3.8.0  ('myaivenv': venv)"
  },
  "metadata": {
   "interpreter": {
    "hash": "4570298ddf55f12d72b384cb5a92401407339203adac8a4a881fb11d70b7d0b5"
   }
  }
 },
 "nbformat": 4,
 "nbformat_minor": 2,
 "cells": [
  {
   "source": [
    "\n",
    "##   in_static_equilibrium 处于静态平衡\n",
    "\n",
    "### 点集与向量集的区别及联系\n",
    "\n",
    "- 1. 标积/内积/数量积/点积 <br>\n",
    "\n",
    "  设：  $ a = {a_1,a_2,\\cdots,a_n} \\\\\n",
    "          b = {b_1,b_2,\\cdots,b_n} \n",
    "        $ 时\n",
    "  $$ \n",
    "    \\vec{a} \\cdot \\vec{b}  \n",
    "    = a_1 \\times b_1 + a_2 \\times b_2 +\\cdots +a_n \\times b_n \n",
    "    = \\sum_{i=1}^{n} a_i  \\times b_i\n",
    "  $$\n",
    "\n",
    "几何意义 ：向量$ \\vec{a} $在向量 $ \\vec{b} $方向上的投影与向量$ \\vec{b} $的模的乘积 <br>\n",
    "运算结果： 标量（常用于物理）/数量（常用于数学）\n",
    "\n",
    "- 2. 向量积，数学中又称外积、叉积，物理中称矢积、叉乘，是一种在向量空间中向量的二元运算。\n",
    "运算式： $ \\vec{a} \\times \\vec{b} =|a||b|\\times \\cos (θ) $  <br>\n",
    "与点积不同，它的运算结果是一个向量而不是一个标量。并且两个向量的叉积与这两个向量和垂直。其应用也十分广泛，通常应用于物理学光学和计算机图形学中。\n",
    "表示方法\n",
    "两个向量$ \\vec{a} $ 和 $ \\vec{b} $ 的叉积写作 $ \\vec{a} \\times \\vec{b} $\n",
    "（有时也被写成 $ \\vec{a} \\text{∧} \\vec{b} $ 避免和字母x混淆）。\n",
    "定义\n",
    "向量积可以被定义为：|a×b|=|a||b|sin<a，b>。\n",
    "模长：（在这里θ表示两向量之间的夹角（共起点的前提下）（0°≤θ≤180°），它位于这两个矢量所定义的平面上。）\n",
    "方向：a向量与b向量的向量积的方向与这两个向量所在平面垂直，且遵守右手定则。（一个简单的确定满足“右手定则”的结果向量的方向的方法是这样的：若坐标系是满足右手定则的，当右手的四指从a以不超过180度的转角转向b时，竖起的大拇指指向是c的方向。）\n",
    "也可以这样定义（等效）：\n",
    "向量积|c|=|a×b|=|a||b|sin<a，b>\n",
    "即c的长度在数值上等于以a，b，夹角为θ组成的平行四边形的面积。\n",
    "而c的方向垂直于a与b所决定的平面，c的指向按右手定则从a转向b来确定。\n",
    "\n",
    "#### 几何意义及其运用\n",
    "叉积的长度|a×b|可以解释成这两个叉乘向量a，b共起点时，所构成平行四边形的面积。据此有：混合积[abc]=（a×b）·c可以得到以a，b，c为棱的平行六面体的体积。\n",
    "\n",
    "#### 与数量积的区别\n",
    "注：向量积≠向量的积（向量的积一般指点乘）\n",
    "一定要清晰地区分开向量积（矢积）与数量积（标积）。\n",
    "\n",
    "### 算法\n",
    "- 极坐标与直角坐标的转化\n",
    "$$ \n",
    "   \\begin{cases}\n",
    "      x = \\rho \\times \\cos(θ) \\\\\n",
    "      y = \\rho \\times \\sin(θ) \n",
    "   \\end{cases}\n",
    "$$\n",
    "\n",
    "```\n",
    "def polar_force(\n",
    "    magnitude: float,         # $ \\rho $ 值\n",
    "               angle: float,  # 角度 θ \n",
    "               radian_mode: bool = False  # 是否弧度，\n",
    ") -> List[float]:   # （x,y)\n",
    "\n",
    "\n",
    "- 向量的叉积\n",
    "```\n",
    "numpy.cross\n",
    "numpy.cross(a, b, axisa=-1, axisb=-1, axisc=-1, axis=None)  \n",
    "返回两个（数组）向量的叉积。\n",
    "```\n",
    "- 是否静态平衡\n",
    "```\n",
    "def in_static_equilibrium(\n",
    "    forces: ndarray, \n",
    "    location: ndarray, \n",
    "    eps: float = 10 ** -1\n",
    ") -> bool:\n",
    "\n",
    "# summation of moments is zero\n",
    "moments: ndarray = cross(location, forces)\n",
    "sum_moments: float = sum(moments)\n",
    "return abs(sum_moments) < eps\n",
    "\n",
    "```\n",
    "\n",
    "### 代码\n",
    "in_static_equilibrium.py{..\\src\\arithmetic_analysis\\in_static_equilibrium.py}\n",
    "\n",
    "　　\n",
    "\n"
   ],
   "cell_type": "markdown",
   "metadata": {}
  },
  {
   "cell_type": "code",
   "execution_count": 2,
   "metadata": {},
   "outputs": [],
   "source": [
    "\"\"\"\n",
    "Prepare\n",
    "   1 . sys.path 中增加 TheAlgorithms\\src 子模块\n",
    "\"\"\"\n",
    "import sys\n",
    "sys.path.append('E:\\dev\\AI\\TheAlgorithms\\src')"
   ]
  },
  {
   "source": [
    "案例一：极坐标与直角坐标的转化\n",
    "```\n",
    " Resolves force along rectangular components.\n",
    "    (force, angle) => (force_x, force_y)\n",
    "    >>> polar_force(10, 45)\n",
    "    [7.0710678118654755, 7.071067811865475]\n",
    "    >>> polar_force(10, 3.14, radian_mode=True)\n",
    "    [-9.999987317275394, 0.01592652916486828]\n",
    "```"
   ],
   "cell_type": "markdown",
   "metadata": {}
  },
  {
   "cell_type": "code",
   "execution_count": 3,
   "metadata": {},
   "outputs": [
    {
     "output_type": "stream",
     "name": "stdout",
     "text": [
      "[7.0710678118654755, 7.0710678118654755]\n[-9.999987317275394, 0.01592652916486828]\n"
     ]
    }
   ],
   "source": [
    "from arithmetic_analysis.in_static_equilibrium import polar_force\n",
    "\"\"\"\n",
    "\"\"\"\n",
    "print(polar_force(10, 45))  # [7.0710678118654755, 7.071067811865475]\n",
    "print(polar_force(10, 3.14, radian_mode=True)) #[-9.999987317275394, 0.01592652916486828]"
   ]
  },
  {
   "source": [
    "## 案例二：检查系统平衡状态\n",
    "Check if a system is in equilibrium.\n",
    "    It takes two numpy.array objects.\n",
    "```\n",
    "    forces ==>  [\n",
    "                        [force1_x, force1_y],\n",
    "                        [force2_x, force2_y],\n",
    "                        ....]\n",
    "    location ==>  [\n",
    "                        [x1, y1],\n",
    "                        [x2, y2],\n",
    "                        ....]\n",
    "```"
   ],
   "cell_type": "markdown",
   "metadata": {}
  },
  {
   "cell_type": "code",
   "execution_count": 6,
   "metadata": {},
   "outputs": [
    {
     "output_type": "stream",
     "name": "stdout",
     "text": [
      "False\n"
     ]
    }
   ],
   "source": [
    "from arithmetic_analysis.in_static_equilibrium import in_static_equilibrium\n",
    "from numpy import array\n",
    "\"\"\"\n",
    "\"\"\"\n",
    "force = array([[1, 1], [-1, 2]])\n",
    "location = array([[1, 0], [10, 0]])\n",
    "print(in_static_equilibrium(force, location))   #False"
   ]
  },
  {
   "cell_type": "code",
   "execution_count": null,
   "metadata": {},
   "outputs": [],
   "source": []
  }
 ]
}