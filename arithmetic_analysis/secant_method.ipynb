{
 "metadata": {
  "language_info": {
   "codemirror_mode": {
    "name": "ipython",
    "version": 3
   },
   "file_extension": ".py",
   "mimetype": "text/x-python",
   "name": "python",
   "nbconvert_exporter": "python",
   "pygments_lexer": "ipython3",
   "version": "3.8.0"
  },
  "orig_nbformat": 2,
  "kernelspec": {
   "name": "python3",
   "display_name": "Python 3.8.0  ('myaivenv': venv)"
  },
  "metadata": {
   "interpreter": {
    "hash": "4570298ddf55f12d72b384cb5a92401407339203adac8a4a881fb11d70b7d0b5"
   }
  },
  "interpreter": {
   "hash": "4570298ddf55f12d72b384cb5a92401407339203adac8a4a881fb11d70b7d0b5"
  }
 },
 "nbformat": 4,
 "nbformat_minor": 2,
 "cells": [
  {
   "source": [
    "# Secant method 弦截法\n",
    "\n",
    "- 参考： https://www.docin.com/p-623621182.html \n",
    "\n",
    "虽然牛顿法收敛速度很快，但它每次迭代要计算两个函数：$f(x),f^{'}(x)$ .以前计算导函数一般页言是繁琐的，因此产生了一种不需要计臬导数的方法-弦截法。\n",
    "\n",
    "为避免导数的计算，我们用差商 $ \\frac {f(x_k)-f(x_0)}{x_k-x_0}$ 替代牛顿法中的导数$f^{'}(x_k) $,得到 弦截法（单点弦截法） 的迭代公式：\n",
    " $$ X_{k+1} = X_k - \\frac{f(x_k)}{f(x_k)-f(x_0)} (x_k-x_0) $$\n",
    "- 算法\n",
    "```\n",
    " def f(x: float) -> float:\n",
    "\n",
    " secant_method(\n",
    "     lower_bound: float,   # 下界\n",
    "     upper_bound: float,   # 上界\n",
    "     repeats: int)         #  重复次数\n",
    "     -> float: \n",
    "\n",
    "```\n",
    "\n",
    "## 代码\n",
    "[secant_method.py]{..\\src\\arithmetic_analysis\\secant_method.py}\n",
    "\n"
   ],
   "cell_type": "markdown",
   "metadata": {}
  },
  {
   "cell_type": "code",
   "execution_count": 1,
   "metadata": {},
   "outputs": [],
   "source": [
    "\"\"\"\n",
    "Prepare\n",
    "   1. sys.path 中增加 TheAlgorithms\\src 子模块\n",
    "\"\"\"\n",
    "import sys\n",
    "sys.path.append('E:\\dev\\AI\\TheAlgorithms\\src')\n"
   ]
  },
  {
   "source": [
    "** 案例一 <br>\n",
    "\n",
    "def f(x: float) -> float:  <br>\n",
    "secant_method(1, 3, 2)  <br>\n",
    "\n"
   ],
   "cell_type": "markdown",
   "metadata": {}
  },
  {
   "cell_type": "code",
   "execution_count": 3,
   "metadata": {},
   "outputs": [
    {
     "output_type": "stream",
     "name": "stdout",
     "text": [
      "39.98652410600183\nExample: secant_method(1, 3, 2) = 0.2139409276214589\n"
     ]
    }
   ],
   "source": [
    "from arithmetic_analysis.secant_method import f, secant_method\n",
    "# f: return 8 * x - 2 * exp(-x)\n",
    "\n",
    "print(f(5)) #   39.98652410600183\n",
    "'''\n",
    "secant_method(1, 3, 2) #  0.2139409276214589\n",
    "'''\n",
    "\n",
    "print(f\"Example: {secant_method(1, 3, 2) = }\")\n"
   ]
  },
  {
   "cell_type": "code",
   "execution_count": null,
   "metadata": {},
   "outputs": [],
   "source": []
  }
 ]
}