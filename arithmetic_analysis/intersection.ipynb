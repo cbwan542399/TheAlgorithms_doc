{
 "metadata": {
  "language_info": {
   "codemirror_mode": {
    "name": "ipython",
    "version": 3
   },
   "file_extension": ".py",
   "mimetype": "text/x-python",
   "name": "python",
   "nbconvert_exporter": "python",
   "pygments_lexer": "ipython3",
   "version": "3.8.0"
  },
  "orig_nbformat": 2,
  "kernelspec": {
   "name": "pythonjvsc74a57bd04570298ddf55f12d72b384cb5a92401407339203adac8a4a881fb11d70b7d0b5",
   "display_name": "Python 3.8.0  ('myaivenv': venv)"
  },
  "metadata": {
   "interpreter": {
    "hash": "4570298ddf55f12d72b384cb5a92401407339203adac8a4a881fb11d70b7d0b5"
   }
  }
 },
 "nbformat": 4,
 "nbformat_minor": 2,
 "cells": [
  {
   "source": [
    "# intersection  交叉点\n",
    "\n",
    "## 概述\n",
    "函数求解其曲线在一定区间 $ [a,b] $ 中与Y轴相交点；<br>\n",
    "即 $ f(x)=0 $ 在一定区间 $ [a,b] $ 中 的解。\n",
    "\n",
    "\n",
    "## 伪代码 - 函数 intersection <br>\n",
    "   参数定义：\n",
    "   ```\n",
    "   def intersection(\n",
    "    function: Callable[[float], float],   # 可Callable 函数\n",
    "    x0: float,                            # 初始值 X0，随机开始点之一\n",
    "    x1: float)                            # 初始值 X1，随机开始点之一 \n",
    "    -> float:                             # return float 类型 \n",
    "    \"\"\"\n",
    "    function is the f we want to find its root\n",
    "    x0 and x1 are two random starting points\n",
    "    \"\"\"\n",
    "  ```\n",
    "   - 步骤1：$  x_n:  = x_0, x_{n1}:= x_1 $ <br>\n",
    "   - 步骤2： 循环  <br>\n",
    "    - 2.1  $  x_{n2} = x_{n1} - ({f(x_{n1})-{(f(x_{n1})-f(x_n))}}/{(x_{n1}-x_n)}) $ <br>\n",
    "    即：$ x_{n1} - x_{n2}  = {f(x_{n1})-{(f(x_{n1})-f(x_n))}}/{(x_{n1}-x_n)}  $ 求解 $ x_{n2} $\n",
    "    - 2.2 当 $ abs(x_{n2} - x_{n1}) <= \\epsilon = 10^{-5} $ 时，返回 $ x_{n2} $ <br>\n",
    "     不满足条件 $ <= \\epsilon $  时， $  x_n:  = x_{n1}, x_{n1}:= x_{n2} $ ，继续循环<br>\n",
    "\n",
    "## 参考代码\n",
    "```\n",
    "def intersection(\n",
    "    function: Callable[[float], float],   # 可Callable 函数\n",
    "    x0: float,                            # 初始值 X0，随机开始点之一\n",
    "    x1: float)                            # 初始值 X1，随机开始点之一 \n",
    "    -> float:                             # return float 类型 \n",
    "    \"\"\"\n",
    "    function is the f we want to find its root\n",
    "    x0 and x1 are two random starting points\n",
    "    \"\"\"\n",
    "    x_n: float = x0\n",
    "    x_n1: float = x1\n",
    "    while True:\n",
    "        if x_n == x_n1 or function(x_n1) == function(x_n):\n",
    "            raise ZeroDivisionError(\"float division by zero, could not find root\")\n",
    "        x_n2: float = x_n1 - (\n",
    "            function(x_n1) / ((function(x_n1) - function(x_n)) / (x_n1 - x_n))\n",
    "        )\n",
    "        if abs(x_n2 - x_n1) < 10 ** -5:\n",
    "            return x_n2\n",
    "        x_n = x_n1\n",
    "        x_n1 = x_n2\n",
    "```   \n",
    "## 示例\n",
    "1. 求函数 $ x^3-1 $ 在 $ [-5,5] $ 与 Y  轴的相交点\n",
    "2. 求函数 $ x^2-4x+3 $ 在$ [4,1000] $ 与 Y 轴的相交点\n",
    "\n",
    "## 代码\n",
    "[intersection.py]{..\\src\\arithmetic_analysis\\intersection.py}\n",
    "\n"
   ],
   "cell_type": "markdown",
   "metadata": {}
  },
  {
   "cell_type": "code",
   "execution_count": 1,
   "metadata": {},
   "outputs": [],
   "source": [
    "\"\"\"\n",
    "Prepare\n",
    "   1. sys.path 中增加 TheAlgorithms\\src 子模块\n",
    "   2. import matplotlib.pyplot，用于绘图使用 \n",
    "   3. import numpy 用于区间分界\n",
    "\"\"\"\n",
    "import  matplotlib.pyplot as plt\n",
    "import numpy as np\n",
    "import sys\n",
    "sys.path.append('E:\\dev\\AI\\TheAlgorithms\\src')\n"
   ]
  },
  {
   "source": [
    "**安例一** <br>\n",
    "求函数 $ x^3-1 $ 在 $ [-5,5] $ 与 Y  轴的相交点\n"
   ],
   "cell_type": "markdown",
   "metadata": {}
  },
  {
   "cell_type": "code",
   "execution_count": 3,
   "metadata": {},
   "outputs": [
    {
     "output_type": "stream",
     "name": "stdout",
     "text": [
      "0.9999999999954654\n"
     ]
    },
    {
     "output_type": "display_data",
     "data": {
      "text/plain": "<Figure size 432x288 with 1 Axes>",
      "image/png": "[encoded data removed]"
     },
     "metadata": {
      "needs_background": "light"
     }
    }
   ],
   "source": [
    "from arithmetic_analysis.intersection import intersection \n",
    "\"\"\"\n",
    "\n",
    "\"\"\"\n",
    "myFunction = lambda x: x ** 3  - 1 # 设定当前函数指定的function\n",
    "a,b=-5,5      # 区间初始值\n",
    "divPointAmt=20  # 区间间产生20个点\n",
    "x=np.linspace(a,b,divPointAmt)# 区间间产生20个点\n",
    "y=myFunction(x) # 设置 x,y 之间的函数关系\n",
    "'''\n",
    "绘制曲线\n",
    "'''\n",
    "plt.figure()\n",
    "plt.plot(x,y)\n",
    "\n",
    "print(intersection(myFunction, a, b)) # 显示交叉点"
   ]
  },
  {
   "source": [
    "**安例二** <br>\n",
    "求函数 $ x^2-4x+3 $ 在 $ [4,100] $ 与 Y  轴的相交点\n"
   ],
   "cell_type": "markdown",
   "metadata": {}
  },
  {
   "cell_type": "code",
   "execution_count": 5,
   "metadata": {},
   "outputs": [
    {
     "output_type": "stream",
     "name": "stdout",
     "text": [
      "3.0000000000000373\n"
     ]
    },
    {
     "output_type": "display_data",
     "data": {
      "text/plain": "<Figure size 432x288 with 1 Axes>",
      "image/png": "[encoded data removed]"
     },
     "metadata": {
      "needs_background": "light"
     }
    }
   ],
   "source": [
    "from arithmetic_analysis.intersection import intersection \n",
    "\"\"\"\n",
    "\n",
    "\"\"\"\n",
    "myFunction = lambda x: x ** 2 - 4 * x + 3 # 设定当前函数指定的function\n",
    "a,b=4,1000      # 区间初始值\n",
    "divPointAmt=20  # 区间间产生20个点\n",
    "x=np.linspace(a,b,divPointAmt)# 区间间产生20个点\n",
    "y=myFunction(x) # 设置 x,y 之间的函数关系\n",
    "'''\n",
    "绘制曲线\n",
    "'''\n",
    "plt.figure()\n",
    "plt.plot(x,y)\n",
    "\n",
    "print(intersection(myFunction, a, b)) # 显示交叉点"
   ]
  },
  {
   "source": [
    "**安例三** <br>\n",
    "求函数 $ \\sin(x) $ 在 $ [-\\pi,\\pi] $ 与 Y  轴的相交点 \n",
    "\n",
    "`[X]` 曲线坐标轴未居中，有待改进\n"
   ],
   "cell_type": "markdown",
   "metadata": {}
  },
  {
   "cell_type": "code",
   "execution_count": 18,
   "metadata": {},
   "outputs": [
    {
     "output_type": "execute_result",
     "data": {
      "text/plain": [
       "[<matplotlib.lines.Line2D at 0x20c002cbe80>]"
      ]
     },
     "metadata": {},
     "execution_count": 18
    },
    {
     "output_type": "display_data",
     "data": {
      "text/plain": "<Figure size 432x288 with 1 Axes>",
      "image/png": "[encoded data removed]"
     },
     "metadata": {
      "needs_background": "light"
     }
    }
   ],
   "source": [
    "from arithmetic_analysis.intersection import intersection \n",
    "\n",
    "\"\"\"\n",
    "\n",
    "\"\"\"\n",
    "myFunction = np.sin # 设定当前函数指定的function\n",
    "\"\"\"\n",
    " myFunction = math.sin 会出现异常：TypeError: only length-1 arrays can be converted to Python scalars\n",
    " 原因为： 不能直接应用 math 库里的东西到 ndarray 上,得用numpy中的函数。如np.exp\n",
    "\"\"\"\n",
    "a,b=-np.pi,np.pi      # 区间初始值\n",
    "divPointAmt=20  # 区间间产生20个点\n",
    "x=np.linspace(a,b,divPointAmt)# 区间间产生20个点\n",
    "y=myFunction(x) # 设置 x,y 之间的函数关系\n",
    "'''\n",
    "绘制曲线\n",
    "'''\n",
    "plt.figure()\n",
    "plt.plot(x,y)\n",
    "\n",
    "# print(intersection(myFunction, a, b)) # 显示交叉点"
   ]
  }
 ]
}