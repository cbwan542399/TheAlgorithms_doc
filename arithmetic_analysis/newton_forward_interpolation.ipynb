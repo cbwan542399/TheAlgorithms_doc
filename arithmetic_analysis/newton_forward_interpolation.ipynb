{
 "metadata": {
  "language_info": {
   "codemirror_mode": {
    "name": "ipython",
    "version": 3
   },
   "file_extension": ".py",
   "mimetype": "text/x-python",
   "name": "python",
   "nbconvert_exporter": "python",
   "pygments_lexer": "ipython3",
   "version": "3.8.0"
  },
  "orig_nbformat": 2,
  "kernelspec": {
   "name": "python3",
   "display_name": "Python 3.8.0 64-bit ('myaivenv': venv)"
  },
  "metadata": {
   "interpreter": {
    "hash": "4570298ddf55f12d72b384cb5a92401407339203adac8a4a881fb11d70b7d0b5"
   }
  },
  "interpreter": {
   "hash": "4570298ddf55f12d72b384cb5a92401407339203adac8a4a881fb11d70b7d0b5"
  }
 },
 "nbformat": 4,
 "nbformat_minor": 2,
 "cells": [
  {
   "source": [
    "# newton_forward_interpolation  牛顿向前插值法\n",
    "\n",
    "参考： https://zhuanlan.zhihu.com/p/66793653 <br>\n",
    "      https://www.geeksforgeeks.org/newton-forward-backward-interpolation/\n",
    "\n",
    "插值是对自变量的任意中间值估计函数值的技术，而计算给定范围外的函数值的过程称为外推。\n",
    "\n",
    "正向差值:$y_1-y_0、y_2-y_1、y_3-y_2、\\cdots、y_n-y_{n - 1} $ 分别用$ d_{y0}、d_{y1}、d_{y2}、\\cdots、d_{y{(n-1)}}$ 表示，称为第一次正向差值。 因此，第一个正向差异是:  \n",
    "$$ \\Delta Y_r = Y_{r + 1} -Y_{r} $$ \n",
    "前向插值表如图所示：\n",
    "![jpg](newton_forward_interpolation_files/forward-difference-table-1.jpg)\n",
    "\n",
    "\n",
    "\n",
    "公式：\n",
    "\n",
    "NEWTON’S GREGORY FORWARD INTERPOLATION FORMULA : \n",
    "$$ f(a+hu)=f(a)+u\\Delta f(a)+\\frac{u\\left ( u-1 \\right )}{2!}\\Delta ^{2}f(a)+...+\\frac{u\\left ( u-1 \\right )\\left ( u-2 \\right )...\\left ( u-n+1 \\right )}{n!}\\Delta ^{n}f(a)  $$  \n",
    "这个公式对于插值f(x)在给定值集合的开始附近的值特别有用。 h是$ u=\\frac{(x - a)} h $ 的区间，这里a是第一项  \n",
    "\n",
    "![jpg](newton_forward_interpolation_files/newton_forward_interpolation_1_1.jpg)\n",
    "\n",
    "## 代码\n",
    "[newton_forward_interpolation.py]{..\\src\\arithmetic_analysis\\newton_forward_interpolation.py}\n",
    "\n"
   ],
   "cell_type": "markdown",
   "metadata": {}
  },
  {
   "cell_type": "code",
   "execution_count": 1,
   "metadata": {},
   "outputs": [],
   "source": [
    "\"\"\"\n",
    "Prepare\n",
    "   1. sys.path 中增加 TheAlgorithms\\src 子模块\n",
    "\"\"\"\n",
    "import sys\n",
    "sys.path.append('E:\\dev\\AI\\TheAlgorithms\\src')\n"
   ]
  },
  {
   "source": [
    "**安例一** <br>\n",
    "NEWTON’S GREGORY FORWARD INTERPOLATION FORMULA : \n",
    "$$ f(a+hu)=f(a)+u\\Delta f(a)+\\frac{u\\left ( u-1 \\right )}{2!}\\Delta ^{2}f(a)+...+\\frac{u\\left ( u-1 \\right )\\left ( u-2 \\right )...\\left ( u-n+1 \\right )}{n!}\\Delta ^{n}f(a)  $$  \n",
    "这个公式对于插值f(x)在给定值集合的开始附近的值特别有用。 h是$ u=\\frac{(x - a)} h $ 的区间，这里a是第一项  \n",
    "\n",
    "# for calculating u value\n",
    "def ucal(u: float, p: int) -> float:\n",
    "``` \n",
    " temp = u\n",
    "    for i in range(1, p):\n",
    "        temp = temp * (u - i)\n",
    "    return temp\n",
    "```"
   ],
   "cell_type": "markdown",
   "metadata": {}
  },
  {
   "cell_type": "code",
   "execution_count": 2,
   "metadata": {},
   "outputs": [
    {
     "output_type": "stream",
     "name": "stdout",
     "text": [
      "0\n0.11000000000000011\n0.23999999999999994\n"
     ]
    }
   ],
   "source": [
    "from arithmetic_analysis.newton_forward_interpolation import  ucal\n",
    "\"\"\"\n",
    "\"\"\"\n",
    "'''\n",
    "ucal(1, 2)    #    0  -- 1*(1-2)\n",
    "  # 第一次 ，temp = 1, temp = 1*(1-1) =0\n",
    "  # 第二次 ，temp = 0, temp = 0*(1-2) =0\n",
    "  \n",
    "\n",
    "ucal(1.1, 2)  #    0.11000000000000011\n",
    "  # 第一次 ，temp = 1.1, temp = temp*(1.1-1) =0.11\n",
    "  # 第二次 ，temp = 0.11, temp = temp*(1-2) =0\n",
    "\n",
    "ucal(1.2, 2)  #    0.23999999999999994\n",
    "'''\n",
    "print (ucal(1, 2))\n",
    "print (ucal(1.1, 2) )\n",
    "print (ucal(1.2, 2) )\n",
    "\n"
   ]
  },
  {
   "source": [
    "已知： <br>\n",
    "sin45 =  0.7071  <br>\n",
    "sin50 =  0.7660  <br>\n",
    "sin55 =  0.8192  <br>\n",
    "sin60 = 0.8660   <br>\n",
    "求 sin52  <br>\n",
    "\n",
    "\n",
    "\n",
    "\n"
   ],
   "cell_type": "markdown",
   "metadata": {}
  },
  {
   "cell_type": "code",
   "execution_count": 7,
   "metadata": {},
   "outputs": [
    {
     "output_type": "stream",
     "name": "stdout",
     "text": [
      "45\t0.7071\t0.05890000000000006\t-0.005700000000000038\t-0.0007000000000000339\t\n50\t0.766\t0.053200000000000025\t-0.006400000000000072\t\n55\t0.8192\t0.04679999999999995\t\n60\t0.866\t\n\nValue at 52 is 0.788003\n"
     ]
    }
   ],
   "source": [
    "from arithmetic_analysis.newton_forward_interpolation import  ucal\n",
    "\n",
    "# calculating factorial of given number n\n",
    "def fact(n):\n",
    "    f = 1\n",
    "    for i in range(2, n + 1):\n",
    "        f *= i\n",
    "    return f\n",
    " \n",
    "# Driver Code\n",
    "# Number of values given\n",
    "n = 4\n",
    "x = [ 45, 50, 55, 60 ]\n",
    "     \n",
    "# y[][] is used for difference table\n",
    "# with y[][0] used for input\n",
    "y = [[0 for i in range(n)]\n",
    "        for j in range(n)]\n",
    "y[0][0] = 0.7071\n",
    "y[1][0] = 0.7660\n",
    "y[2][0] = 0.8192\n",
    "y[3][0] = 0.8660\n",
    " \n",
    "# Calculating the forward difference table\n",
    "for i in range(1, n):\n",
    "    for j in range(n - i):\n",
    "        y[j][i] = y[j + 1][i - 1] - y[j][i - 1]\n",
    " \n",
    "# Displaying the forward difference table\n",
    "for i in range(n):\n",
    "    print(x[i], end = \"\\t\")\n",
    "    for j in range(n - i):\n",
    "        print(y[i][j], end = \"\\t\")\n",
    "    print(\"\")\n",
    " \n",
    "# Value to interpolate at\n",
    "value = 52\n",
    " \n",
    "# initializing u and sum\n",
    "sum = y[0][0]\n",
    "u = (value - x[0]) / (x[1] - x[0])\n",
    "for i in range(1,n):\n",
    "    sum = sum + (ucal(u, i) * y[0][i]) / fact(i)\n",
    " \n",
    "print(\"\\nValue at\", value,\n",
    "      \"is\", round(sum, 6))"
   ]
  },
  {
   "cell_type": "code",
   "execution_count": null,
   "metadata": {},
   "outputs": [],
   "source": []
  }
 ]
}