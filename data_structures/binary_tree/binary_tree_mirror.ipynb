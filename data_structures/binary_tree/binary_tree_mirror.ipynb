{
 "metadata": {
  "language_info": {
   "codemirror_mode": {
    "name": "ipython",
    "version": 3
   },
   "file_extension": ".py",
   "mimetype": "text/x-python",
   "name": "python",
   "nbconvert_exporter": "python",
   "pygments_lexer": "ipython3",
   "version": "3.8.0"
  },
  "orig_nbformat": 2,
  "kernelspec": {
   "name": "python3",
   "display_name": "Python 3.8.0 64-bit ('myaivenv': venv)"
  },
  "metadata": {
   "interpreter": {
    "hash": "4570298ddf55f12d72b384cb5a92401407339203adac8a4a881fb11d70b7d0b5"
   }
  },
  "interpreter": {
   "hash": "4570298ddf55f12d72b384cb5a92401407339203adac8a4a881fb11d70b7d0b5"
  }
 },
 "nbformat": 4,
 "nbformat_minor": 2,
 "cells": [
  {
   "source": [
    "\n",
    "# binary_tree_mirror 二叉树镜像\n",
    "\n",
    "## 二叉树的镜像\n",
    "完成一个函数，输入一颗二叉树，该函数输出它的镜像。<br>\n",
    "\n",
    "思路：先序遍历这颗树的每个节点，如果遍历到的节点有字节点，<br>\n",
    "就交换它的两个字节点。当交换完所有非叶子节点的左右子节点之后，<br>\n",
    "就得到了树的镜像。<br>\n",
    "\n",
    "\n",
    "## 代码\n",
    "[binary_tree_mirror.py]{..\\src\\data_structures\\binary_tree\\binary_tree_mirror.py}"
   ],
   "cell_type": "markdown",
   "metadata": {}
  },
  {
   "cell_type": "code",
   "execution_count": 3,
   "metadata": {},
   "outputs": [],
   "source": [
    "\"\"\"\n",
    "Prepare\n",
    "   1. sys.path 中增加 TheAlgorithms\\src 子模块\n",
    "\n",
    "\"\"\"\n",
    "import sys\n",
    "sys.path.append('E:\\dev\\AI\\TheAlgorithms\\src')\n"
   ]
  },
  {
   "source": [
    "## 案例一： \n",
    "```\n",
    "    >>> binary_tree_mirror({ 1: [2,3], 2: [4,5], 3: [6,7], 7: [8,9]}, 1)\n",
    "    {1: [3, 2], 2: [5, 4], 3: [7, 6], 7: [9, 8]}\n",
    "    >>> binary_tree_mirror({ 1: [2,3], 2: [4,5], 3: [6,7], 4: [10,11]}, 1)\n",
    "    {1: [3, 2], 2: [5, 4], 3: [7, 6], 4: [11, 10]}\n",
    "    >>> binary_tree_mirror({ 1: [2,3], 2: [4,5], 3: [6,7], 4: [10,11]}, 5)\n",
    "    Traceback (most recent call last):\n",
    "```    "
   ],
   "cell_type": "markdown",
   "metadata": {}
  },
  {
   "cell_type": "code",
   "execution_count": 23,
   "metadata": {},
   "outputs": [
    {
     "output_type": "stream",
     "name": "stdout",
     "text": [
      "Binary tree: {1: [2, 3], 2: [4, 5], 3: [6, 7], 7: [8, 9]}\nBinary tree mirror: {1: [3, 2], 2: [5, 4], 3: [7, 6], 7: [9, 8]}\nBinary tree: {1: [2, 3], 2: [4, 5], 3: [6, 7], 4: [10, 11]}\nBinary tree mirror: {1: [2, 3], 2: [4, 5], 3: [6, 7], 4: [11, 10]}\n"
     ]
    }
   ],
   "source": [
    "from data_structures.binary_tree.binary_tree_mirror import  binary_tree_mirror\n",
    "\n",
    "binary_tree = {1: [2, 3], 2: [4, 5], 3: [6, 7], 7: [8, 9]}\n",
    "print(f\"Binary tree: {binary_tree}\")\n",
    "binary_tree_mirror_dictionary = binary_tree_mirror(binary_tree, 1)\n",
    "print(f\"Binary tree mirror: {binary_tree_mirror_dictionary}\")\n",
    "\n",
    "\n",
    "binary_tree = { 1: [2,3], 2: [4,5], 3: [6,7], 4: [10,11]}\n",
    "print(f\"Binary tree: {binary_tree}\")\n",
    "binary_tree_mirror_dictionary = binary_tree_mirror(binary_tree, 4)\n",
    "print(f\"Binary tree mirror: {binary_tree_mirror_dictionary}\")\n",
    "\n",
    "\n",
    "\n",
    "    "
   ]
  },
  {
   "cell_type": "code",
   "execution_count": null,
   "metadata": {},
   "outputs": [],
   "source": []
  }
 ]
}