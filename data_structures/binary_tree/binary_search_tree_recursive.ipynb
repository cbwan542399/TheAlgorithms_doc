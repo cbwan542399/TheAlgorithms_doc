{
 "metadata": {
  "language_info": {
   "codemirror_mode": {
    "name": "ipython",
    "version": 3
   },
   "file_extension": ".py",
   "mimetype": "text/x-python",
   "name": "python",
   "nbconvert_exporter": "python",
   "pygments_lexer": "ipython3",
   "version": "3.8.0"
  },
  "orig_nbformat": 2,
  "kernelspec": {
   "name": "python3",
   "display_name": "Python 3.8.0 64-bit ('myaivenv': venv)"
  },
  "metadata": {
   "interpreter": {
    "hash": "4570298ddf55f12d72b384cb5a92401407339203adac8a4a881fb11d70b7d0b5"
   }
  },
  "interpreter": {
   "hash": "4570298ddf55f12d72b384cb5a92401407339203adac8a4a881fb11d70b7d0b5"
  }
 },
 "nbformat": 4,
 "nbformat_minor": 2,
 "cells": [
  {
   "source": [
    "\n",
    "# binary_search_tree_recursive 递归查找二叉树\n",
    "\n",
    "说起二叉树，就不得不讨论一下二叉树的遍历，一般来说，二叉树的遍历方式有4种：\n",
    "\n",
    "（一）前序遍历\n",
    "\n",
    "（二）中序遍历\n",
    "\n",
    "（三）后序遍历\n",
    "\n",
    "（四）层序遍历\n",
    "\n",
    "\n",
    "\n",
    "\n",
    "\n",
    "\n",
    "## 代码\n",
    "[binary_search_tree_recursive.py]{..\\src\\data_structures\\binary_tree\\binary_search_tree_recursive.py}"
   ],
   "cell_type": "markdown",
   "metadata": {}
  },
  {
   "cell_type": "code",
   "execution_count": 1,
   "metadata": {},
   "outputs": [],
   "source": [
    "\"\"\"\n",
    "Prepare\n",
    "   1. sys.path 中增加 TheAlgorithms\\src 子模块\n",
    "\n",
    "\"\"\"\n",
    "import sys\n",
    "sys.path.append('E:\\dev\\AI\\TheAlgorithms\\src')\n"
   ]
  },
  {
   "source": [
    "## 案例一： \n",
    "- 加密  `encode(plain: str) -> list[int]`\n",
    "```\n",
    "     >>> encode(\"myname\")\n",
    "    [13, 25, 14, 1, 13, 5]\n",
    "```\n",
    "- 解密 `decode(encoded: list[int]) -> str`\n",
    "```\n",
    "    >>> decode([13, 25, 14, 1, 13, 5])\n",
    "    'myname'\n",
    "```\n"
   ],
   "cell_type": "markdown",
   "metadata": {}
  },
  {
   "cell_type": "code",
   "execution_count": 3,
   "metadata": {},
   "outputs": [
    {
     "output_type": "stream",
     "name": "stdout",
     "text": [
      "\n            8\n           / \\\n          3   10\n         / \\    \\\n        1   6    14\n           / \\   /\n          4   7 13\n           \\\n            5\n        \nLabel 6 exists: True\nLabel 13 exists: True\nLabel -1 exists: False\nLabel 12 exists: False\nInorder traversal: [1, 3, 4, 5, 6, 7, 8, 10, 13, 14]\nPreorder traversal: [8, 3, 1, 6, 4, 5, 7, 10, 14, 13]\nMax. label: 14\nMin. label: 1\n\nDeleting elements 13, 10, 8, 3, 6, 14\n\n          4\n         / \\\n        1   7\n             \\\n              5\n        \nInorder traversal after delete: [1, 4, 5, 7]\nPreorder traversal after delete: [4, 1, 7, 5]\nMax. label: 7\nMin. label: 1\n"
     ]
    }
   ],
   "source": [
    "from data_structures.binary_tree.binary_search_tree_recursive import  binary_search_tree_example\n",
    "\n",
    "binary_search_tree_example()\n"
   ]
  },
  {
   "cell_type": "code",
   "execution_count": null,
   "metadata": {},
   "outputs": [],
   "source": []
  }
 ]
}