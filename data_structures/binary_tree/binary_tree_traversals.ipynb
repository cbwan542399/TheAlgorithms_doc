{
 "metadata": {
  "language_info": {
   "codemirror_mode": {
    "name": "ipython",
    "version": 3
   },
   "file_extension": ".py",
   "mimetype": "text/x-python",
   "name": "python",
   "nbconvert_exporter": "python",
   "pygments_lexer": "ipython3",
   "version": "3.8.0"
  },
  "orig_nbformat": 2,
  "kernelspec": {
   "name": "python3",
   "display_name": "Python 3.8.0 64-bit ('myaivenv': venv)"
  },
  "metadata": {
   "interpreter": {
    "hash": "4570298ddf55f12d72b384cb5a92401407339203adac8a4a881fb11d70b7d0b5"
   }
  },
  "interpreter": {
   "hash": "4570298ddf55f12d72b384cb5a92401407339203adac8a4a881fb11d70b7d0b5"
  }
 },
 "nbformat": 4,
 "nbformat_minor": 2,
 "cells": [
  {
   "source": [
    "\n",
    "# binary_tree_traversals  二叉树遍历\n",
    "\n",
    "所谓遍历(Traversal)是指沿着某条搜索路线，依次对树中每个结点均做一次且仅做一次访问。访问结点所做的操作依赖于具体的应用问题。 遍历是二叉树上最重要的运算之一，是二叉树上进行其它运算之基础 <br>\n",
    "\n",
    "\n",
    "## 算法实现\n",
    "### 遍历方案\n",
    "二叉树的前序遍历 <br>\n",
    "从二叉树的递归定义可知，一棵非空的二叉树由根结点及左、右子树这三个基本部分组成。因此，在任一给定结点上，可以按某种次序执行三个操作：<br>\n",
    " - ⑴访问结点本身（N），<br>\n",
    " - ⑵遍历该结点的左子树（L），<br>\n",
    " - ⑶遍历该结点的右子树（R）。<br>\n",
    "以上三种操作有六种执行次序：<br>\n",
    "NLR、LNR、LRN、NRL、RNL、RLN。<br>\n",
    "注意：<br>\n",
    "前三种次序与后三种次序对称，故只讨论先左后右的前三种次序。<br>\n",
    "\n",
    "### 遍历命名 <br>\n",
    "根据访问结点操作发生位置命名：<br>\n",
    " - ① NLR：前序遍历(Preorder Traversal 亦称（先序遍历））<br>\n",
    "——访问根结点的操作发生在遍历其左右子树之前。<br>\n",
    " - ② LNR：中序遍历(Inorder Traversal)<br>\n",
    "——访问根结点的操作发生在遍历其左右子树之中（间）。<br>\n",
    " - ③ LRN：后序遍历(Postorder Traversal)<br>\n",
    "——访问根结点的操作发生在遍历其左右子树之后。<br>\n",
    "注意：<br>\n",
    "由于被访问的结点必是某子树的根，所以N(Node）、L(Left subtree）和R(Right subtree）又可解释为根、根的左子树和根的右子树。NLR、LNR和LRN分别又称为先根遍历、中根遍历和后根遍历。<br>\n",
    "\n",
    "## 遍历算法\n",
    "\n",
    "1．先（根）序遍历的递归算法定义：<br>\n",
    "若二叉树非空，则依次执行如下操作：<br>\n",
    " - ⑴ 访问根结点；<br>\n",
    " - ⑵ 遍历左子树；<br>\n",
    " - ⑶ 遍历右子树。<br>\n",
    "2．中（根）序遍历的递归算法定义：\n",
    "若二叉树非空，则依次执行如下操作：\n",
    " - ⑴遍历左子树；\n",
    " - ⑵访问根结点；\n",
    " - ⑶遍历右子树。\n",
    "3．后（根）序遍历得递归算法定义：\n",
    "若二叉树非空，则依次执行如下操作：\n",
    " - ⑴遍历左子树；\n",
    " - ⑵遍历右子树；\n",
    " - ⑶访问根结点。\n",
    "\n",
    "\n",
    "\n",
    "\n",
    "## 代码\n",
    "[binary_tree_traversals.py]{..\\src\\data_structures\\binary_tree\\binary_tree_traversals.py}"
   ],
   "cell_type": "markdown",
   "metadata": {}
  },
  {
   "cell_type": "code",
   "execution_count": 3,
   "metadata": {},
   "outputs": [],
   "source": [
    "\"\"\"\n",
    "Prepare\n",
    "   1. sys.path 中增加 TheAlgorithms\\src 子模块\n",
    "\n",
    "\"\"\"\n",
    "import sys\n",
    "sys.path.append('E:\\dev\\AI\\TheAlgorithms\\src')\n"
   ]
  },
  {
   "source": [
    "## 案例一： \n",
    "```\n",
    "    >>> binary_tree_mirror({ 1: [2,3], 2: [4,5], 3: [6,7], 7: [8,9]}, 1)\n",
    "    {1: [3, 2], 2: [5, 4], 3: [7, 6], 7: [9, 8]}\n",
    "    >>> binary_tree_mirror({ 1: [2,3], 2: [4,5], 3: [6,7], 4: [10,11]}, 1)\n",
    "    {1: [3, 2], 2: [5, 4], 3: [7, 6], 4: [11, 10]}\n",
    "    >>> binary_tree_mirror({ 1: [2,3], 2: [4,5], 3: [6,7], 4: [10,11]}, 5)\n",
    "    Traceback (most recent call last):\n",
    "```    "
   ],
   "cell_type": "markdown",
   "metadata": {}
  },
  {
   "cell_type": "code",
   "execution_count": 5,
   "metadata": {},
   "outputs": [
    {
     "output_type": "stream",
     "name": "stdout",
     "text": [
      "  In-order Traversal is [4, 2, 5, 1, 3]\n Pre-order Traversal is [1, 2, 4, 5, 3]\nPost-order Traversal is [4, 5, 2, 3, 1]\nHeight of Tree is 3\nComplete Level Order Traversal is : \n1 2 3 4 5 \nLevel-wise order Traversal is : \n1 2 3 4 5 \nZigZag order Traversal is : \n1 3 2 4 5 \n"
     ]
    }
   ],
   "source": [
    "from data_structures.binary_tree.binary_tree_traversals import make_tree,inorder,preorder,postorder,height,level_order_1,level_order_2,zigzag\n",
    "\n",
    "\"\"\"\n",
    "Create binary tree.\n",
    "\"\"\"\n",
    "root = make_tree()\n",
    "\n",
    "'''\n",
    "# return Node(1, Node(2, Node(4), Node(5)), Node(3))\n",
    "\n",
    "      1\n",
    "   2    3\n",
    "4    5 \n",
    "'''\n",
    "\"\"\"\n",
    "All Traversals of the binary are as follows:\n",
    "\"\"\"\n",
    "print(f\"  In-order Traversal is {inorder(root)}\")\n",
    "print(f\" Pre-order Traversal is {preorder(root)}\")\n",
    "print(f\"Post-order Traversal is {postorder(root)}\")\n",
    "print(f\"Height of Tree is {height(root)}\")\n",
    "print(\"Complete Level Order Traversal is : \")\n",
    "level_order_1(root)\n",
    "print(\"\\nLevel-wise order Traversal is : \")\n",
    "for h in range(1, height(root) + 1):\n",
    "    level_order_2(root, h)\n",
    "print(\"\\nZigZag order Traversal is : \")\n",
    "zigzag(root)\n",
    "print()\n",
    "\n",
    "\n",
    "\n",
    "\n",
    "    "
   ]
  },
  {
   "cell_type": "code",
   "execution_count": null,
   "metadata": {},
   "outputs": [],
   "source": []
  }
 ]
}