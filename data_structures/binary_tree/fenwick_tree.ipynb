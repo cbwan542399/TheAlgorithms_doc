{
 "metadata": {
  "language_info": {
   "codemirror_mode": {
    "name": "ipython",
    "version": 3
   },
   "file_extension": ".py",
   "mimetype": "text/x-python",
   "name": "python",
   "nbconvert_exporter": "python",
   "pygments_lexer": "ipython3",
   "version": "3.8.0"
  },
  "orig_nbformat": 2,
  "kernelspec": {
   "name": "python3",
   "display_name": "Python 3.8.0 64-bit ('myaivenv': venv)"
  },
  "metadata": {
   "interpreter": {
    "hash": "4570298ddf55f12d72b384cb5a92401407339203adac8a4a881fb11d70b7d0b5"
   }
  },
  "interpreter": {
   "hash": "4570298ddf55f12d72b384cb5a92401407339203adac8a4a881fb11d70b7d0b5"
  }
 },
 "nbformat": 4,
 "nbformat_minor": 2,
 "cells": [
  {
   "source": [
    "\n",
    "# fenwick_tree 二叉索引树\n",
    "\n",
    "\n",
    "\n",
    "\n",
    "\n",
    "## 代码\n",
    "[binary_tree_traversals.py]{..\\src\\data_structures\\binary_tree\\binary_tree_traversals.py}"
   ],
   "cell_type": "markdown",
   "metadata": {}
  },
  {
   "cell_type": "code",
   "execution_count": 3,
   "metadata": {},
   "outputs": [],
   "source": [
    "\"\"\"\n",
    "Prepare\n",
    "   1. sys.path 中增加 TheAlgorithms\\src 子模块\n",
    "\n",
    "\"\"\"\n",
    "import sys\n",
    "sys.path.append('E:\\dev\\AI\\TheAlgorithms\\src')\n"
   ]
  },
  {
   "source": [
    "## 案例一： \n",
    "```\n",
    "    >>> binary_tree_mirror({ 1: [2,3], 2: [4,5], 3: [6,7], 7: [8,9]}, 1)\n",
    "    {1: [3, 2], 2: [5, 4], 3: [7, 6], 7: [9, 8]}\n",
    "    >>> binary_tree_mirror({ 1: [2,3], 2: [4,5], 3: [6,7], 4: [10,11]}, 1)\n",
    "    {1: [3, 2], 2: [5, 4], 3: [7, 6], 4: [11, 10]}\n",
    "    >>> binary_tree_mirror({ 1: [2,3], 2: [4,5], 3: [6,7], 4: [10,11]}, 5)\n",
    "    Traceback (most recent call last):\n",
    "```    "
   ],
   "cell_type": "markdown",
   "metadata": {}
  },
  {
   "cell_type": "code",
   "execution_count": 5,
   "metadata": {},
   "outputs": [
    {
     "output_type": "stream",
     "name": "stdout",
     "text": [
      "  In-order Traversal is [4, 2, 5, 1, 3]\n Pre-order Traversal is [1, 2, 4, 5, 3]\nPost-order Traversal is [4, 5, 2, 3, 1]\nHeight of Tree is 3\nComplete Level Order Traversal is : \n1 2 3 4 5 \nLevel-wise order Traversal is : \n1 2 3 4 5 \nZigZag order Traversal is : \n1 3 2 4 5 \n"
     ]
    }
   ],
   "source": [
    "from data_structures.binary_tree.binary_tree_traversals import make_tree,inorder,preorder,postorder,height,level_order_1,level_order_2,zigzag\n",
    "\n",
    "\"\"\"\n",
    "Create binary tree.\n",
    "\"\"\"\n",
    "root = make_tree()\n",
    "\n",
    "'''\n",
    "# return Node(1, Node(2, Node(4), Node(5)), Node(3))\n",
    "\n",
    "      1\n",
    "   2    3\n",
    "4    5 \n",
    "'''\n",
    "\"\"\"\n",
    "All Traversals of the binary are as follows:\n",
    "\"\"\"\n",
    "print(f\"  In-order Traversal is {inorder(root)}\")\n",
    "print(f\" Pre-order Traversal is {preorder(root)}\")\n",
    "print(f\"Post-order Traversal is {postorder(root)}\")\n",
    "print(f\"Height of Tree is {height(root)}\")\n",
    "print(\"Complete Level Order Traversal is : \")\n",
    "level_order_1(root)\n",
    "print(\"\\nLevel-wise order Traversal is : \")\n",
    "for h in range(1, height(root) + 1):\n",
    "    level_order_2(root, h)\n",
    "print(\"\\nZigZag order Traversal is : \")\n",
    "zigzag(root)\n",
    "print()\n",
    "\n",
    "\n",
    "\n",
    "\n",
    "    "
   ]
  },
  {
   "cell_type": "code",
   "execution_count": null,
   "metadata": {},
   "outputs": [],
   "source": []
  }
 ]
}