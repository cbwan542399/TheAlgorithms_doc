{
 "metadata": {
  "language_info": {
   "codemirror_mode": {
    "name": "ipython",
    "version": 3
   },
   "file_extension": ".py",
   "mimetype": "text/x-python",
   "name": "python",
   "nbconvert_exporter": "python",
   "pygments_lexer": "ipython3",
   "version": "3.8.0"
  },
  "orig_nbformat": 2,
  "kernelspec": {
   "name": "python3",
   "display_name": "Python 3.8.0 64-bit ('myaivenv': venv)"
  },
  "metadata": {
   "interpreter": {
    "hash": "4570298ddf55f12d72b384cb5a92401407339203adac8a4a881fb11d70b7d0b5"
   }
  },
  "interpreter": {
   "hash": "4570298ddf55f12d72b384cb5a92401407339203adac8a4a881fb11d70b7d0b5"
  }
 },
 "nbformat": 4,
 "nbformat_minor": 2,
 "cells": [
  {
   "source": [
    "\n",
    "# avl_tree AVL树\n",
    "\n",
    "在计算机科学中，AVL树是最先发明的自平衡二叉查找树。在AVL树中任何节点的两个子树的高度最大差别为1，所以它也被称为高度平衡树。增加和删除可能需要通过一次或多次树旋转来重新平衡这个树。AVL树得名于它的发明者G. M. Adelson-Velsky和E. M. Landis，他们在1962年的论文《An algorithm for the organization of information》中发表了它。<br>\n",
    "\n",
    "## 特点\n",
    "AVL树本质上还是一棵二叉搜索树，它的特点是：<br>\n",
    "- 1.本身首先是一棵二叉搜索树。<br>\n",
    "- 2.带有平衡条件：每个结点的左右子树的高度之差的绝对值（平衡因子）最多为1。\n",
    "也就是说，AVL树，本质上是带了平衡功能的二叉查找树（二叉排序树，二叉搜索树）。<br>\n",
    "\n",
    "## 操作\n",
    "\n",
    "### 旋转\n",
    "\n",
    "AVL树的基本操作一般涉及运做同在不平衡的二叉查找树所运做的同样的算法。但是要进行预先或随后做一次或多次所谓的\"AVL 旋转\"。 <br>\n",
    "假设由于在二叉排序树上插入结点而失去平衡的最小子树根结点的指针为 $ a $ （即 $ a $ 是离插入点最近，且平衡因子绝对值超过1的祖先结点），则失去平衡后进行进行的规律可归纳为下列四种情况：<br>\n",
    "- 单向右旋平衡处理LL：<br>\n",
    "由于在 $ ^*a $ 的左子树根结点的左子树上插入结点，$ ^*a $ 的平衡因子由1增至2，致使以*a为根的子树失去平衡，则需进行一次右旋转操作；<br>\n",
    "- 单向左旋平衡处理RR：<br>\n",
    "由于在 $ ^*a $ 的右子树根结点的右子树上插入结点，$ ^*a $ 的平衡因子由-1变为-2，致使以*a为根的子树失去平衡，则需进行一次左旋转操作；<br>\n",
    "- 双向旋转（先左后右）平衡处理LR：<br>\n",
    "由于在 $ ^*a $ 的左子树根结点的右子树上插入结点，$ ^*a $ 的平衡因子由1增至2，致使以*a为根的子树失去平衡，则需进行两次旋转（先左旋后右旋）操作。<br>\n",
    "- 双向旋转（先右后左）平衡处理RL：<br>\n",
    "由于在 $ ^*a $ 的右子树根结点的左子树上插入结点，$ ^*a $ 的平衡因子由-1变为-2，致使以 $ ^*a $ 为根的子树失去平衡，则需进行两次旋转（先右旋后左旋）操作。<br>\n",
    "\n",
    "### 插入\n",
    "\n",
    "向AVL树插入可以通过如同它是未平衡的二叉查找树一样把给定的值插入树中，接着自底向上向根节点折回，于在插入期间成为不平衡的所有节点上进行旋转来完成。<br>\n",
    "因为折回到根节点的路途上最多有 $ 1.5 $ 乘 $ log n $  个节点，而每次 AVL 旋转都耗费恒定的时间，插入处理在整体上耗费 $ O{(log n)} $ 时间。<br>\n",
    "在平衡的的二叉排序树Balanced BST上插入一个新的数据元素e的递归算法可描述如下：<br>\n",
    "若BBST为空树，则插入一个数据元素为e的新结点作为BBST的根结点，树的深度增1；<br>\n",
    "若e的关键字和BBST的根结点的关键字相等，则不进行；<br> \n",
    "若e的关键字小于BBST的根结点的关键字，而且在BBST的左子树中不存在和e有相同关键字的结点，则将e插入在BBST的左子树上，并且当插入之后的左子树深度增加（+1）时，分别就下列不同情况处理之：<br>\n",
    "BBST的根结点的平衡因子为-1（右子树的深度大于左子树的深度，则将根结点的平衡因子更改为0，BBST的深度不变；\n",
    "BBST的根结点的平衡因子为 0（左、右子树的深度相等）：则将根结点的平衡因子更改为 1，BBST的深度增 1；<br>\n",
    "BBST的根结点的平衡因子为 1（左子树的深度大于右子树的深度）：则若BBST的左子树根结点的平衡因子为 1：则需进行单向右旋平衡处理，并且在右旋处理之后，将根结点和其右子树根结点的平衡因子更改为 0，树的深度不变； <br>\n",
    "若e的关键字大于BBST的根结点的关键字，而且在BBST的右子树中不存在和 e 有相同关键字的结点，则将e插入在BBST的右子树上，并且当插入之后的右子树深度增加（+1）时，分别就不同情况处理之。<br>\n",
    "\n",
    "### 删除\n",
    "\n",
    "从AVL树中删除可以通过把要删除的节点向下旋转成一个叶子节点，接着直接剪除这个叶子节点来完成。因为在旋转成叶子节点期间最多有 $ log n $ 个节点被旋转，而每次 AVL 旋转耗费恒定的时间，删除处理在整体上耗费 $ O{(log n)} $ 时间。\n",
    "\n",
    "### 查找\n",
    "\n",
    "在AVL树中查找同在一般BST完全一样的进行，所以耗费 $ O{(log n)} $ 时间，因为AVL树总是保持平衡的。不需要特殊的准备，树的结构不会由于查询而改变。（这是与伸展树查找相对立的，它会因为查找而变更树结构。）\n",
    "\n",
    "## 代码\n",
    "[avl_tree.py]{..\\src\\data_structures\\binary_tree\\avl_tree.py}"
   ],
   "cell_type": "markdown",
   "metadata": {}
  },
  {
   "cell_type": "code",
   "execution_count": 1,
   "metadata": {},
   "outputs": [],
   "source": [
    "\"\"\"\n",
    "Prepare\n",
    "   1. sys.path 中增加 TheAlgorithms\\src 子模块\n",
    "\n",
    "\"\"\"\n",
    "import sys\n",
    "sys.path.append('E:\\dev\\AI\\TheAlgorithms\\src')\n"
   ]
  },
  {
   "source": [
    "## 案例一： \n",
    "- 加密  `encode(plain: str) -> list[int]`\n",
    "```\n",
    "     >>> encode(\"myname\")\n",
    "    [13, 25, 14, 1, 13, 5]\n",
    "```\n",
    "- 解密 `decode(encoded: list[int]) -> str`\n",
    "```\n",
    "    >>> decode([13, 25, 14, 1, 13, 5])\n",
    "    'myname'\n",
    "```\n"
   ],
   "cell_type": "markdown",
   "metadata": {}
  },
  {
   "cell_type": "code",
   "execution_count": 7,
   "metadata": {},
   "outputs": [
    {
     "output_type": "stream",
     "name": "stdout",
     "text": [
      "lst:[4, 6, 0, 5, 1, 2, 3, 8, 9, 7]\ninsert:4\n 4 \n*************************************\ninsert:6\n  4  \n *  6 \n*************************************\ninsert:0\n  4  \n 0  6 \n*************************************\ninsert:5\n    4    \n  0    6  \n *  *  5  * \n*************************************\ninsert:1\n    4    \n  0    6  \n *  1  5  * \n*************************************\ninsert:2\nright rotation node: 0\n    4    \n  1    6  \n 0  2  5  * \n*************************************\ninsert:3\n        4        \n    1        6    \n  0    2    5    *  \n *  *  *  3  *  *  *  * \n*************************************\ninsert:8\n        4        \n    1        6    \n  0    2    5    8  \n *  *  *  3  *  *  *  * \n*************************************\ninsert:9\n        4        \n    1        6    \n  0    2    5    8  \n *  *  *  3  *  *  *  9 \n*************************************\ninsert:7\n        4        \n    1        6    \n  0    2    5    8  \n *  *  *  3  *  *  7  9 \n*************************************\nlst:[0, 9, 2, 1, 3, 8, 6, 7, 5, 4]\ndelete:0\n        4        \n    1        6    \n  *    2    5    8  \n *  *  *  3  *  *  7  9 \n*************************************\ndelete:9\n        4        \n    1        6    \n  *    2    5    8  \n *  *  *  3  *  *  7  * \n*************************************\ndelete:2\nright rotation node: 1\nright rotation node: 4\n        6        \n    4        8    \n  3    5    7    *  \n 1  *  *  *  *  *  *  * \n*************************************\ndelete:1\n    6    \n  4    8  \n 3  5  7  * \n*************************************\ndelete:3\n    6    \n  4    8  \n *  5  7  * \n*************************************\ndelete:8\n    6    \n  4    7  \n *  5  *  * \n*************************************\ndelete:6\n    7    \n  4    *  \n *  5  *  * \n*************************************\ndelete:7\n"
     ]
    },
    {
     "output_type": "error",
     "ename": "AssertionError",
     "evalue": "",
     "traceback": [
      "\u001b[1;31m---------------------------------------------------------------------------\u001b[0m",
      "\u001b[1;31mAssertionError\u001b[0m                            Traceback (most recent call last)",
      "\u001b[1;32m<ipython-input-7-6723779e6fa8>\u001b[0m in \u001b[0;36m<module>\u001b[1;34m\u001b[0m\n\u001b[0;32m     15\u001b[0m \u001b[0mprint\u001b[0m\u001b[1;33m(\u001b[0m\u001b[1;34mf\"lst:{lst}\"\u001b[0m\u001b[1;33m)\u001b[0m\u001b[1;33m\u001b[0m\u001b[1;33m\u001b[0m\u001b[0m\n\u001b[0;32m     16\u001b[0m \u001b[1;32mfor\u001b[0m \u001b[0mi\u001b[0m \u001b[1;32min\u001b[0m \u001b[0mlst\u001b[0m\u001b[1;33m:\u001b[0m\u001b[1;33m\u001b[0m\u001b[1;33m\u001b[0m\u001b[0m\n\u001b[1;32m---> 17\u001b[1;33m     \u001b[0mt\u001b[0m\u001b[1;33m.\u001b[0m\u001b[0mdel_node\u001b[0m\u001b[1;33m(\u001b[0m\u001b[0mi\u001b[0m\u001b[1;33m)\u001b[0m\u001b[1;33m\u001b[0m\u001b[1;33m\u001b[0m\u001b[0m\n\u001b[0m\u001b[0;32m     18\u001b[0m     \u001b[0mprint\u001b[0m\u001b[1;33m(\u001b[0m\u001b[0mstr\u001b[0m\u001b[1;33m(\u001b[0m\u001b[0mt\u001b[0m\u001b[1;33m)\u001b[0m\u001b[1;33m)\u001b[0m\u001b[1;33m\u001b[0m\u001b[1;33m\u001b[0m\u001b[0m\n",
      "\u001b[1;32mE:\\dev\\AI\\TheAlgorithms\\src\\data_structures\\binary_tree\\avl_tree.py\u001b[0m in \u001b[0;36mdel_node\u001b[1;34m(self, data)\u001b[0m\n\u001b[0;32m    290\u001b[0m             \u001b[0mprint\u001b[0m\u001b[1;33m(\u001b[0m\u001b[1;34m\"Tree is empty!\"\u001b[0m\u001b[1;33m)\u001b[0m\u001b[1;33m\u001b[0m\u001b[1;33m\u001b[0m\u001b[0m\n\u001b[0;32m    291\u001b[0m             \u001b[1;32mreturn\u001b[0m\u001b[1;33m\u001b[0m\u001b[1;33m\u001b[0m\u001b[0m\n\u001b[1;32m--> 292\u001b[1;33m         \u001b[0mself\u001b[0m\u001b[1;33m.\u001b[0m\u001b[0mroot\u001b[0m \u001b[1;33m=\u001b[0m \u001b[0mdel_node\u001b[0m\u001b[1;33m(\u001b[0m\u001b[0mself\u001b[0m\u001b[1;33m.\u001b[0m\u001b[0mroot\u001b[0m\u001b[1;33m,\u001b[0m \u001b[0mdata\u001b[0m\u001b[1;33m)\u001b[0m\u001b[1;33m\u001b[0m\u001b[1;33m\u001b[0m\u001b[0m\n\u001b[0m\u001b[0;32m    293\u001b[0m \u001b[1;33m\u001b[0m\u001b[0m\n\u001b[0;32m    294\u001b[0m     def __str__(\n",
      "\u001b[1;32mE:\\dev\\AI\\TheAlgorithms\\src\\data_structures\\binary_tree\\avl_tree.py\u001b[0m in \u001b[0;36mdel_node\u001b[1;34m(root, data)\u001b[0m\n\u001b[0;32m    235\u001b[0m             \u001b[0mroot\u001b[0m \u001b[1;33m=\u001b[0m \u001b[0mright_rotation\u001b[0m\u001b[1;33m(\u001b[0m\u001b[0mroot\u001b[0m\u001b[1;33m)\u001b[0m\u001b[1;33m\u001b[0m\u001b[1;33m\u001b[0m\u001b[0m\n\u001b[0;32m    236\u001b[0m         \u001b[1;32melse\u001b[0m\u001b[1;33m:\u001b[0m\u001b[1;33m\u001b[0m\u001b[1;33m\u001b[0m\u001b[0m\n\u001b[1;32m--> 237\u001b[1;33m             \u001b[0mroot\u001b[0m \u001b[1;33m=\u001b[0m \u001b[0mlr_rotation\u001b[0m\u001b[1;33m(\u001b[0m\u001b[0mroot\u001b[0m\u001b[1;33m)\u001b[0m\u001b[1;33m\u001b[0m\u001b[1;33m\u001b[0m\u001b[0m\n\u001b[0m\u001b[0;32m    238\u001b[0m     \u001b[0mheight\u001b[0m \u001b[1;33m=\u001b[0m \u001b[0mmy_max\u001b[0m\u001b[1;33m(\u001b[0m\u001b[0mget_height\u001b[0m\u001b[1;33m(\u001b[0m\u001b[0mroot\u001b[0m\u001b[1;33m.\u001b[0m\u001b[0mget_right\u001b[0m\u001b[1;33m(\u001b[0m\u001b[1;33m)\u001b[0m\u001b[1;33m)\u001b[0m\u001b[1;33m,\u001b[0m \u001b[0mget_height\u001b[0m\u001b[1;33m(\u001b[0m\u001b[0mroot\u001b[0m\u001b[1;33m.\u001b[0m\u001b[0mget_left\u001b[0m\u001b[1;33m(\u001b[0m\u001b[1;33m)\u001b[0m\u001b[1;33m)\u001b[0m\u001b[1;33m)\u001b[0m \u001b[1;33m+\u001b[0m \u001b[1;36m1\u001b[0m\u001b[1;33m\u001b[0m\u001b[1;33m\u001b[0m\u001b[0m\n\u001b[0;32m    239\u001b[0m     \u001b[0mroot\u001b[0m\u001b[1;33m.\u001b[0m\u001b[0mset_height\u001b[0m\u001b[1;33m(\u001b[0m\u001b[0mheight\u001b[0m\u001b[1;33m)\u001b[0m\u001b[1;33m\u001b[0m\u001b[1;33m\u001b[0m\u001b[0m\n",
      "\u001b[1;32mE:\\dev\\AI\\TheAlgorithms\\src\\data_structures\\binary_tree\\avl_tree.py\u001b[0m in \u001b[0;36mlr_rotation\u001b[1;34m(node)\u001b[0m\n\u001b[0;32m    138\u001b[0m     \"\"\"\n\u001b[0;32m    139\u001b[0m     \u001b[0mleft_child\u001b[0m \u001b[1;33m=\u001b[0m \u001b[0mnode\u001b[0m\u001b[1;33m.\u001b[0m\u001b[0mget_left\u001b[0m\u001b[1;33m(\u001b[0m\u001b[1;33m)\u001b[0m\u001b[1;33m\u001b[0m\u001b[1;33m\u001b[0m\u001b[0m\n\u001b[1;32m--> 140\u001b[1;33m     \u001b[1;32massert\u001b[0m \u001b[0mleft_child\u001b[0m \u001b[1;32mis\u001b[0m \u001b[1;32mnot\u001b[0m \u001b[1;32mNone\u001b[0m\u001b[1;33m\u001b[0m\u001b[1;33m\u001b[0m\u001b[0m\n\u001b[0m\u001b[0;32m    141\u001b[0m     \u001b[0mnode\u001b[0m\u001b[1;33m.\u001b[0m\u001b[0mset_left\u001b[0m\u001b[1;33m(\u001b[0m\u001b[0mleft_rotation\u001b[0m\u001b[1;33m(\u001b[0m\u001b[0mleft_child\u001b[0m\u001b[1;33m)\u001b[0m\u001b[1;33m)\u001b[0m\u001b[1;33m\u001b[0m\u001b[1;33m\u001b[0m\u001b[0m\n\u001b[0;32m    142\u001b[0m     \u001b[1;32mreturn\u001b[0m \u001b[0mright_rotation\u001b[0m\u001b[1;33m(\u001b[0m\u001b[0mnode\u001b[0m\u001b[1;33m)\u001b[0m\u001b[1;33m\u001b[0m\u001b[1;33m\u001b[0m\u001b[0m\n",
      "\u001b[1;31mAssertionError\u001b[0m: "
     ]
    }
   ],
   "source": [
    "from data_structures.binary_tree.avl_tree import  _test,AVLtree\n",
    "import random\n",
    "\"\"\"\n",
    "\"\"\"\n",
    "# _test()\n",
    "t = AVLtree()\n",
    "lst = list(range(10))\n",
    "random.shuffle(lst)\n",
    "print(f\"lst:{lst}\")\n",
    "for i in lst:\n",
    "    t.insert(i)\n",
    "    print(str(t))\n",
    "\n",
    "random.shuffle(lst)\n",
    "print(f\"lst:{lst}\")\n",
    "for i in lst:\n",
    "    t.del_node(i)\n",
    "    print(str(t))\n"
   ]
  },
  {
   "cell_type": "code",
   "execution_count": null,
   "metadata": {},
   "outputs": [],
   "source": []
  }
 ]
}