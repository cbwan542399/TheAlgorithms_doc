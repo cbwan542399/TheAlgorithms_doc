{
 "metadata": {
  "language_info": {
   "codemirror_mode": {
    "name": "ipython",
    "version": 3
   },
   "file_extension": ".py",
   "mimetype": "text/x-python",
   "name": "python",
   "nbconvert_exporter": "python",
   "pygments_lexer": "ipython3",
   "version": "3.8.0"
  },
  "orig_nbformat": 2,
  "kernelspec": {
   "name": "python3",
   "display_name": "Python 3.8.0  ('myaivenv': venv)"
  },
  "metadata": {
   "interpreter": {
    "hash": "4570298ddf55f12d72b384cb5a92401407339203adac8a4a881fb11d70b7d0b5"
   }
  },
  "interpreter": {
   "hash": "4570298ddf55f12d72b384cb5a92401407339203adac8a4a881fb11d70b7d0b5"
  }
 },
 "nbformat": 4,
 "nbformat_minor": 2,
 "cells": [
  {
   "source": [
    "\n",
    "# Conway's Game of Life 康威生命游戏\n",
    "\n",
    "剑桥大学约翰·何顿·康威(John Horton Conway)教授设计了一个叫做“生命游戏”的计算机程序，美国趣味数学大师马丁·加德纳(Martin Gardner，1914-2010）通过《科学美国人》杂志，将康威的生命游戏介绍给学术界之外的广大渎者，一时吸引了各行各业一大批人的兴趣，这时细胞自动机课题才吸引了科学家的注意\n",
    "\n",
    "- 生命游戏概述 <br>\n",
    "生命游戏(Game of Life)没有游戏玩家各方之间的竞争，也谈不上输赢，可以把它归类为仿真游戏。事实上，也是因为它模拟和显示的图像看起来颇似生命的出生和繁衍过程而得名为“生命游戏”。在游戏进行中，杂乱无序的细胞会逐渐演化出各种精致、有形的结构；这些结构往往有很好的对称性，而且每一代都在变化形状。一些形状一经锁定就不会逐代变化。有时，一些已经成形的结构会因为一些无序细胞的“入侵”而被破坏。但是形状和秩序经常能从杂乱中产生出来。<br>\n",
    "生命游戏是一个二维网格游戏，这个网格中每个方格居住着一个活着或死了的细胞。一个细胞在下一个时刻的生死取决于相邻8个方格中活着或死了的细胞的数量。如果相邻方格活着的细胞数量过多，这个细胞会因为资源匮乏而在下一个时刻死去；相反，如果周围活细胞过少，这个细胞会因为孤单而死去。在游戏初始阶段，玩家可以设定周围活细胞(邻居)的数目和位置。如果邻居细胞数目设定过高，网格中大部分细胞会因为找不到资源而死去，直到整个网格都没有生命；如果邻居细胞数目设定过低，世界中又会因为生命稀少而得不到繁衍。实际中，邻居细胞数目一般选取2或者3；这样整个生命世界才不至于太过荒凉或拥挤，而是一种动态平衡。游戏规则是：当一个方格周围有两个或3个活细胞时，方格中的活细胞在下一个时刻继续存活；即使这个时刻方格中没有活细胞，在下一个时刻也会“诞生”活细胞。在这个游戏中，还可以设定一些更加复杂的规则，例如当前方格的状态不仅由父一代决定，而且还考虑到祖父一代的情况。<br>\n",
    "每个方格中都可放置一个生命细胞，每个生命细胞只有两种状态：<br>\n",
    "“生”或“死”。用黑色方格表示该细胞为“生”，空格(白色)表示该细胞为“死”。或者说方格网中黑色部分表示某个时候某种“生命”的分布图。生命游戏想要模拟的是：随着时间的流逝，这个分布图将如何一代一代地变化。 <br>\n",
    "- 生命游戏的生存定律\n",
    "游戏开始时，每个细胞随机地设定为“生”或“死”之一的某个状态。然后，根据某种规则，计算出下一代每个细胞的状态，画出下一代细胞的生死分布图。<br>\n",
    "应该规定什么样的迭代规则呢?需要一个简单的，但又反映生命之间既协同又竞争的生存定律。为简单起见，最基本的考虑是假设每一个细胞都遵循完全一样的生存定律；再进一步，把细胞之间的相互影响只限制在最靠近该细胞的8个邻居中。<br>\n",
    "也就是说，每个细胞迭代后的状态由该细胞及周围8个细胞状态所决定。作了这些限制后，仍然还有很多方法来规定“生存定律”的具体细节。例如，在康威的生命游戏中，规定了如下生存定律。<br>\n",
    "  - (1)当前细胞为死亡状态时，当周围有3个存活细胞时，则迭代后该细胞变成存活状态(模拟繁殖)；若原先为生，则保持不变。<br>\n",
    "  - (2)当前细胞为存活状态时，当周围的邻居细胞低于两个(不包含两个)存活时，该细胞变成死亡状态(模拟生命数量稀少)。<br>\n",
    "  - (3)当前细胞为存活状态时，当周围有两个或3个存活细胞时，该细胞保持原样。<br>\n",
    "  - (4)当前细胞为存活状态时，当周围有3个以上的存活细胞时，该细胞变成死亡状态(模拟生命数量过多)。<br>\n",
    "可以把最初的细胞结构定义为种子，当所有种子细胞按以上规则处理后，可以得到第1代细胞图。按规则继续处理当前的细胞图，可以得到下一代的细胞图，周而复始。\n",
    "上面的生存定律当然可以任意改动，发明出不同的“生命游戏” <br>\n",
    "\n",
    "\n",
    "\n",
    "## 代码\n",
    "[conways_game_of_life.py]{..\\src\\cellular_automata\\conways_game_of_life.py}"
   ],
   "cell_type": "markdown",
   "metadata": {}
  },
  {
   "cell_type": "code",
   "execution_count": 1,
   "metadata": {},
   "outputs": [],
   "source": [
    "\"\"\"\n",
    "Prepare\n",
    "   1. sys.path 中增加 TheAlgorithms\\src 子模块\n",
    "\n",
    "\"\"\"\n",
    "import sys\n",
    "sys.path.append('E:\\dev\\AI\\TheAlgorithms\\src')\n"
   ]
  },
  {
   "source": [
    "## 案例一\n",
    " Generates the next generation for a given state of Conway's Game of Life"
   ],
   "cell_type": "markdown",
   "metadata": {}
  },
  {
   "cell_type": "code",
   "execution_count": 2,
   "metadata": {},
   "outputs": [
    {
     "output_type": "stream",
     "name": "stdout",
     "text": [
      "[[0, 0, 0], [1, 1, 1], [0, 0, 0]]\n"
     ]
    }
   ],
   "source": [
    "from cellular_automata.conways_game_of_life import new_generation\n",
    "\"\"\"\n",
    "\"\"\"\n",
    "# Define blinker example\n",
    "BLINKER = [[0, 1, 0], [0, 1, 0], [0, 1, 0]]\n",
    "#  Generates the next generation for a given state of Conway's Game of Life.\n",
    "print(new_generation(BLINKER)) #  [[0, 0, 0], [1, 1, 1], [0, 0, 0]]"
   ]
  },
  {
   "source": [
    "## 案例二\n",
    "\n",
    "将演变过程形成gif 图像\n",
    "\n",
    "![gif](conways_game_of_life_files/conways_game_of_life_1_1.gif)\n",
    " "
   ],
   "cell_type": "markdown",
   "metadata": {}
  },
  {
   "cell_type": "code",
   "execution_count": 8,
   "metadata": {},
   "outputs": [],
   "source": [
    "from cellular_automata.conways_game_of_life import generate_images\n",
    "\"\"\"\n",
    "\"\"\"\n",
    "# Define glider example\n",
    "GLIDER = [\n",
    "    [0, 1, 0, 0, 0, 0, 0, 0],\n",
    "    [0, 0, 1, 0, 0, 0, 0, 0],\n",
    "    [1, 1, 1, 0, 0, 0, 0, 0],\n",
    "    [0, 0, 0, 0, 0, 0, 0, 0],\n",
    "    [0, 0, 0, 0, 0, 0, 0, 0],\n",
    "    [0, 0, 0, 0, 0, 0, 0, 0],\n",
    "    [0, 0, 0, 0, 0, 0, 0, 0],\n",
    "    [0, 0, 0, 0, 0, 0, 0, 0],\n",
    "]\n",
    "images = generate_images(GLIDER, 16)\n",
    "images[0].save(\"conways_game_of_life_1_1.gif\", save_all=True, append_images=images[1:], duration=0.5)"
   ]
  },
  {
   "source": [
    "## 案例三\n",
    "\n",
    "自定义class GameOfLife(object)，初始值 动态生成，进行演变"
   ],
   "cell_type": "markdown",
   "metadata": {}
  },
  {
   "cell_type": "code",
   "execution_count": 14,
   "metadata": {},
   "outputs": [
    {
     "output_type": "display_data",
     "data": {
      "text/plain": "<Figure size 432x288 with 1 Axes>",
      "image/png": "[encoded data removed]"
     },
     "metadata": {
      "needs_background": "light"
     }
    },
    {
     "output_type": "display_data",
     "data": {
      "text/plain": "<Figure size 432x288 with 1 Axes>",
      "image/png": "[encoded data removed]"
     },
     "metadata": {
      "needs_background": "light"
     }
    }
   ],
   "source": [
    "import numpy as np\n",
    "import matplotlib.pyplot as plt\n",
    "class GameOfLife(object):\n",
    "  def __init__(self, cells_shape):\n",
    "    \"\"\"\n",
    "    Parameters\n",
    "    ----------\n",
    "    cells_shape : 一个元组，表示画布的大小。\n",
    "    Examples\n",
    "    --------\n",
    "    建立一个高20，宽30的画布\n",
    "    game = GameOfLife((20, 30))    \n",
    "    \"\"\"\n",
    "    # 矩阵的四周不参与运算\n",
    "    self.cells = np.zeros(cells_shape)\n",
    "    real_width = cells_shape[0] - 2\n",
    "    real_height = cells_shape[1] - 2   \n",
    "    self.cells[1:-1, 1:-1] = np.random.randint(2, size=(real_width, real_height))\n",
    "    self.timer = 0\n",
    "    self.mask = np.ones(9)\n",
    "    self.mask[4] = 0  \n",
    "  def update_state(self):\n",
    "    \"\"\"更新一次状态\"\"\"\n",
    "    buf = np.zeros(self.cells.shape)\n",
    "    cells = self.cells\n",
    "    for i in range(1, cells.shape[0] - 1):\n",
    "      for j in range(1, cells.shape[0] - 1):\n",
    "        # 计算该细胞周围的存活细胞数\n",
    "        neighbor = cells[i-1:i+2, j-1:j+2].reshape((-1, ))\n",
    "        neighbor_num = np.convolve(self.mask, neighbor, 'valid')[0]\n",
    "        if neighbor_num == 3:\n",
    "          buf[i, j] = 1\n",
    "        elif neighbor_num == 2:\n",
    "          buf[i, j] = cells[i, j]\n",
    "        else:\n",
    "          buf[i, j] = 0\n",
    "    self.cells = buf\n",
    "    self.timer += 1  \n",
    "  def plot_state(self):\n",
    "    \"\"\"画出当前的状态\"\"\"\n",
    "    plt.title('Iter :{}'.format(self.timer))\n",
    "    plt.imshow(self.cells)\n",
    "    plt.show()\n",
    "  def update_and_plot(self, n_iter):\n",
    "    \"\"\"更新状态并画图\n",
    "    Parameters\n",
    "    ----------\n",
    "    n_iter : 更新的轮数\n",
    "    \"\"\"\n",
    "    plt.ion()\n",
    "    for _ in range(n_iter):\n",
    "      plt.title('Iter :{}'.format(self.timer))\n",
    "      plt.imshow(self.cells)\n",
    "      self.update_state()\n",
    "      plt.pause(0.2)\n",
    "    plt.ioff()\n",
    "# if __name__ == '__main__':\n",
    "game = GameOfLife(cells_shape=(8, 8))\n",
    "game.update_and_plot(2)"
   ]
  },
  {
   "cell_type": "code",
   "execution_count": null,
   "metadata": {},
   "outputs": [],
   "source": []
  }
 ]
}