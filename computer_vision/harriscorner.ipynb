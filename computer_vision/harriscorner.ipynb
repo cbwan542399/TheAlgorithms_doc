{
 "metadata": {
  "language_info": {
   "codemirror_mode": {
    "name": "ipython",
    "version": 3
   },
   "file_extension": ".py",
   "mimetype": "text/x-python",
   "name": "python",
   "nbconvert_exporter": "python",
   "pygments_lexer": "ipython3",
   "version": "3.8.0"
  },
  "orig_nbformat": 2,
  "kernelspec": {
   "name": "python3",
   "display_name": "Python 3.8.0 64-bit ('myaivenv': venv)"
  },
  "metadata": {
   "interpreter": {
    "hash": "4570298ddf55f12d72b384cb5a92401407339203adac8a4a881fb11d70b7d0b5"
   }
  },
  "interpreter": {
   "hash": "4570298ddf55f12d72b384cb5a92401407339203adac8a4a881fb11d70b7d0b5"
  }
 },
 "nbformat": 4,
 "nbformat_minor": 2,
 "cells": [
  {
   "source": [
    "# harriscorner \n",
    "\n",
    "[Harris角点检测原理详解]{https://blog.csdn.net/lwzkiller/article/details/54633670?utm_term=Harris%E8%A7%92%E7%82%B9%E6%A3%80%E6%B5%8B%E7%AE%97%E6%B3%95&utm_medium=distribute.pc_aggpage_search_result.none-task-blog-2~all~sobaiduweb~default-0-54633670&spm=3001.4430}\n",
    "\n",
    "\n",
    "\n",
    "## 代码\n",
    "[harriscorner.py]{..\\src\\computer_vision\\harriscorner.py}"
   ],
   "cell_type": "markdown",
   "metadata": {}
  },
  {
   "cell_type": "code",
   "execution_count": 1,
   "metadata": {},
   "outputs": [],
   "source": [
    "\"\"\"\n",
    "Prepare\n",
    "   1. sys.path 中增加 TheAlgorithms\\src 子模块\n",
    "\n",
    "\"\"\"\n",
    "import sys\n",
    "sys.path.append('E:\\dev\\AI\\TheAlgorithms\\src')\n"
   ]
  },
  {
   "source": [
    "## 案例一： all_rotations\n",
    "```\n",
    "all_rotations(s: str) -> list[str]:\n",
    "\"\"\"\n",
    ":param s: The string that will be rotated len(s) t\n",
    ":return: A list with the rotations.\n",
    ":raises TypeError: If s is not an instance of str.\n",
    "\"\"\"\n",
    "```"
   ],
   "cell_type": "markdown",
   "metadata": {}
  },
  {
   "cell_type": "code",
   "execution_count": 4,
   "metadata": {},
   "outputs": [
    {
     "output_type": "stream",
     "name": "stdout",
     "text": [
      "['^BANANA|', 'BANANA|^', 'ANANA|^B', 'NANA|^BA', 'ANA|^BAN', 'NA|^BANA', 'A|^BANAN', '|^BANANA']\n['a_asa_da_casa', '_asa_da_casaa', 'asa_da_casaa_', 'sa_da_casaa_a', 'a_da_casaa_as', '_da_casaa_asa', 'da_casaa_asa_', 'a_casaa_asa_d', '_casaa_asa_da', 'casaa_asa_da_', 'asaa_asa_da_c', 'saa_asa_da_ca', 'aa_asa_da_cas']\n['panamabanana', 'anamabananap', 'namabananapa', 'amabananapan', 'mabananapana', 'abananapanam', 'bananapanama', 'ananapanamab', 'nanapanamaba', 'anapanamaban', 'napanamabana', 'apanamabanan']\n"
     ]
    },
    {
     "output_type": "execute_result",
     "data": {
      "text/plain": [
       "\"\\n  ['panamabanana', 'anamabananap', 'namabananapa', 'amabananapan'\\n  'mabananapana', 'abananapanam', 'bananapanama', 'ananapanamab',\\n  'nanapanamaba', 'anapanamaban', 'napanamabana', 'apanamabanan']\\n\""
      ]
     },
     "metadata": {},
     "execution_count": 4
    }
   ],
   "source": [
    "from compression.lempel_ziv import lempel_ziv\n",
    "\"\"\"\n",
    "\"\"\"\n"
   ]
  },
  {
   "cell_type": "code",
   "execution_count": null,
   "metadata": {},
   "outputs": [],
   "source": []
  }
 ]
}