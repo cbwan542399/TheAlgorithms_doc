{
 "metadata": {
  "language_info": {
   "codemirror_mode": {
    "name": "ipython",
    "version": 3
   },
   "file_extension": ".py",
   "mimetype": "text/x-python",
   "name": "python",
   "nbconvert_exporter": "python",
   "pygments_lexer": "ipython3",
   "version": "3.8.0"
  },
  "orig_nbformat": 2,
  "kernelspec": {
   "name": "python3",
   "display_name": "Python 3.8.0  ('myaivenv': venv)"
  },
  "metadata": {
   "interpreter": {
    "hash": "4570298ddf55f12d72b384cb5a92401407339203adac8a4a881fb11d70b7d0b5"
   }
  },
  "interpreter": {
   "hash": "4570298ddf55f12d72b384cb5a92401407339203adac8a4a881fb11d70b7d0b5"
  }
 },
 "nbformat": 4,
 "nbformat_minor": 2,
 "cells": [
  {
   "source": [
    "\n",
    "# Quine–McCluskey 算法\n",
    "逻辑函数化简算法 <br>\n",
    "化简布尔表达式 <br>\n",
    "\n",
    "\n",
    "首先，对于一个布尔表达式，肯定可以用布尔代数里的那一系列定理和定律进行化简。但是，我想除非布尔表达式的项非常少且可化简项显而易见，否则应该没人会去用那一套方法。而且，就算你能化简，你也不一定能保证化简结果是最简的。\n",
    "化简布尔表达式，首先想到的应该是卡诺图。卡诺图的操作方法非常简单，概括起来就是两字：画圈。而且，不只是画圈，还是画各种圈。对于3~4个变量组成的布尔表达式，运用卡诺图可以很快地化简。但是，当输入变量一多，光是构造一张卡诺图就很麻烦（对于10个变量，卡诺图就有 $ 2^{10} = 1024 $  个项）。\n",
    "\n",
    "- compare_string\n",
    "```\n",
    "def compare_string(string1: str, string2: str) -> str:\n",
    "    \"\"\"\n",
    "    >>> compare_string('0010','0110')\n",
    "    '0_10'\n",
    "\n",
    "    >>> compare_string('0110','1101')\n",
    "    'X'\n",
    "    \"\"\"\n",
    "```\n",
    "- check\n",
    "```\n",
    "def check(binary: List[str]) -> List[str]:\n",
    "    \"\"\"\n",
    "    >>> check(['0.00.01.5'])\n",
    "    ['0.00.01.5']\n",
    "    \"\"\"\n",
    "```\n",
    "- decimal_to_binary\n",
    "```\n",
    "def decimal_to_binary(no_of_variable: int, minterms: List[float]) -> List[str]:\n",
    "    \"\"\"\n",
    "    >>> decimal_to_binary(3,[1.5])\n",
    "    ['0.00.01.5']\n",
    "    \"\"\"\n",
    "```\n",
    "- is_for_table\n",
    "```\n",
    "def is_for_table(string1: str, string2: str, count: int) -> bool:\n",
    "    \"\"\"\n",
    "    >>> is_for_table('__1','011',2)\n",
    "    True\n",
    "\n",
    "    >>> is_for_table('01_','001',1)\n",
    "    False\n",
    "    \"\"\"\n",
    "```\n",
    "- selection\n",
    "\n",
    "```\n",
    "def selection(chart: List[List[int]], prime_implicants: List[str]) -> List[str]:\n",
    "    \"\"\"\n",
    "    >>> selection([[1]],['0.00.01.5'])\n",
    "    ['0.00.01.5']\n",
    "\n",
    "    >>> selection([[1]],['0.00.01.5'])\n",
    "    ['0.00.01.5']\n",
    "    \"\"\"\n",
    "```\n",
    "- prime_implicant_chart\n",
    "\n",
    "```\n",
    "def prime_implicant_chart(\n",
    "    prime_implicants: List[str], binary: List[str]\n",
    ") -> List[List[int]]:\n",
    "    \"\"\"\n",
    "    >>> prime_implicant_chart(['0.00.01.5'],['0.00.01.5'])\n",
    "    [[1]]\n",
    "    \"\"\"\n",
    "```\n",
    "\n",
    "## 代码\n",
    "[quine_mc_cluskey.py]{..\\src\\boolean_algebra\\quine_mc_cluskey.py}"
   ],
   "cell_type": "markdown",
   "metadata": {}
  },
  {
   "source": [
    "## 卡诺图 <br>\n",
    "卡诺图是逻辑函数的一种图形表示。一个逻辑函数的卡诺图就是将此函数的最小项表达式中的各最小项相应地填入一个方格图内，此方格图称为卡诺图。<br>\n",
    "卡诺图的构造特点使卡诺图具有一个重要性质：可以从图形上直观地找出相邻最小项。两个相邻最小项可以合并为一个与项并消去一个变量。<br>\n",
    "[卡诺图化简法详细介绍]{http://www.elecfans.com/baike/bandaoti/jichuzhishi/20100308182360.html} \n",
    "\n"
   ],
   "cell_type": "markdown",
   "metadata": {}
  },
  {
   "cell_type": "code",
   "execution_count": 33,
   "metadata": {},
   "outputs": [],
   "source": [
    "\"\"\"\n",
    "Prepare\n",
    "   1. sys.path 中增加 TheAlgorithms\\src 子模块\n",
    "\n",
    "\"\"\"\n",
    "import sys\n",
    "sys.path.append('E:\\dev\\AI\\TheAlgorithms\\src')\n"
   ]
  }
 ]
}