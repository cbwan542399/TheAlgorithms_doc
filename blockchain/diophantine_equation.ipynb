{
 "metadata": {
  "language_info": {
   "codemirror_mode": {
    "name": "ipython",
    "version": 3
   },
   "file_extension": ".py",
   "mimetype": "text/x-python",
   "name": "python",
   "nbconvert_exporter": "python",
   "pygments_lexer": "ipython3",
   "version": "3.8.0"
  },
  "orig_nbformat": 2,
  "kernelspec": {
   "name": "pythonjvsc74a57bd04570298ddf55f12d72b384cb5a92401407339203adac8a4a881fb11d70b7d0b5",
   "display_name": "Python 3.8.0  ('myaivenv': venv)"
  },
  "metadata": {
   "interpreter": {
    "hash": "4570298ddf55f12d72b384cb5a92401407339203adac8a4a881fb11d70b7d0b5"
   }
  }
 },
 "nbformat": 4,
 "nbformat_minor": 2,
 "cells": [
  {
   "source": [
    "\n",
    "# diophantine_equation  丢番图方程\n",
    "\n",
    "丢番图方程（Diophantine Equation）：有一个或者几个变量的整系数方程，它们的求解仅仅在整数范围内进行。最后这个限制使得丢番图方程求解与实数范围方程求解有根本的不同。<br>\n",
    "丢番图方程又名不定方程、整系数多项式方程，是变量仅容许是整数的多项式等式；<br>\n",
    "\n",
    "## 定义\n",
    "丢番图方程又名不定方程、整系数多项式方程，是变量仅容许是整数的多项式等式；即形式如下图的方程，\n",
    "$$ a_1x_1^{b_1} + a_2x_2^{b_2} +\\ldots+ a_nx_n^{b_n} = C $$\n",
    "\n",
    "\n",
    "其中所有的$ a_j,b_j $ 和 c 均是整数，若其中能找到一组整数解者则称之有整数解。\n",
    "丢番图问题有数条等式，其数目比未知数的数目少；<br>\n",
    "丢番图问题要求找出对所有等式都成立的整数组合。<br>\n",
    "对丢番图问题的数学研究称为丢番图分析 <br>\n",
    "3世纪希腊数学家亚历山大城的丢番图曾对这些方程进行研究。 <br>\n",
    "丢番图方程的例子有贝祖等式、勾股定理的整数解、四平方和定理和费马最后定理等。\n",
    "```\n",
    "\n",
    "\n",
    "\n",
    "## 代码\n",
    "[diophantine_equation.py]{..\\src\\blockchain\\diophantine_equation.py}"
   ],
   "cell_type": "markdown",
   "metadata": {}
  },
  {
   "cell_type": "code",
   "execution_count": 1,
   "metadata": {},
   "outputs": [],
   "source": [
    "\"\"\"\n",
    "Prepare\n",
    "   1. sys.path 中增加 TheAlgorithms\\src 子模块\n",
    "\n",
    "\"\"\"\n",
    "import sys\n",
    "sys.path.append('E:\\dev\\AI\\TheAlgorithms\\src')\n"
   ]
  },
  {
   "source": [
    "## 案例一： \n",
    "最简化的丢番图方程（Diophantine Equation） <br>\n",
    "Diophantine Equation : Given integers a,b,c ( at least one of a and b != 0), the\n",
    "diophantine equation a*x + b*y = c has a solution (where x and y are integers)\n",
    "iff gcd(a,b) divides c.\n"
   ],
   "cell_type": "markdown",
   "metadata": {}
  },
  {
   "cell_type": "code",
   "execution_count": 5,
   "metadata": {},
   "outputs": [
    {
     "output_type": "stream",
     "name": "stdout",
     "text": [
      "ax + by = c \n即：(10)*(-7) + (6)*(14) = (14) \nax + by = c \n即：(391)*(9) + (299)*(-12) = (-69) \n"
     ]
    }
   ],
   "source": [
    "from blockchain.diophantine_equation import diophantine\n",
    "\"\"\"\n",
    "\"\"\"\n",
    "# diophantine(10,6,14) #  (-7.0, 14.0)\n",
    "a,b,c = 10,6,14\n",
    "(x1,y1) = diophantine(a,b,c)\n",
    "(x,y) = (int(x1),int(y1))\n",
    "print ('ax + by = c ')\n",
    "print (f'即：({a})*({x}) + ({b})*({y}) = ({c}) ')\n",
    "\n",
    "# diophantine(391,299,-69)  #    (9.0, -12.0)\n",
    "a,b,c = 391,299,-69\n",
    "(x1,y1) = diophantine(a,b,c)\n",
    "(x,y) = (int(x1),int(y1))\n",
    "print ('ax + by = c ')\n",
    "print (f'即：({a})*({x}) + ({b})*({y}) = ({c}) ')\n",
    "\n"
   ]
  },
  {
   "source": [
    "## 案例二： \n",
    "最简化的丢番图方程（Diophantine Equation）\n",
    "Finding All solutions of Diophantine Equations:\n",
    "```\n",
    "diophantine_all_soln(a: int, b: int, c: int, n: int = 2) -> None:\n",
    "   # n is the number of solution you want, n = 2 by default\n",
    "```\n"
   ],
   "cell_type": "markdown",
   "metadata": {}
  },
  {
   "cell_type": "code",
   "execution_count": 10,
   "metadata": {},
   "outputs": [
    {
     "output_type": "stream",
     "name": "stdout",
     "text": [
      "diophantine_all_soln(10, 6, 14):\n-7.0 14.0\n-4.0 9.0\ndiophantine_all_soln(10, 6, 14, 4):\n-7.0 14.0\n-4.0 9.0\n-1.0 4.0\n2.0 -1.0\ndiophantine_all_soln(391, 299, -69, n = 4):\n9.0 -12.0\n22.0 -29.0\n35.0 -46.0\n48.0 -63.0\n"
     ]
    }
   ],
   "source": [
    "from blockchain.diophantine_equation import diophantine_all_soln\n",
    "\"\"\"\n",
    "\"\"\"\n",
    "\"\"\"\n",
    "   >>> diophantine_all_soln(10, 6, 14)\n",
    "    -7.0 14.0\n",
    "    -4.0 9.0\n",
    "\n",
    "    >>> diophantine_all_soln(10, 6, 14, 4)\n",
    "    -7.0 14.0\n",
    "    -4.0 9.0\n",
    "    -1.0 4.0\n",
    "    2.0 -1.0\n",
    "\n",
    "    >>> diophantine_all_soln(391, 299, -69, n = 4)\n",
    "    9.0 -12.0\n",
    "    22.0 -29.0\n",
    "    35.0 -46.0\n",
    "    48.0 -63.0\n",
    "\"\"\"\n",
    "print(\"diophantine_all_soln(10, 6, 14):\")\n",
    "diophantine_all_soln(10, 6, 14)\n",
    "\n",
    "print(\"diophantine_all_soln(10, 6, 14, 4):\")\n",
    "diophantine_all_soln(10, 6, 14, 4)\n",
    "\n",
    "print(\"diophantine_all_soln(391, 299, -69, n = 4):\")\n",
    "diophantine_all_soln(391, 299, -69, n = 4)\n",
    "\n"
   ]
  }
 ]
}