{
 "metadata": {
  "language_info": {
   "codemirror_mode": {
    "name": "ipython",
    "version": 3
   },
   "file_extension": ".py",
   "mimetype": "text/x-python",
   "name": "python",
   "nbconvert_exporter": "python",
   "pygments_lexer": "ipython3",
   "version": "3.8.0"
  },
  "orig_nbformat": 2,
  "kernelspec": {
   "name": "pythonjvsc74a57bd04570298ddf55f12d72b384cb5a92401407339203adac8a4a881fb11d70b7d0b5",
   "display_name": "Python 3.8.0  ('myaivenv': venv)"
  },
  "metadata": {
   "interpreter": {
    "hash": "4570298ddf55f12d72b384cb5a92401407339203adac8a4a881fb11d70b7d0b5"
   }
  }
 },
 "nbformat": 4,
 "nbformat_minor": 2,
 "cells": [
  {
   "source": [
    "\n",
    "# chinese_remainder_theorem   中国余数定理\n",
    "\n",
    "中国余数定理又称孙子定理，数学著作《孙子算经》卷下第二十六题，叫做“物不知数”问题，原文如下：\n",
    "有物不知其数，三三数之剩二，五五数之剩三，七七数之剩二。问物几何？即，一个整数除以三余二，除以五余三，除以七余二，求这个整数。<br>\n",
    "《孙子算经》中首次提到了同余方程组问题，以及以上具体问题的解法，因此在中文数学文献中也会将中国剩余定理称为孙子定理。其实，南宋数学家秦九韶在其著作《数书九章》中，系统的提出并证明了这一类问题的解法，因此这个定理也可以称为孙子秦九韶定理。<br>\n",
    "\n",
    "明朝数学家程大位将解法编成易于上口的《孙子歌诀》：\n",
    "\n",
    "三人同行七十稀，五树梅花廿一支，七子团圆正半月，除百零五使得知\n",
    "\n",
    "这个歌诀给出了模数为3、5、7时候的同余方程的秦九韶解法。意思是：将除以3得到的余数乘以70，将除以5得到的余数乘以21，将除以7得到的余数乘以15，全部加起来后除以105（或者105的倍数），得到的余数就是答案。比如说在以上的物不知数问题里面，按歌诀求出的结果就是23\n",
    "\n",
    "## 算法\n",
    "### 中国余数定理说明：\n",
    "   对于一元线性同余方程组 \n",
    "  $$ \n",
    "     (S)= \n",
    "     \\begin{cases}\n",
    "        x \\equiv a_1  \\quad ( mod \\quad {m_1}) \\\\\n",
    "        x \\equiv a_2  \\quad ( mod \\quad {m_2}) \\\\\n",
    "        \\cdots   \\\\\n",
    "        x \\equiv a_n  \\quad ( mod \\quad {m_n}) \\\\\n",
    "     \\end{cases}\n",
    "  $$ \n",
    "  假设整数 $ m_1,m_2, \\cdots ,m_n $两两互质，<br>\n",
    "\n",
    "则对任意的整数：$ a_1,a_2, \\cdots ,a_n $, 方程组有解，并且通解可以用如下方式构造得到：<br>\n",
    "\n",
    "设 $ M=m_1 \\times m_2 \\times \\cdots \\times m_n =\\prod_{i=1}^n m_i  $  <br>\n",
    "\n",
    "是整数$ m_1,m_2, \\cdots ,m_n $ 的乘积，<br>\n",
    "\n",
    "并设 $ M_i $ 是除了 $ m_i $ 以外的 $ n- 1 $ 个整数的乘积。\n",
    "\n",
    "### 欧几里得算法 ， 又称辗转相除法\n",
    "  GCD ( Greatest Common Divisor ) or HCF ( Highest Common Factor )\n",
    "   最大公约数；最大公因子\n",
    "求解两个正整数a，b的最大公约数：\n",
    "  gcd(a,b) = gcd(b,a mod b)\n",
    "示例：求 GCD (4851, 840)\n",
    "```\n",
    "解：\n",
    " 步骤1：\n",
    "     4851 / 840 = 5(余651)\n",
    "     gcd (4851, 840) = gcd (840, 651) \n",
    " 步骤2：\n",
    "     840 / 651 = 1(余189)\n",
    "     gcd (840, 651) = gcd (651, 189) \n",
    " 步骤3：\n",
    "     651 / 189 = 3(余84)\n",
    "     gcd (651, 189) = gcd (189, 84) \n",
    "  步骤4：\n",
    "     189 /84 = 2(余21)\n",
    "     gcd (189, 84) = gcd (84, 21) \n",
    "   步骤5：\n",
    "     84/21 = 4(余0)\n",
    "     gcd (84, 21) = 21 \n",
    "故：gcd (4851, 840) =21\n",
    "```\n",
    "### 扩展欧几里得算法\n",
    "   已知整数a、b，扩展欧几里得算法可以在求得a、b的最大公约数的同时，能找到整数x、y（其中一个很可能是负数），使它们满足等式：\n",
    "   $$ ax+by=gcd(a,b) $$ \n",
    "   \n",
    "## 范例：\n",
    "- 例1、一个数被5除余2，被6除余4，被7除余3，这个数最少是多少？<br>\n",
    "解：第一步：判断5，6，7两两互余。   <br>\n",
    "    第二步：计算5，6，7的最小公倍数，得5×6×7=210。<br>\n",
    "    第三步：计算各除数的逆元。<br>\n",
    "     将5去掉，计算6×7=42，42÷5=8……2，将余数2适当的扩大倍数，使除以5的余数是1，很显然这个倍数是3，也就是逆元是3；<br>\n",
    "    将6去掉，计算5×7=35，35÷6=5……5，将余数5适当的扩大倍数，使除以6的余数是1，很显然这个倍数是5，也就是逆元是5；<br>\n",
    "    将7去掉，计算5×6=30，30÷7=4……2，将余数2适当的扩大倍数，使除以7的余数是1，很显然这个倍数是4，也就是逆元是4；<br>\n",
    "   第四步：将余数和逆元和最小公倍数除以该数的商相乘，然后将各个结果相加，再除以最小公倍数所得的余数即为所求。计算42×3×2+35×5×4+30×4×3=1312，1312÷210=6……52，因此这个最小的数就是52。\n",
    "\n",
    "## 代码\n",
    "[chinese_remainder_theorem.py]{..\\src\\blockchain\\chinese_remainder_theorem.py}"
   ],
   "cell_type": "markdown",
   "metadata": {}
  },
  {
   "cell_type": "code",
   "execution_count": 1,
   "metadata": {},
   "outputs": [],
   "source": [
    "\"\"\"\n",
    "Prepare\n",
    "   1. sys.path 中增加 TheAlgorithms\\src 子模块\n",
    "\n",
    "\"\"\"\n",
    "import sys\n",
    "sys.path.append('E:\\dev\\AI\\TheAlgorithms\\src')\n"
   ]
  },
  {
   "source": [
    "## 案例一： \n",
    "扩展euclid\n",
    "```\n",
    "extended_euclid(a: int, b: int) -> Tuple[int, int]:\n",
    "```\n",
    "$$ ax+by=gcd(a,b) $$ \n",
    "\n",
    "求解 ：\n",
    "```\n",
    "  extended_euclid(10, 6) = (-1, 2) \n",
    "```\n",
    "代表 :\n",
    "  $$ ax+by=gcd(a,b) $$\n",
    "即：\n",
    "$$ 10*(-1)+6*(2) =gcd(10,6) =2  $$\n",
    "\n",
    "\n",
    "\n"
   ],
   "cell_type": "markdown",
   "metadata": {}
  },
  {
   "cell_type": "code",
   "execution_count": 2,
   "metadata": {},
   "outputs": [
    {
     "output_type": "stream",
     "name": "stdout",
     "text": [
      "a*x+b*y=gcd(a,b) : \n(10)*(-1) + (6)*(2) = gcd(10,6) \na*x+b*y=gcd(a,b): \n(7)*(-2) + (5)*(3) = gcd(7,5) \n"
     ]
    }
   ],
   "source": [
    "from blockchain.chinese_remainder_theorem import extended_euclid,chinese_remainder_theorem\n",
    "\"\"\"\n",
    "\"\"\"\n",
    "# extended_euclid(10, 6)  # (-1, 2)\n",
    "a,b=10,6\n",
    "(x,y) = extended_euclid(a, b)\n",
    "print ('a*x+b*y=gcd(a,b) : ')\n",
    "print (f'({a})*({x}) + ({b})*({y}) = gcd({a},{b}) ')\n",
    "\n",
    "# extended_euclid(7, 5)  #  (-2, 3)\n",
    "a,b=7,5\n",
    "(x,y) = extended_euclid(a, b)\n",
    "print ('a*x+b*y=gcd(a,b): ')\n",
    "print (f'({a})*({x}) + ({b})*({y}) = gcd({a},{b}) ')"
   ]
  },
  {
   "source": [
    "## 案例二： \n",
    "中国余数定理应用\n",
    "例：  X 除以 5 ，得余数 1\n",
    "      X 除以 7 ，得余数 3\n",
    " 求最小的整数 X;\n",
    "\n",
    "    \"\"\"\n",
    "    >>> chinese_remainder_theorem(5,1,7,3)\n",
    "    31\n",
    "\n",
    "    Explanation : 31 is the smallest number such that\n",
    "                (i)  When we divide it by 5, we get remainder 1\n",
    "                (ii) When we divide it by 7, we get remainder 3"
   ],
   "cell_type": "markdown",
   "metadata": {}
  },
  {
   "cell_type": "code",
   "execution_count": 3,
   "metadata": {},
   "outputs": [
    {
     "output_type": "stream",
     "name": "stdout",
     "text": [
      "31\n"
     ]
    }
   ],
   "source": [
    "from blockchain.chinese_remainder_theorem import extended_euclid,chinese_remainder_theorem\n",
    "\"\"\"\n",
    "chinese_remainder_theorem(n1: int, r1: int, n2: int, r2: int) -> int:\n",
    "  n1，r1:代表除数 ,余数\n",
    "  n2，r2: 类似\n",
    "\n",
    "  约束：参考参数代码，目前代码还仅限于两组条件，对于不限多组条件，尚需扩展\n",
    "\"\"\"\n",
    "print(chinese_remainder_theorem(5,1,7,3)) # 31\n",
    "\n",
    "# 一个数被5除余2，被6除余4，被7除余3，这个数最少是多少？\n",
    "# print(chinese_remainder_theorem(5,2,6,4,7,3)) # 52\n"
   ]
  },
  {
   "cell_type": "code",
   "execution_count": null,
   "metadata": {},
   "outputs": [],
   "source": []
  }
 ]
}