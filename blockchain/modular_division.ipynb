{
 "metadata": {
  "language_info": {
   "codemirror_mode": {
    "name": "ipython",
    "version": 3
   },
   "file_extension": ".py",
   "mimetype": "text/x-python",
   "name": "python",
   "nbconvert_exporter": "python",
   "pygments_lexer": "ipython3",
   "version": "3.8.0"
  },
  "orig_nbformat": 2,
  "kernelspec": {
   "name": "python3",
   "display_name": "Python 3.8.0  ('myaivenv': venv)"
  },
  "metadata": {
   "interpreter": {
    "hash": "4570298ddf55f12d72b384cb5a92401407339203adac8a4a881fb11d70b7d0b5"
   }
  },
  "interpreter": {
   "hash": "4570298ddf55f12d72b384cb5a92401407339203adac8a4a881fb11d70b7d0b5"
  }
 },
 "nbformat": 4,
 "nbformat_minor": 2,
 "cells": [
  {
   "source": [
    "\n",
    "# modular_division  模数除法\n",
    "\n",
    "- modular_division\n",
    "```\n",
    "def modular_division(a: int, b: int, n: int) -> int:\n",
    "    \"\"\"\n",
    "    Modular Division :\n",
    "    An efficient algorithm for dividing b by a modulo n.\n",
    "\n",
    "    GCD ( Greatest Common Divisor ) or HCF ( Highest Common Factor )\n",
    "\n",
    "    Given three integers a, b, and n, such that gcd(a,n)=1 and n>1, the algorithm should\n",
    "    return an integer x such that 0≤x≤n−1, and  b/a=x(modn) (that is, b=ax(modn)).\n",
    "\n",
    "    Theorem:\n",
    "    a has a multiplicative inverse modulo n iff gcd(a,n) = 1\n",
    "\n",
    "    This find x = b*a^(-1) mod n\n",
    "    Uses ExtendedEuclid to find the inverse of a\n",
    "\n",
    "    \"\"\"\n",
    "```\n",
    "- invert_modulo\n",
    "```\n",
    "def invert_modulo(a: int, n: int) -> int:\n",
    "    \"\"\"\n",
    "    This function find the inverses of a i.e., a^(-1)\n",
    "    \"\"\"\n",
    "```\n",
    "- modular_division2\n",
    "```\n",
    "def modular_division2(a: int, b: int, n: int) -> int:\n",
    "    \"\"\"\n",
    "    This function used the above inversion of a to find x = (b*a^(-1))mod n\n",
    "    \"\"\"\n",
    "```\n",
    "- extended_gcd\n",
    "```\n",
    "def extended_gcd(a: int, b: int) -> Tuple[int, int, int]:\n",
    "    \"\"\"\n",
    "    Extended Euclid's Algorithm : If d divides a and b and d = a*x + b*y for integers x\n",
    "    and y, then d = gcd(a,b)\n",
    "    \"\"\"\n",
    "```\n",
    "- extended_euclid\n",
    "```\n",
    "def extended_euclid(a: int, b: int) -> Tuple[int, int]:\n",
    "    \"\"\"\n",
    "    Extended Euclid\n",
    "    \"\"\"\n",
    "```\n",
    "\n",
    "def greatest_common_divisor(a: int, b: int) -> int:\n",
    "    \"\"\"\n",
    "    Euclid's Lemma :  d divides a and b, if and only if d divides a-b and b\n",
    "    Euclid's Algorithm\n",
    "    \n",
    "\n",
    "## 代码\n",
    "[modular_division.py]{..\\src\\blockchain\\modular_division.py}"
   ],
   "cell_type": "markdown",
   "metadata": {}
  },
  {
   "cell_type": "code",
   "execution_count": 33,
   "metadata": {},
   "outputs": [],
   "source": [
    "\"\"\"\n",
    "Prepare\n",
    "   1. sys.path 中增加 TheAlgorithms\\src 子模块\n",
    "\n",
    "\"\"\"\n",
    "import sys\n",
    "sys.path.append('E:\\dev\\AI\\TheAlgorithms\\src')\n"
   ]
  },
  {
   "source": [
    "## 案例一： modular_division\n",
    "```\n",
    "modular_division(\n",
    "    a: int, \n",
    "    b: int, \n",
    "    n: int) \n",
    "    -> int:\n",
    "    \"\"\"\n",
    "    b除以一个模n的有效算法。\n",
    "    \"\"\"\n",
    "```\n"
   ],
   "cell_type": "markdown",
   "metadata": {}
  },
  {
   "cell_type": "code",
   "execution_count": 34,
   "metadata": {},
   "outputs": [
    {
     "output_type": "stream",
     "name": "stdout",
     "text": [
      "2\n1\n4\n"
     ]
    }
   ],
   "source": [
    "from blockchain.modular_division import modular_division\n",
    "\"\"\"\n",
    "\"\"\"\n",
    "print(modular_division(4,8,5)) #2\n",
    "print(modular_division(3,8,5)) # 1\n",
    "print(modular_division(4, 11, 5)) #4\n"
   ]
  },
  {
   "source": [
    "## 案例二：invert_modulo\n",
    "\n",
    "这个函数求a的逆函数，也就是 $ a^{(-1)} $\n",
    "\n",
    "```\n",
    "invert_modulo(\n",
    "    a: int,\n",
    "    n: int) \n",
    "    -> int:\n",
    "```"
   ],
   "cell_type": "markdown",
   "metadata": {}
  },
  {
   "cell_type": "code",
   "execution_count": 35,
   "metadata": {},
   "outputs": [
    {
     "output_type": "stream",
     "name": "stdout",
     "text": [
      "3\n1\n"
     ]
    }
   ],
   "source": [
    "from blockchain.modular_division import invert_modulo\n",
    "\"\"\"\n",
    "\"\"\"\n",
    "\n",
    "print(invert_modulo(2, 5)) #   3\n",
    "print(invert_modulo(8,7))  #   1\n"
   ]
  },
  {
   "source": [
    "## 案例三：modular_division2\n",
    "\n",
    "这个函数利用上面的a的逆运算求出 $ x = (b*a^{(-1)}) \\mod n $ \n",
    "```\n",
    "modular_division2(\n",
    "    a: int,\n",
    "    b: int, \n",
    "    n: int) \n",
    "    -> int:\n",
    "```"
   ],
   "cell_type": "markdown",
   "metadata": {}
  },
  {
   "cell_type": "code",
   "execution_count": 36,
   "metadata": {},
   "outputs": [
    {
     "output_type": "stream",
     "name": "stdout",
     "text": [
      "2\n1\n4\n"
     ]
    }
   ],
   "source": [
    "from blockchain.modular_division import modular_division2\n",
    "\"\"\"\n",
    "\"\"\"\n",
    "print(modular_division2(4,8,5)) #    2\n",
    "print(modular_division2(3,8,5)) #    1\n",
    "print(modular_division2(4, 11, 5)) #    4\n"
   ]
  },
  {
   "source": [
    "## 案例四：extended_gcd\n",
    "\n",
    "扩展欧几里德算法是用来在已知a, b求解一组x，y，使它们满足贝祖等式：$ ax + by = gcd(a, b) = d $（解一定存在，根据数论中的相关定理）。扩展欧几里德常用在求解模线性方程及方程组中\n",
    "```\n",
    "extended_gcd(a: int, b: int) -> Tuple[int, int, int]:\n",
    "```\n",
    "    "
   ],
   "cell_type": "markdown",
   "metadata": {}
  },
  {
   "cell_type": "code",
   "execution_count": 37,
   "metadata": {},
   "outputs": [
    {
     "output_type": "stream",
     "name": "stdout",
     "text": [
      "extended_gcd(10, 6): 10*(2)+6*(-1) = gcd(10,6) = 2\nextended_gcd(7, 5): 7*(2)+5*(-1) = gcd(7,5) = 2\n"
     ]
    }
   ],
   "source": [
    "from blockchain.modular_division import extended_gcd\n",
    "\"\"\"\n",
    "\"\"\"\n",
    "# print(extended_gcd(10, 6))  #    (2, -1, 2)\n",
    "a,b = 10, 6\n",
    "x,y,d = extended_gcd(10, 6)\n",
    "print(f'extended_gcd({a}, {b}): ',end=\"\")\n",
    "print(f'{a}*({x})+{b}*({y}) = gcd({a},{b}) = {d}')\n",
    "\n",
    "# print(extended_gcd(7, 5))  #    (1, -2, 3)\n",
    "\n",
    "a,b = 7, 5\n",
    "x,y,d = extended_gcd(10, 6)\n",
    "print(f'extended_gcd({a}, {b}): ',end=\"\")\n",
    "print(f'{a}*({x})+{b}*({y}) = gcd({a},{b}) = {d}')\n"
   ]
  },
  {
   "source": [
    "## 案例五：extended_euclid\n",
    "扩展欧几里德算法是用来在已知a, b求解一组x，y，使它们满足贝祖等式：$ ax + by = gcd(a, b) = d $（解一定存在，根据数论中的相关定理）。扩展欧几里德常用在求解模线性方程及方程组中。\n"
   ],
   "cell_type": "markdown",
   "metadata": {}
  },
  {
   "cell_type": "code",
   "execution_count": 38,
   "metadata": {},
   "outputs": [
    {
     "output_type": "stream",
     "name": "stdout",
     "text": [
      "extended_euclid(10, 6): 10*(-1)+6*(2) = gcd(10,6) = 2\nextended_euclid(7, 5): 7*(-2)+5*(3) = gcd(7,5) = 1\n"
     ]
    }
   ],
   "source": [
    "from blockchain.modular_division import extended_euclid,greatest_common_divisor\n",
    "\"\"\"\n",
    "\"\"\"\n",
    "#print(extended_euclid(10, 6))  #    (-1, 2)\n",
    "a,b = 10,6\n",
    "x,y = extended_euclid(a, b)\n",
    "gcd = greatest_common_divisor(a,b)  # 最大公约数\n",
    "print(f'extended_euclid({a}, {b}): ',end=\"\")\n",
    "print(f'{a}*({x})+{b}*({y}) = gcd({a},{b}) = {gcd}')\n",
    "\n",
    "# print(extended_euclid(7, 5))  #    (-2, 3)\n",
    "a,b = 7,5\n",
    "x,y = extended_euclid(a, b)\n",
    "gcd = greatest_common_divisor(a,b)  # 最大公约数\n",
    "print(f'extended_euclid({a}, {b}): ',end=\"\")\n",
    "print(f'{a}*({x})+{b}*({y}) = gcd({a},{b}) = {gcd}')\n"
   ]
  },
  {
   "source": [
    "## 案例六：greatest_common_divisor\n",
    "最大公约数；最大公因子"
   ],
   "cell_type": "markdown",
   "metadata": {}
  },
  {
   "cell_type": "code",
   "execution_count": 39,
   "metadata": {},
   "outputs": [
    {
     "output_type": "stream",
     "name": "stdout",
     "text": [
      "1\n11\n"
     ]
    }
   ],
   "source": [
    "from blockchain.modular_division import greatest_common_divisor\n",
    "\"\"\"\n",
    "\"\"\"\n",
    "print(greatest_common_divisor(7,5))  #   1\n",
    "print(greatest_common_divisor(121, 11)) #  11\n"
   ]
  }
 ]
}