{
 "metadata": {
  "language_info": {
   "codemirror_mode": {
    "name": "ipython",
    "version": 3
   },
   "file_extension": ".py",
   "mimetype": "text/x-python",
   "name": "python",
   "nbconvert_exporter": "python",
   "pygments_lexer": "ipython3",
   "version": "3.8.0"
  },
  "orig_nbformat": 2,
  "kernelspec": {
   "name": "pythonjvsc74a57bd04570298ddf55f12d72b384cb5a92401407339203adac8a4a881fb11d70b7d0b5",
   "display_name": "Python 3.8.0  ('myaivenv': venv)"
  },
  "metadata": {
   "interpreter": {
    "hash": "4570298ddf55f12d72b384cb5a92401407339203adac8a4a881fb11d70b7d0b5"
   }
  }
 },
 "nbformat": 4,
 "nbformat_minor": 2,
 "cells": [
  {
   "source": [
    "\n",
    "# all_subsequences 所有子序列\n",
    "\n",
    "将n个元素组成的序列进行选择，列出其所有的子序列，\n",
    "其子序列总数为 $ 2^n $ \n",
    "\n",
    "## 算法\n",
    "\n",
    "在这个问题中，我们想要确定所有可能的子序列  \n",
    "对于给定序列的。 我们使用回溯来解决这个问题。  \n",
    "\n",
    "## 范例：\n",
    "由$ ['A', 'B', 'C'] $  3个字符组成的序列，其子序列共有 $ 2^n = 2^3 =8 $ \n",
    "其子序列如下：\n",
    "$$\n",
    "  []  \\\\\n",
    "  ['C'] \\\\\n",
    "  ['B']  \\\\\n",
    "  ['B', 'C'] \\\\\n",
    "  ['A']  \\\\\n",
    "  ['A', 'C'] \\\\\n",
    "  ['A', 'B']  \\\\\n",
    "  ['A', 'B', 'C'] \\\\\n",
    "$$\n",
    "\n",
    "## 代码\n",
    "[all_subsequences.py]{..\\src\\backtracking\\all_subsequences.py}\n",
    "\n"
   ],
   "cell_type": "markdown",
   "metadata": {}
  },
  {
   "cell_type": "code",
   "execution_count": 1,
   "metadata": {},
   "outputs": [],
   "source": [
    "\"\"\"\n",
    "Prepare\n",
    "   1. sys.path 中增加 TheAlgorithms\\src 子模块\n",
    "\n",
    "\"\"\"\n",
    "import sys\n",
    "sys.path.append('E:\\dev\\AI\\TheAlgorithms\\src')\n"
   ]
  },
  {
   "source": [
    "## 案例一： \n",
    "由$ ['A', 'B', 'C'] $  3个字符组成的序列，其子序列共有 $ 2^n = 2^3 =8 $ "
   ],
   "cell_type": "markdown",
   "metadata": {}
  },
  {
   "cell_type": "code",
   "execution_count": 11,
   "metadata": {},
   "outputs": [
    {
     "output_type": "stream",
     "name": "stdout",
     "text": [
      "[]\n['C']\n['B']\n['B', 'C']\n['A']\n['A', 'C']\n['A', 'B']\n['A', 'B', 'C']\n"
     ]
    }
   ],
   "source": [
    "from backtracking.all_subsequences import generate_all_subsequences\n",
    "from typing import Any, List\n",
    "\"\"\"\n",
    "\"\"\"\n",
    "seq: List[Any] =[\"A\",\"B\", \"C\"]\n",
    "generate_all_subsequences(seq)\n",
    "\n",
    "# seq: List[Any] =[\"A\",\"B\", \"C\"]\n",
    "# generate_all_subsequences(seq)\n"
   ]
  },
  {
   "source": [
    "## 案例二： \n",
    "由$  [3,2,1,4,\"C\"] $  3个字符组成的序列，其子序列共有 $ 2^n = 2^5 =32 $ "
   ],
   "cell_type": "markdown",
   "metadata": {}
  },
  {
   "cell_type": "code",
   "execution_count": 12,
   "metadata": {},
   "outputs": [
    {
     "output_type": "stream",
     "name": "stdout",
     "text": [
      "[]\n['C']\n[4]\n[4, 'C']\n[1]\n[1, 'C']\n[1, 4]\n[1, 4, 'C']\n[2]\n[2, 'C']\n[2, 4]\n[2, 4, 'C']\n[2, 1]\n[2, 1, 'C']\n[2, 1, 4]\n[2, 1, 4, 'C']\n[3]\n[3, 'C']\n[3, 4]\n[3, 4, 'C']\n[3, 1]\n[3, 1, 'C']\n[3, 1, 4]\n[3, 1, 4, 'C']\n[3, 2]\n[3, 2, 'C']\n[3, 2, 4]\n[3, 2, 4, 'C']\n[3, 2, 1]\n[3, 2, 1, 'C']\n[3, 2, 1, 4]\n[3, 2, 1, 4, 'C']\n"
     ]
    }
   ],
   "source": [
    "from backtracking.all_subsequences import generate_all_subsequences\n",
    "from typing import Any, List\n",
    "\"\"\"\n",
    "\"\"\"\n",
    "seq: List[Any] =  [3,2,1,4,\"C\"]\n",
    "generate_all_subsequences(seq)"
   ]
  },
  {
   "cell_type": "code",
   "execution_count": null,
   "metadata": {},
   "outputs": [],
   "source": []
  }
 ]
}