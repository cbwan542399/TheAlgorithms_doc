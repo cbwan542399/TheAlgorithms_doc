{
 "metadata": {
  "language_info": {
   "codemirror_mode": {
    "name": "ipython",
    "version": 3
   },
   "file_extension": ".py",
   "mimetype": "text/x-python",
   "name": "python",
   "nbconvert_exporter": "python",
   "pygments_lexer": "ipython3",
   "version": "3.8.0"
  },
  "orig_nbformat": 2,
  "kernelspec": {
   "name": "python3",
   "display_name": "Python 3.8.0  ('myaivenv': venv)"
  },
  "metadata": {
   "interpreter": {
    "hash": "4570298ddf55f12d72b384cb5a92401407339203adac8a4a881fb11d70b7d0b5"
   }
  },
  "interpreter": {
   "hash": "4570298ddf55f12d72b384cb5a92401407339203adac8a4a881fb11d70b7d0b5"
  }
 },
 "nbformat": 4,
 "nbformat_minor": 2,
 "cells": [
  {
   "source": [
    "\n",
    "# n_queens_math  N皇后问题\n",
    "\n",
    "\n",
    "八皇后问题，是一个古老而著名的问题.该问题是国际西洋棋棋手马克斯·贝瑟尔于1848年提出：在8×8格的国际象棋上摆放八个皇后，使其不能互相攻击，即任意两个皇后都不能处于同一行、同一列或同一斜线上，问有多少种摆法?\n",
    "\n",
    "那么，我们将8皇后问题推广一下，就可以得到我们的N皇后问题了。N皇后问题是一个经典的问题，在一个NxN的棋盘上放置N个皇后，\n",
    "使其不能互相攻击 (同一行、同一列、同一斜线上的皇后都会自动攻击) 那么问，有多少种摆法？\n",
    "\n",
    "\n",
    "\n",
    "\n",
    "\n",
    "## 代码\n",
    "[n_queens_math.py]{..\\src\\backtracking\\n_queens_math.py}\n",
    "\n"
   ],
   "cell_type": "markdown",
   "metadata": {}
  },
  {
   "cell_type": "code",
   "execution_count": 1,
   "metadata": {},
   "outputs": [],
   "source": [
    "\"\"\"\n",
    "Prepare\n",
    "   1. sys.path 中增加 TheAlgorithms\\src 子模块\n",
    "\n",
    "\"\"\"\n",
    "import sys\n",
    "sys.path.append('E:\\dev\\AI\\TheAlgorithms\\src')\n"
   ]
  },
  {
   "source": [
    "## 案例一： \n",
    "\n",
    "\n",
    "```\n",
    "def n_queens_solution(n: int) -> None:\n",
    "    boards: List[List[str]] = []\n",
    "    depth_first_search([], [], [], boards, n)\n",
    "```"
   ],
   "cell_type": "markdown",
   "metadata": {}
  },
  {
   "cell_type": "code",
   "execution_count": 2,
   "metadata": {},
   "outputs": [
    {
     "output_type": "stream",
     "name": "stdout",
     "text": [
      "Q . . . . \n. . Q . . \n. . . . Q \n. Q . . . \n. . . Q . \n\nQ . . . . \n. . . Q . \n. Q . . . \n. . . . Q \n. . Q . . \n\n. Q . . . \n. . . Q . \nQ . . . . \n. . Q . . \n. . . . Q \n\n. Q . . . \n. . . . Q \n. . Q . . \nQ . . . . \n. . . Q . \n\n. . Q . . \nQ . . . . \n. . . Q . \n. Q . . . \n. . . . Q \n\n. . Q . . \n. . . . Q \n. Q . . . \n. . . Q . \nQ . . . . \n\n. . . Q . \nQ . . . . \n. . Q . . \n. . . . Q \n. Q . . . \n\n. . . Q . \n. Q . . . \n. . . . Q \n. . Q . . \nQ . . . . \n\n. . . . Q \n. Q . . . \n. . . Q . \nQ . . . . \n. . Q . . \n\n. . . . Q \n. . Q . . \nQ . . . . \n. . . Q . \n. Q . . . \n\n10 solutions were found.\n"
     ]
    }
   ],
   "source": [
    "from backtracking.n_queens_math import n_queens_solution\n",
    "import math\n",
    "\"\"\"\n",
    "\"\"\"\n",
    "n_queens_solution(5)\n",
    "\n",
    "\n",
    "    \n"
   ]
  },
  {
   "cell_type": "code",
   "execution_count": null,
   "metadata": {},
   "outputs": [],
   "source": []
  }
 ]
}