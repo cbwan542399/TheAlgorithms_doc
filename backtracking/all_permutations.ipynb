{
 "metadata": {
  "language_info": {
   "codemirror_mode": {
    "name": "ipython",
    "version": 3
   },
   "file_extension": ".py",
   "mimetype": "text/x-python",
   "name": "python",
   "nbconvert_exporter": "python",
   "pygments_lexer": "ipython3",
   "version": "3.8.0"
  },
  "orig_nbformat": 2,
  "kernelspec": {
   "name": "pythonjvsc74a57bd04570298ddf55f12d72b384cb5a92401407339203adac8a4a881fb11d70b7d0b5",
   "display_name": "Python 3.8.0  ('myaivenv': venv)"
  },
  "metadata": {
   "interpreter": {
    "hash": "4570298ddf55f12d72b384cb5a92401407339203adac8a4a881fb11d70b7d0b5"
   }
  }
 },
 "nbformat": 4,
 "nbformat_minor": 2,
 "cells": [
  {
   "source": [
    "\n",
    "# all_permutations 所有排列\n",
    "\n",
    "将n个元素组成的序列进行排列，其序列由数字、字符串 组成，列出其所有的全排列，\n",
    "其排列数为 $ P_n^n $ \n",
    "\n",
    "## 算法\n",
    "\n",
    "在这个问题中，我们要确定所有可能的排列  \n",
    "对于给定序列的。 我们使用回溯来解决这个问题。 \n",
    "\n",
    "## 范例：\n",
    "由$ ['A', 'B', 'C'] $  3个字符组成的序列，其排列共有 $ P_3^3 = 3 \\times 2 \\times 1=6 $ \n",
    "其排列如下：\n",
    "$$\n",
    "  ['A', 'B', 'C'] \\\\\n",
    "  ['A', 'C', 'B'] \\\\\n",
    "  ['B', 'A', 'C'] \\\\\n",
    "  ['B', 'C', 'A'] \\\\\n",
    "  ['C', 'A', 'B'] \\\\\n",
    "  ['C', 'B', 'A']\n",
    "$$\n",
    "\n",
    "## 代码\n",
    "[all_permutations.py]{..\\src\\backtracking\\all_permutations.py}\n",
    "\n"
   ],
   "cell_type": "markdown",
   "metadata": {}
  },
  {
   "cell_type": "code",
   "execution_count": 11,
   "metadata": {},
   "outputs": [],
   "source": [
    "\"\"\"\n",
    "Prepare\n",
    "   1. sys.path 中增加 TheAlgorithms\\src 子模块\n",
    "\n",
    "\"\"\"\n",
    "import sys\n",
    "sys.path.append('E:\\dev\\AI\\TheAlgorithms\\src')\n"
   ]
  },
  {
   "source": [
    "## 案例一： \n",
    "由 $ ['A', 'B', 'C'] $  组成的所有排列,其排列共有 $ P_3^3 = 3 \\times 2 \\times 1=6 $ "
   ],
   "cell_type": "markdown",
   "metadata": {}
  },
  {
   "cell_type": "code",
   "execution_count": 6,
   "metadata": {},
   "outputs": [
    {
     "output_type": "stream",
     "name": "stdout",
     "text": [
      "['A', 'B', 'C']\n['A', 'C', 'B']\n['B', 'A', 'C']\n['B', 'C', 'A']\n['C', 'A', 'B']\n['C', 'B', 'A']\n"
     ]
    }
   ],
   "source": [
    "from backtracking.all_permutations import generate_all_permutations\n",
    "from typing import List, Union\n",
    "\"\"\"\n",
    "\"\"\"\n",
    "sequence: List[Union[int, str]] = [\"A\", \"B\", \"C\"]\n",
    "generate_all_permutations(sequence)\n",
    "\n"
   ]
  },
  {
   "source": [
    "## 案例二： \n",
    "由 $ [3,2,1,4,\"C\"] $  组成的所有排列,其排列共有 $ P_5^5 = 5 \\times 4 \\times 3 \\times 2 \\times 1 = 120 $ \n"
   ],
   "cell_type": "markdown",
   "metadata": {}
  },
  {
   "cell_type": "code",
   "execution_count": 12,
   "metadata": {},
   "outputs": [
    {
     "output_type": "stream",
     "name": "stdout",
     "text": [
      "[3, 2, 1, 4, 'C']\n[3, 2, 1, 'C', 4]\n[3, 2, 4, 1, 'C']\n[3, 2, 4, 'C', 1]\n[3, 2, 'C', 1, 4]\n[3, 2, 'C', 4, 1]\n[3, 1, 2, 4, 'C']\n[3, 1, 2, 'C', 4]\n[3, 1, 4, 2, 'C']\n[3, 1, 4, 'C', 2]\n[3, 1, 'C', 2, 4]\n[3, 1, 'C', 4, 2]\n[3, 4, 2, 1, 'C']\n[3, 4, 2, 'C', 1]\n[3, 4, 1, 2, 'C']\n[3, 4, 1, 'C', 2]\n[3, 4, 'C', 2, 1]\n[3, 4, 'C', 1, 2]\n[3, 'C', 2, 1, 4]\n[3, 'C', 2, 4, 1]\n[3, 'C', 1, 2, 4]\n[3, 'C', 1, 4, 2]\n[3, 'C', 4, 2, 1]\n[3, 'C', 4, 1, 2]\n[2, 3, 1, 4, 'C']\n[2, 3, 1, 'C', 4]\n[2, 3, 4, 1, 'C']\n[2, 3, 4, 'C', 1]\n[2, 3, 'C', 1, 4]\n[2, 3, 'C', 4, 1]\n[2, 1, 3, 4, 'C']\n[2, 1, 3, 'C', 4]\n[2, 1, 4, 3, 'C']\n[2, 1, 4, 'C', 3]\n[2, 1, 'C', 3, 4]\n[2, 1, 'C', 4, 3]\n[2, 4, 3, 1, 'C']\n[2, 4, 3, 'C', 1]\n[2, 4, 1, 3, 'C']\n[2, 4, 1, 'C', 3]\n[2, 4, 'C', 3, 1]\n[2, 4, 'C', 1, 3]\n[2, 'C', 3, 1, 4]\n[2, 'C', 3, 4, 1]\n[2, 'C', 1, 3, 4]\n[2, 'C', 1, 4, 3]\n[2, 'C', 4, 3, 1]\n[2, 'C', 4, 1, 3]\n[1, 3, 2, 4, 'C']\n[1, 3, 2, 'C', 4]\n[1, 3, 4, 2, 'C']\n[1, 3, 4, 'C', 2]\n[1, 3, 'C', 2, 4]\n[1, 3, 'C', 4, 2]\n[1, 2, 3, 4, 'C']\n[1, 2, 3, 'C', 4]\n[1, 2, 4, 3, 'C']\n[1, 2, 4, 'C', 3]\n[1, 2, 'C', 3, 4]\n[1, 2, 'C', 4, 3]\n[1, 4, 3, 2, 'C']\n[1, 4, 3, 'C', 2]\n[1, 4, 2, 3, 'C']\n[1, 4, 2, 'C', 3]\n[1, 4, 'C', 3, 2]\n[1, 4, 'C', 2, 3]\n[1, 'C', 3, 2, 4]\n[1, 'C', 3, 4, 2]\n[1, 'C', 2, 3, 4]\n[1, 'C', 2, 4, 3]\n[1, 'C', 4, 3, 2]\n[1, 'C', 4, 2, 3]\n[4, 3, 2, 1, 'C']\n[4, 3, 2, 'C', 1]\n[4, 3, 1, 2, 'C']\n[4, 3, 1, 'C', 2]\n[4, 3, 'C', 2, 1]\n[4, 3, 'C', 1, 2]\n[4, 2, 3, 1, 'C']\n[4, 2, 3, 'C', 1]\n[4, 2, 1, 3, 'C']\n[4, 2, 1, 'C', 3]\n[4, 2, 'C', 3, 1]\n[4, 2, 'C', 1, 3]\n[4, 1, 3, 2, 'C']\n[4, 1, 3, 'C', 2]\n[4, 1, 2, 3, 'C']\n[4, 1, 2, 'C', 3]\n[4, 1, 'C', 3, 2]\n[4, 1, 'C', 2, 3]\n[4, 'C', 3, 2, 1]\n[4, 'C', 3, 1, 2]\n[4, 'C', 2, 3, 1]\n[4, 'C', 2, 1, 3]\n[4, 'C', 1, 3, 2]\n[4, 'C', 1, 2, 3]\n['C', 3, 2, 1, 4]\n['C', 3, 2, 4, 1]\n['C', 3, 1, 2, 4]\n['C', 3, 1, 4, 2]\n['C', 3, 4, 2, 1]\n['C', 3, 4, 1, 2]\n['C', 2, 3, 1, 4]\n['C', 2, 3, 4, 1]\n['C', 2, 1, 3, 4]\n['C', 2, 1, 4, 3]\n['C', 2, 4, 3, 1]\n['C', 2, 4, 1, 3]\n['C', 1, 3, 2, 4]\n['C', 1, 3, 4, 2]\n['C', 1, 2, 3, 4]\n['C', 1, 2, 4, 3]\n['C', 1, 4, 3, 2]\n['C', 1, 4, 2, 3]\n['C', 4, 3, 2, 1]\n['C', 4, 3, 1, 2]\n['C', 4, 2, 3, 1]\n['C', 4, 2, 1, 3]\n['C', 4, 1, 3, 2]\n['C', 4, 1, 2, 3]\n"
     ]
    }
   ],
   "source": [
    "from backtracking.all_permutations import generate_all_permutations\n",
    "from typing import List, Union\n",
    "\"\"\"\n",
    "\"\"\"\n",
    "sequence: List[Union[int, str]] = [3,2,1,4,\"C\"]\n",
    "generate_all_permutations(sequence)\n"
   ]
  }
 ]
}