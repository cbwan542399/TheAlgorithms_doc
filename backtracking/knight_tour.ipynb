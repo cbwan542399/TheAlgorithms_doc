{
 "metadata": {
  "language_info": {
   "codemirror_mode": {
    "name": "ipython",
    "version": 3
   },
   "file_extension": ".py",
   "mimetype": "text/x-python",
   "name": "python",
   "nbconvert_exporter": "python",
   "pygments_lexer": "ipython3",
   "version": "3.8.0"
  },
  "orig_nbformat": 2,
  "kernelspec": {
   "name": "python3",
   "display_name": "Python 3.8.0  ('myaivenv': venv)"
  },
  "metadata": {
   "interpreter": {
    "hash": "4570298ddf55f12d72b384cb5a92401407339203adac8a4a881fb11d70b7d0b5"
   }
  },
  "interpreter": {
   "hash": "4570298ddf55f12d72b384cb5a92401407339203adac8a4a881fb11d70b7d0b5"
  }
 },
 "nbformat": 4,
 "nbformat_minor": 2,
 "cells": [
  {
   "source": [
    "\n",
    "# knight_tour  骑士游历算法\n",
    "\n",
    "- 1、问题描述\n",
    "在一个N*M的棋盘上，在任意位置放置一个骑士，骑士的走\"日字\"，和象棋中的马一样。<br>\n",
    "问该骑士能否不重复遍历整个棋盘。下面的方法本质还是穷举，所以就写成可以计算出共有多少种不同的遍历方法。<br>\n",
    "\n",
    "- 2、分析与思路\n",
    "根据题意，骑士走的下一步可能在棋盘上有多种选择（最多8种），需要选择1种，然后继续走下去，直到无处可走。 <br>\n",
    "无处可走时有两种情况：\n",
    "  - 情况一：成功完成了遍历，那么接下来就通过回溯（回到上一步的位置，重新选择下一步的位置），寻找其他的走法。\n",
    "  - 情况二：未完成遍历，接下来还是要通过回溯继续寻找能够完成遍历的走法。\n",
    "\n",
    "## 算法\n",
    "- get_valid_pos 找出骑士可以从当前位置移动到的所有有效位置\n",
    "```\n",
    "def get_valid_pos(\n",
    "    position: Tuple[int, int],   # 当前位置\n",
    "     n: int)                     # 棋盘大小\n",
    "-> List[Tuple[int, int]]:\n",
    "```\n",
    "- is_complete 检查板(矩阵)是否已完全填满非零值\n",
    "```\n",
    "def is_complete(\n",
    "    board: List[List[int]]  #棋盘\n",
    ") \n",
    "-> bool:\n",
    "```\n",
    "- open_knight_tour_helper 助手功能，解决骑士游览问题。\n",
    "```\n",
    "def open_knight_tour_helper(\n",
    "    board: List[List[int]],   # 棋盘\n",
    "    pos: Tuple[int, int],     # 位置\n",
    "    curr: int                 # 当前步数 \n",
    ") -> bool:\n",
    "```\n",
    "- open_knight_tour 求大小为n的板的骑士旅行问题的解  \n",
    "```\n",
    "def open_knight_tour(n: int) -> List[List[int]]:\n",
    "    \"\"\"\n",
    "    Find the solution for the knight tour problem for a board of size n. Raises\n",
    "    ValueError if the tour cannot be performed for the given size.\n",
    "```    \n",
    "## 代码\n",
    "[knight_tour.py]{..\\src\\backtracking\\knight_tour.py}\n",
    "\n"
   ],
   "cell_type": "markdown",
   "metadata": {}
  },
  {
   "cell_type": "code",
   "execution_count": 1,
   "metadata": {},
   "outputs": [],
   "source": [
    "\"\"\"\n",
    "Prepare\n",
    "   1. sys.path 中增加 TheAlgorithms\\src 子模块\n",
    "\n",
    "\"\"\"\n",
    "import sys\n",
    "sys.path.append('E:\\dev\\AI\\TheAlgorithms\\src')\n"
   ]
  },
  {
   "source": [
    "## 案例一： \n",
    "\n",
    "找出骑士可以从当前位置移动到的所有有效位置\n",
    "\n",
    "```\n",
    "def get_valid_pos(\n",
    "    position: Tuple[int, int],   # 当前位置\n",
    "     n: int)                     # 棋盘大小\n",
    "-> List[Tuple[int, int]]:\n",
    "    y, x = position\n",
    "    positions = [\n",
    "        (y + 1, x + 2),\n",
    "        (y - 1, x + 2),\n",
    "        (y + 1, x - 2),\n",
    "        (y - 1, x - 2),\n",
    "        (y + 2, x + 1),\n",
    "        (y + 2, x - 1),\n",
    "        (y - 2, x + 1),\n",
    "        (y - 2, x - 1),\n",
    "    ]\n",
    "```"
   ],
   "cell_type": "markdown",
   "metadata": {}
  },
  {
   "cell_type": "code",
   "execution_count": 2,
   "metadata": {},
   "outputs": [
    {
     "output_type": "stream",
     "name": "stdout",
     "text": [
      "[(2, 1), (0, 1), (3, 2)]\n[(2, 5), (0, 5), (2, 1), (0, 1), (3, 4), (3, 2)]\n"
     ]
    }
   ],
   "source": [
    "from backtracking.knight_tour import get_valid_pos\n",
    "\"\"\"\n",
    "\"\"\"\n",
    "print(get_valid_pos((1, 3), 4))  #    [(2, 1), (0, 1), (3, 2)]\n",
    "\n",
    "print(get_valid_pos((1, 3), 10))  \n",
    "\n",
    "\n"
   ]
  },
  {
   "source": [
    "## 案例二： \n",
    "检查板(矩阵)是否已完全填满非零值  \n",
    "\n",
    "```\n",
    "def is_complete(board: List[List[int]]) \n",
    "-> bool:\n",
    "\n",
    "return not any(elem == 0 for row in board for elem in row)\n",
    "\n",
    "\n",
    "```"
   ],
   "cell_type": "markdown",
   "metadata": {}
  },
  {
   "cell_type": "code",
   "execution_count": 3,
   "metadata": {},
   "outputs": [
    {
     "output_type": "stream",
     "name": "stdout",
     "text": [
      "True\nFalse\n"
     ]
    }
   ],
   "source": [
    "from backtracking.knight_tour import is_complete\n",
    "\"\"\"\n",
    "\"\"\"\n",
    "\n",
    "print(is_complete([[1]]))  #    True\n",
    "\n",
    "print(is_complete([[1, 2], [3, 0]])) #    False\n"
   ]
  },
  {
   "source": [
    "## 案例三： 求大小为n的板的骑士旅行问题的解  "
   ],
   "cell_type": "markdown",
   "metadata": {}
  },
  {
   "cell_type": "code",
   "execution_count": 18,
   "metadata": {},
   "outputs": [
    {
     "output_type": "stream",
     "name": "stdout",
     "text": [
      "open_knight_tour(5)：\n",
      "行号：1   步骤顺序：[1, 14, 19, 8, 25]\n",
      "行号：2   步骤顺序：[6, 9, 2, 13, 18]\n",
      "行号：3   步骤顺序：[15, 20, 7, 24, 3]\n",
      "行号：4   步骤顺序：[10, 5, 22, 17, 12]\n",
      "行号：5   步骤顺序：[21, 16, 11, 4, 23]\n",
      "open_knight_tour(6)：\n",
      "行号：1   步骤顺序：[1, 22, 13, 30, 33, 36]\n",
      "行号：2   步骤顺序：[12, 29, 2, 35, 14, 31]\n",
      "行号：3   步骤顺序：[21, 8, 23, 32, 3, 34]\n",
      "行号：4   步骤顺序：[28, 11, 4, 17, 24, 15]\n",
      "行号：5   步骤顺序：[7, 20, 9, 26, 5, 18]\n",
      "行号：6   步骤顺序：[10, 27, 6, 19, 16, 25]\n"
     ]
    }
   ],
   "source": [
    "from backtracking.knight_tour import open_knight_tour\n",
    "\"\"\"\n",
    "\"\"\"\n",
    "i = 5\n",
    "thisList = open_knight_tour(i)\n",
    "# print(list(result))  显示结果不够清晰\n",
    "print(f'open_knight_tour({i})：')\n",
    "for i,val in enumerate(thisList):\n",
    "   print(\"行号：%s   步骤顺序：%s\" % (i + 1, val))\n",
    "\n",
    "i = 6\n",
    "thisList = open_knight_tour(i)\n",
    "# print(list(result))  显示结果不够清晰\n",
    "print(f'open_knight_tour({i})：')\n",
    "for i,val in enumerate(thisList):\n",
    "   print(\"行号：%s   步骤顺序：%s\" % (i + 1, val))\n",
    "   "
   ]
  }
 ]
}