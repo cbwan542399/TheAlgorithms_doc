{
 "metadata": {
  "language_info": {
   "codemirror_mode": {
    "name": "ipython",
    "version": 3
   },
   "file_extension": ".py",
   "mimetype": "text/x-python",
   "name": "python",
   "nbconvert_exporter": "python",
   "pygments_lexer": "ipython3",
   "version": "3.8.0"
  },
  "orig_nbformat": 2,
  "kernelspec": {
   "name": "python3",
   "display_name": "Python 3.8.0  ('myaivenv': venv)"
  },
  "metadata": {
   "interpreter": {
    "hash": "4570298ddf55f12d72b384cb5a92401407339203adac8a4a881fb11d70b7d0b5"
   }
  },
  "interpreter": {
   "hash": "4570298ddf55f12d72b384cb5a92401407339203adac8a4a881fb11d70b7d0b5"
  }
 },
 "nbformat": 4,
 "nbformat_minor": 2,
 "cells": [
  {
   "source": [
    "\n",
    "# rat_in_maze  老鼠在迷宫\n",
    "\n",
    "回溯法解迷宫\n",
    "\n",
    "一个迷宫被给出为$ n*n $二进制矩阵的块，其中源块是最左上方的块，即$ Maze[0][0$]，目标块是最右下方的块，即$Maze[n-1][n-1]$。老鼠从源头出发，必须到达目的地。老鼠只能朝两个方向移动：向前和向下\n",
    "\n",
    "## 算法\n",
    "```\n",
    "def run_maze(\n",
    "    maze: List[List[int]],  # 迷宫list \n",
    "    i: int, j: int,         # 起点 (i,j)\n",
    "    solutions: List[List[int]]) # 解决方案\n",
    "-> bool:\n",
    "    \"\"\"\n",
    "    This method is recursive starting from (i, j) and going in one of four directions:\n",
    "    up, down, left, right.\n",
    "    If a path is found to destination it returns True otherwise it returns False.\n",
    "    Parameters:\n",
    "        maze(2D matrix) : maze\n",
    "        i, j : coordinates of matrix\n",
    "        solutions(2D matrix) : solutions\n",
    "    Returns:\n",
    "        Boolean if path is found True, Otherwise False.\n",
    "```\n",
    "\n",
    "## 代码\n",
    "[rat_in_maze.py]{..\\src\\backtracking\\rat_in_maze.py}\n",
    "\n"
   ],
   "cell_type": "markdown",
   "metadata": {}
  },
  {
   "cell_type": "code",
   "execution_count": 1,
   "metadata": {},
   "outputs": [],
   "source": [
    "\"\"\"\n",
    "Prepare\n",
    "   1. sys.path 中增加 TheAlgorithms\\src 子模块\n",
    "\n",
    "\"\"\"\n",
    "import sys\n",
    "sys.path.append('E:\\dev\\AI\\TheAlgorithms\\src')\n"
   ]
  },
  {
   "source": [
    "## 案例一： \n",
    "\n",
    "```\n",
    "def solve_maze(maze: List[List[int]]) -> bool:\n",
    "    \"\"\"\n",
    "    This method solves the \"rat in maze\" problem.\n",
    "    In this problem we have some n by n matrix, a start point and an end point.\n",
    "    We want to go from the start to the end. In this matrix zeroes represent walls\n",
    "    and ones paths we can use.\n",
    "    Parameters :\n",
    "        maze(2D matrix) : maze\n",
    "    Returns:\n",
    "        Return: True if the maze has a solution or False if it does not.\n",
    "```"
   ],
   "cell_type": "markdown",
   "metadata": {}
  },
  {
   "cell_type": "code",
   "execution_count": 2,
   "metadata": {},
   "outputs": [
    {
     "output_type": "stream",
     "name": "stdout",
     "text": [
      "this is the 1 example \n",
      "[1, 0, 0, 0, 0]\n",
      "[1, 1, 1, 1, 0]\n",
      "[0, 0, 0, 1, 0]\n",
      "[0, 0, 0, 1, 1]\n",
      "[0, 0, 0, 0, 1]\n",
      "this is the 2 example \n",
      "[1, 0, 0, 0, 0]\n",
      "[1, 0, 0, 0, 0]\n",
      "[1, 0, 0, 0, 0]\n",
      "[1, 0, 0, 0, 0]\n",
      "[1, 1, 1, 1, 1]\n",
      "this is the 3 example \n",
      "[1, 1, 1]\n",
      "[0, 0, 1]\n",
      "[0, 0, 1]\n",
      "this is the 4 example \n",
      "No solution exists!\n",
      "this is the 5 example \n",
      "No solution exists!\n"
     ]
    },
    {
     "output_type": "execute_result",
     "data": {
      "text/plain": [
       "'\\n    No solution exists!\\n'"
      ]
     },
     "metadata": {},
     "execution_count": 2
    }
   ],
   "source": [
    "from backtracking.rat_in_maze import solve_maze\n",
    "\"\"\"\n",
    "\"\"\"\n",
    "i = 0  # sample i\n",
    "maze = [[0, 1, 0, 1, 1],\n",
    "        [0, 0, 0, 0, 0],\n",
    "        [1, 0, 1, 0, 1],\n",
    "        [0, 0, 1, 0, 0],\n",
    "        [1, 0, 0, 1, 0]]\n",
    "print (f'this is the {i+1} example ')\n",
    "solve_maze(maze)\n",
    "'''\n",
    "    [1, 0, 0, 0, 0]\n",
    "    [1, 1, 1, 1, 0]\n",
    "    [0, 0, 0, 1, 0]\n",
    "    [0, 0, 0, 1, 1]\n",
    "    [0, 0, 0, 0, 1]\n",
    "    True\n",
    "'''\n",
    "i += 1 \n",
    "maze = [[0, 1, 0, 1, 1],\n",
    "        [0, 0, 0, 0, 0],\n",
    "        [0, 0, 0, 0, 1],\n",
    "        [0, 0, 0, 0, 0],\n",
    "        [0, 0, 0, 0, 0]]\n",
    "print (f'this is the {i+1} example ')\n",
    "solve_maze(maze)\n",
    "'''\n",
    "    [1, 0, 0, 0, 0]\n",
    "    [1, 0, 0, 0, 0]\n",
    "    [1, 0, 0, 0, 0]\n",
    "    [1, 0, 0, 0, 0]\n",
    "    [1, 1, 1, 1, 1]\n",
    "    True\n",
    "'''\n",
    "i += 1\n",
    "maze = [[0, 0, 0],\n",
    "        [0, 1, 0],\n",
    "        [1, 0, 0]]\n",
    "print (f'this is the {i+1} example ')\n",
    "solve_maze(maze)\n",
    "'''\n",
    "    [1, 1, 1]\n",
    "    [0, 0, 1]\n",
    "    [0, 0, 1]\n",
    "    True\n",
    "'''\n",
    "i += 1\n",
    "maze = [[0, 1, 0],\n",
    "        [0, 1, 0],\n",
    "        [1, 0, 0]]\n",
    "print (f'this is the {i+1} example ')\n",
    "solve_maze(maze)\n",
    "'''\n",
    "    No solution exists!\n",
    "    False\n",
    "'''\n",
    "i += 1\n",
    "maze = [[0, 1],\n",
    "        [1, 0]]\n",
    "print (f'this is the {i+1} example ')\n",
    "solve_maze(maze)\n",
    "'''\n",
    "    No solution exists!\n",
    "'''  \n"
   ]
  }
 ]
}