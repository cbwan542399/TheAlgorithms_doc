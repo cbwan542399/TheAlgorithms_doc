{
 "metadata": {
  "language_info": {
   "codemirror_mode": {
    "name": "ipython",
    "version": 3
   },
   "file_extension": ".py",
   "mimetype": "text/x-python",
   "name": "python",
   "nbconvert_exporter": "python",
   "pygments_lexer": "ipython3",
   "version": "3.8.0"
  },
  "orig_nbformat": 2,
  "kernelspec": {
   "name": "pythonjvsc74a57bd04570298ddf55f12d72b384cb5a92401407339203adac8a4a881fb11d70b7d0b5",
   "display_name": "Python 3.8.0  ('myaivenv': venv)"
  },
  "metadata": {
   "interpreter": {
    "hash": "4570298ddf55f12d72b384cb5a92401407339203adac8a4a881fb11d70b7d0b5"
   }
  }
 },
 "nbformat": 4,
 "nbformat_minor": 2,
 "cells": [
  {
   "source": [
    "\n",
    "# all_combinations 所有组合\n",
    "\n",
    "即所有N个数的k个组合，其总数为 $ C_n^k $\n",
    "\n",
    "## 算法\n",
    "\n",
    "在这个问题中，我们要确定从 $ 1 {\\ldots} n $ 中数出k个数的所有可能的组合,\n",
    "我们用回溯法来解决这个问题。  \n",
    "\n",
    "## 范例： \n",
    "  $C_n^k = C_4^2 $ 的所有组合是：<br>\n",
    "  $$ [1, 2], [1, 3], [1, 4], [2, 3], [2, 4], [3, 4]$$\n",
    "\n",
    "\n",
    "## 代码\n",
    "[all_combinations.py]{..\\src\\backtracking\\all_combinations.py}\n",
    "\n"
   ],
   "cell_type": "markdown",
   "metadata": {}
  },
  {
   "cell_type": "code",
   "execution_count": 8,
   "metadata": {},
   "outputs": [],
   "source": [
    "\"\"\"\n",
    "Prepare\n",
    "   1. sys.path 中增加 TheAlgorithms\\src 子模块\n",
    "\n",
    "\"\"\"\n",
    "import sys\n",
    "sys.path.append('E:\\dev\\AI\\TheAlgorithms\\src')\n"
   ]
  },
  {
   "source": [
    "## 案例一： \n",
    "  $C_n^k = C_4^2 $ 的所有组合是：<br>\n",
    "  $$ [1, 2], [1, 3], [1, 4], [2, 3], [2, 4], [3, 4]$$"
   ],
   "cell_type": "markdown",
   "metadata": {}
  },
  {
   "cell_type": "code",
   "execution_count": 9,
   "metadata": {},
   "outputs": [
    {
     "output_type": "stream",
     "name": "stdout",
     "text": [
      "[[1, 2], [1, 3], [1, 4], [2, 3], [2, 4], [3, 4]]\n"
     ]
    }
   ],
   "source": [
    "from backtracking.all_combinations import generate_all_combinations\n",
    "\"\"\"\n",
    "\"\"\"\n",
    "n,k=4,2     # 设置 n, k 值 ，其中 n>=k\n",
    "\n",
    "print(generate_all_combinations(n,k)) # 生成 generate_all_combinations 列表\n"
   ]
  },
  {
   "source": [
    "## 案例二： \n",
    "  $C_n^k = C_6^4 $ 的所有组合是：<br>\n",
    "\n",
    "$$ [[1, 2, 3, 4], [1, 2, 3, 5], [1, 2, 3, 6], [1, 2, 4, 5], [1, 2, 4, 6], [1, 2, 5, 6], [1, 3, 4, 5], [1, 3, 4, 6], [1, 3, 5, 6], [1, 4, 5, 6], [2, 3, 4, 5], [2, 3, 4, 6], [2, 3, 5, 6], [2, 4, 5, 6], [3, 4, 5, 6]] $$\n",
    "\n",
    " 其组合的数量应与 $ C_n^{(n-k)} = C_6^{(6-4)} $ 是一致的\n",
    " $$ [[1, 2], [1, 3], [1, 4], [1, 5], [1, 6], [2, 3], [2, 4], [2, 5], [2, 6], [3, 4], [3, 5], [3, 6], [4, 5], [4, 6], [5, 6]] $$"
   ],
   "cell_type": "markdown",
   "metadata": {}
  },
  {
   "cell_type": "code",
   "execution_count": 10,
   "metadata": {},
   "outputs": [
    {
     "output_type": "stream",
     "name": "stdout",
     "text": [
      "15\n[[1, 2, 3, 4], [1, 2, 3, 5], [1, 2, 3, 6], [1, 2, 4, 5], [1, 2, 4, 6], [1, 2, 5, 6], [1, 3, 4, 5], [1, 3, 4, 6], [1, 3, 5, 6], [1, 4, 5, 6], [2, 3, 4, 5], [2, 3, 4, 6], [2, 3, 5, 6], [2, 4, 5, 6], [3, 4, 5, 6]]\n15\n[[1, 2], [1, 3], [1, 4], [1, 5], [1, 6], [2, 3], [2, 4], [2, 5], [2, 6], [3, 4], [3, 5], [3, 6], [4, 5], [4, 6], [5, 6]]\n"
     ]
    }
   ],
   "source": [
    "from backtracking.all_combinations import generate_all_combinations\n",
    "\"\"\"\n",
    "\"\"\"\n",
    "n,k=6,4     # 设置 n, k 值 ，其中 n>=k\n",
    "\n",
    "myList = generate_all_combinations(n,k) # 生成 generate_all_combinations 列表\n",
    "print(len(myList)) # 显示其数量\n",
    "print(myList) # 显示明细list\n",
    "## 验证 C(6,4)=C(6,2)\n",
    "myList = generate_all_combinations(n,n-k) # 生成 generate_all_combinations 列表\n",
    "print(len(myList)) # 显示其数量\n",
    "print(myList) # 显示明细list\n",
    "\n"
   ]
  }
 ]
}