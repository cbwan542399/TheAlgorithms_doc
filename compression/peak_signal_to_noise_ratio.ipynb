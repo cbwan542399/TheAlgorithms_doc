{
 "metadata": {
  "language_info": {
   "codemirror_mode": {
    "name": "ipython",
    "version": 3
   },
   "file_extension": ".py",
   "mimetype": "text/x-python",
   "name": "python",
   "nbconvert_exporter": "python",
   "pygments_lexer": "ipython3",
   "version": "3.8.0"
  },
  "orig_nbformat": 2,
  "kernelspec": {
   "name": "python3",
   "display_name": "Python 3.8.0 64-bit ('myaivenv': venv)"
  },
  "metadata": {
   "interpreter": {
    "hash": "4570298ddf55f12d72b384cb5a92401407339203adac8a4a881fb11d70b7d0b5"
   }
  },
  "interpreter": {
   "hash": "4570298ddf55f12d72b384cb5a92401407339203adac8a4a881fb11d70b7d0b5"
  }
 },
 "nbformat": 4,
 "nbformat_minor": 2,
 "cells": [
  {
   "source": [
    "# peak_signal_to_noise_ratio  psnr 峰值信噪比\n",
    "\n",
    "psnr是“Peak Signal to Noise Ratio”的缩写，即峰值信噪比，是一种评价图像的客观标准，它具有局限性，一般是用于最大值信号和背景噪音之间的一个工程项目。<br>\n",
    "\n",
    "## 释义\n",
    "peak的中文意思是顶点。而ratio的意思是比率或比列的。整个意思就是到达噪音比率的顶点信号，psnr一般是用于最大值信号和背景噪音之间的一个工程项目。通常在经过影像压缩之后，输出的影像都会在某种程度与原始影像不同。为了衡量经过处理后的影像品质，我们通常会参考PSNR值来衡量某个处理程序能否令人满意。它是原图像与被处理图像之间的均方误差相对于 $ {(2^n-1)} ^2 $ 的对数值(信号最大值的平方，$ n $ 是每个采样值的比特数)，它的单位是dB。 MATLAB用法的公式如下：\n",
    " $$ PSNR = 10 \\times log_{10}{(\\frac{(2^n-1)^2} {MSE}) } $$  \n",
    "\n",
    "其中，MSE是原图像（语音）与处理图像（语音）之间均方误差。<br>\n",
    "Peak就是指 $ 8 $ bits表示法的最大值 $255 $ 。MSE指 MeanSquareError，I(角标n)指原始影像第n个pixel值，P(角标n)指经处理后的影像第n个pixel值。PSNR的单位为 $ dB $ 。所以PSNR值越大，就代表失真越少。<br>\n",
    "- 优缺点 <br>\n",
    "PSNR是最普遍，最广泛使用的评鉴画质的客观量测法，不过许多实验结果都显示，PSNR的分数无法和人眼看到的视觉品质完全一致，有可能PSNR较高者看起来反而比PSNR较低者差。这是因为人眼的视觉对于误差的敏感度并不是绝对的，其感知结果会受到许多因素的影响而产生变化（例如：人眼对空间频率较低的对比差异敏感度较高，人眼对亮度对比差异的敏感度较色度高，人眼对一个区域的感知结果会受到其周围邻近区域的影响）。<br>\n",
    "\n",
    "##  实现 <br>\n",
    "PSNR的Matlab实现 <br>\n",
    "```\n",
    "function PSNR = psnr(f1, f2)\n",
    "%计算两幅图像的峰值信噪比\n",
    "k = 8;\n",
    "%k为图像是表示每个像素点所用的二进制位数，即位深。\n",
    "fmax = 2.^k - 1;\n",
    "a = fmax.^2;\n",
    "MSE =(double(im2uint8(f1)) - double( im2uint8(f2))).^2;\n",
    "b = mean(mean(MSE));\n",
    "PSNR = 10*log10(a/b);\n",
    "```\n",
    "\n",
    "\n",
    "## 代码\n",
    "[peak_signal_to_noise_ratio.py]{..\\src\\compression\\peak_signal_to_noise_ratio.py}"
   ],
   "cell_type": "markdown",
   "metadata": {}
  },
  {
   "cell_type": "code",
   "execution_count": 1,
   "metadata": {},
   "outputs": [],
   "source": [
    "\"\"\"\n",
    "Prepare\n",
    "   1. sys.path 中增加 TheAlgorithms\\src 子模块\n",
    "\n",
    "\"\"\"\n",
    "import sys\n",
    "sys.path.append('E:\\dev\\AI\\TheAlgorithms\\src')\n"
   ]
  },
  {
   "source": [
    "## 案例一： all_rotations\n",
    "```\n",
    "all_rotations(s: str) -> list[str]:\n",
    "\"\"\"\n",
    ":param s: The string that will be rotated len(s) t\n",
    ":return: A list with the rotations.\n",
    ":raises TypeError: If s is not an instance of str.\n",
    "\"\"\"\n",
    "```"
   ],
   "cell_type": "markdown",
   "metadata": {}
  },
  {
   "cell_type": "code",
   "execution_count": 4,
   "metadata": {},
   "outputs": [
    {
     "output_type": "stream",
     "name": "stdout",
     "text": [
      "['^BANANA|', 'BANANA|^', 'ANANA|^B', 'NANA|^BA', 'ANA|^BAN', 'NA|^BANA', 'A|^BANAN', '|^BANANA']\n['a_asa_da_casa', '_asa_da_casaa', 'asa_da_casaa_', 'sa_da_casaa_a', 'a_da_casaa_as', '_da_casaa_asa', 'da_casaa_asa_', 'a_casaa_asa_d', '_casaa_asa_da', 'casaa_asa_da_', 'asaa_asa_da_c', 'saa_asa_da_ca', 'aa_asa_da_cas']\n['panamabanana', 'anamabananap', 'namabananapa', 'amabananapan', 'mabananapana', 'abananapanam', 'bananapanama', 'ananapanamab', 'nanapanamaba', 'anapanamaban', 'napanamabana', 'apanamabanan']\n"
     ]
    },
    {
     "output_type": "execute_result",
     "data": {
      "text/plain": [
       "\"\\n  ['panamabanana', 'anamabananap', 'namabananapa', 'amabananapan'\\n  'mabananapana', 'abananapanam', 'bananapanama', 'ananapanamab',\\n  'nanapanamaba', 'anapanamaban', 'napanamabana', 'apanamabanan']\\n\""
      ]
     },
     "metadata": {},
     "execution_count": 4
    }
   ],
   "source": [
    "from compression.lempel_ziv import lempel_ziv\n",
    "\"\"\"\n",
    "\"\"\"\n"
   ]
  },
  {
   "cell_type": "code",
   "execution_count": null,
   "metadata": {},
   "outputs": [],
   "source": []
  }
 ]
}