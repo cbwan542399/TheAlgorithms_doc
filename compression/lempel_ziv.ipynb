{
 "metadata": {
  "language_info": {
   "codemirror_mode": {
    "name": "ipython",
    "version": 3
   },
   "file_extension": ".py",
   "mimetype": "text/x-python",
   "name": "python",
   "nbconvert_exporter": "python",
   "pygments_lexer": "ipython3",
   "version": "3.8.0"
  },
  "orig_nbformat": 2,
  "kernelspec": {
   "name": "python3",
   "display_name": "Python 3.8.0 64-bit ('myaivenv': venv)"
  },
  "metadata": {
   "interpreter": {
    "hash": "4570298ddf55f12d72b384cb5a92401407339203adac8a4a881fb11d70b7d0b5"
   }
  },
  "interpreter": {
   "hash": "4570298ddf55f12d72b384cb5a92401407339203adac8a4a881fb11d70b7d0b5"
  }
 },
 "nbformat": 4,
 "nbformat_minor": 2,
 "cells": [
  {
   "source": [
    "# lempel_ziv LZW算法\n",
    "\n",
    "LZW算法又叫“串表压缩算法”就是通过建立一个字符串表，用较短的代码来表示较长的字符串来实现压缩。 LZW压缩算法是Unisys的专利，有效期到2003年，所以对它的使用已经没有限制了。\n",
    "\n",
    "## LZW算法简介\n",
    "字符串和编码的对应关系是在压缩过程中动态生成的，并且隐含在压缩数据中，解压的时候根据表来进行恢复，算是一种无损压缩. <br>\n",
    "\n",
    "根据 Lempel-Ziv-Welch Encoding ，简称 LZW 的压缩算法，用任何一种语言来实现它.\n",
    "LZW压缩算法的基本概念：LZW压缩有三个重要的对象：数据流（CharStream）、编码流（CodeStream）和编译表（String Table）。在编码时，数据流是输入对象（文本文件的据序列），编码流就是输出对象（经过压缩运算的编码数据）；在解码时，编码流则是输入对象，数据流是输出对象；而编译表是在编码和解码时都须要用借助的对象。<br>\n",
    "字符（Character）：最基础的数据元素，在文本文件中就是一个字节，在光栅数据中就是一个像素的颜色在指定的颜色列表中的索引值；<br>\n",
    "字符串（String）：由几个连续的字符组成；<br>\n",
    "前缀（Prefix）：也是一个字符串，不过通常用在另一个字符的前面，而且它的长度可以为0；<br>\n",
    "根（Root）：一个长度的字符串；<br>\n",
    "编码（Code）：一个数字，按照固定长度（编码长度）从编码流中取出，编译表的映射值；图案：一个字符串，按不定长度从数据流中读出，映射到编译表条目.<br>\n",
    "\n",
    "LZW压缩算法的基本原理：提取原始文本文件数据中的不同字符，基于这些字符创建一个编译表，然后用编译表中的字符的索引来替代原始文本文件数据中的相应字符，减少原始数据大小。看起来和调色板图象的实现原理差不多，但是应该注意到的是，我们这里的编译表不是事先创建好的，而是根据原始文件数据动态创建的，解码时还要从已编码的数据中还原出原来的编译表. <br>\n",
    "## LZW算法 <br>\n",
    "### LZW压缩算法 <br>\n",
    "LZW算法基于转换串表（字典）T，将输入字符串映射成定长（通常为12位）的码字。在12位4096种可能的代码中，256个代表单字符，剩下3840给出现的字符串。<br>\n",
    "LZW字典中的字符串具有前缀性，即 ωK∈T=>；ωT。<br>\n",
    "LZW算法流程：<br>\n",
    "步骤1： 开始时的词典包含所有可能的根(Root)，而当前前缀P是空的；<br>\n",
    "　　步骤2： 当前字符(C) ：=字符流中的下一个字符；<br>\n",
    "　　步骤3： 判断缀-符串P+C是否在词典中 <br>\n",
    "　　(1) 如果“是”：P ：= P+C // (用C扩展P) ；<br>\n",
    "　　(2) 如果“否” <br>\n",
    "　　① 把代表当前前缀P的码字输出到码字流;<br>\n",
    "　　② 把缀-符串P+C添加到词典; <br>\n",
    "　　③ 令P ：= C //(现在的P仅包含一个字符C);<br>\n",
    "　　步骤4： 判断码字流中是否还有码字要译 <br>\n",
    "　　(1) 如果“是”，就返回到步骤2；<br>\n",
    "　　(2) 如果“否” <br>\n",
    "　　① 把代表当前前缀P的码字输出到码字流; <br>\n",
    "　　② 结束。<br>\n",
    "　　\n",
    "### LZW解压算法 <br>\n",
    "具体解压步骤如下：<br>\n",
    "(1)译码开始时Dictionary包含所有的根。<br>\n",
    "(2)读入在编码数据流中的第一个码字 cW(它表示一个Root)。<br>\n",
    "(3)输出String.cW到字符数据流Charstream。<br>\n",
    "(4)使pW=cW 。<br>\n",
    "(5)读入编码数 据流 的下一个码字cW 。<br>\n",
    "(6)目前在字典中有String.cW吗?<br>\n",
    "YES：1)将String．cW输出给字符数据流；<br>\n",
    "2)使P=String.pW；<br>\n",
    "3)使C=String.cW的第一个字符；<br>\n",
    "4)将字符 串P+C添 加进Dictionray。<br>\n",
    "NO ：1)使P=String.pW ；<br>\n",
    "2)使C=String.pW的第一个字符；<br>\n",
    "3)将字符串P+C输出到字符数据流并将其添加进Dictionray(现在它与cW相一致)。<br>\n",
    "(7)在编码数据 流中还有Codeword吗? <br>\n",
    "YES：返回(4)继 续进行 译码 。<br>\n",
    "NO：结束译码 。<br>\n",
    "## LZW压缩的特点\n",
    "LZW码能有效利用字符出现频率冗余度进行压缩，且字典是自适应生成的，但通常不能有效地利用位置冗余度。<br>\n",
    "具体特点如下：<br>\n",
    "l)LZW压缩技术对于可预测性不大的数据具有较好的处理效果，常用于TIF格式的图像压缩，其平均压缩比在2：1以上，最高压缩比可达到3：1。<br>\n",
    "2）对于数据流中连续重复出现的字节和字串，LZW压缩技术具有很高的压缩比。<br>\n",
    "3）除了用于图像数据处理以外，LZW压缩技术还被用于文本程序等数据压缩领域。<br>\n",
    "4)LZW压缩技术有很多变体，例如常见的ARC、RKARC、PKZIP高效压缩程序。<br>\n",
    "5）对于任意宽度和像素位长度的图像，都具有稳定的压缩过程。压缩和解压缩速度较快。<br>\n",
    "6）对机器硬件条件要求不高，在 Intel 80386的计算机上即可进行压缩和解压缩。<br>\n",
    "\n",
    "## 代码\n",
    "[lempel_ziv.py]{..\\src\\compression\\lempel_ziv.py}"
   ],
   "cell_type": "markdown",
   "metadata": {}
  },
  {
   "cell_type": "code",
   "execution_count": 1,
   "metadata": {},
   "outputs": [],
   "source": [
    "\"\"\"\n",
    "Prepare\n",
    "   1. sys.path 中增加 TheAlgorithms\\src 子模块\n",
    "\n",
    "\"\"\"\n",
    "import sys\n",
    "sys.path.append('E:\\dev\\AI\\TheAlgorithms\\src')\n"
   ]
  },
  {
   "source": [
    "## 案例一： all_rotations\n",
    "```\n",
    "all_rotations(s: str) -> list[str]:\n",
    "\"\"\"\n",
    ":param s: The string that will be rotated len(s) t\n",
    ":return: A list with the rotations.\n",
    ":raises TypeError: If s is not an instance of str.\n",
    "\"\"\"\n",
    "```"
   ],
   "cell_type": "markdown",
   "metadata": {}
  },
  {
   "cell_type": "code",
   "execution_count": 4,
   "metadata": {},
   "outputs": [
    {
     "output_type": "stream",
     "name": "stdout",
     "text": [
      "['^BANANA|', 'BANANA|^', 'ANANA|^B', 'NANA|^BA', 'ANA|^BAN', 'NA|^BANA', 'A|^BANAN', '|^BANANA']\n['a_asa_da_casa', '_asa_da_casaa', 'asa_da_casaa_', 'sa_da_casaa_a', 'a_da_casaa_as', '_da_casaa_asa', 'da_casaa_asa_', 'a_casaa_asa_d', '_casaa_asa_da', 'casaa_asa_da_', 'asaa_asa_da_c', 'saa_asa_da_ca', 'aa_asa_da_cas']\n['panamabanana', 'anamabananap', 'namabananapa', 'amabananapan', 'mabananapana', 'abananapanam', 'bananapanama', 'ananapanamab', 'nanapanamaba', 'anapanamaban', 'napanamabana', 'apanamabanan']\n"
     ]
    },
    {
     "output_type": "execute_result",
     "data": {
      "text/plain": [
       "\"\\n  ['panamabanana', 'anamabananap', 'namabananapa', 'amabananapan'\\n  'mabananapana', 'abananapanam', 'bananapanama', 'ananapanamab',\\n  'nanapanamaba', 'anapanamaban', 'napanamabana', 'apanamabanan']\\n\""
      ]
     },
     "metadata": {},
     "execution_count": 4
    }
   ],
   "source": [
    "from compression.lempel_ziv import lempel_ziv\n",
    "\"\"\"\n",
    "\"\"\"\n"
   ]
  },
  {
   "cell_type": "code",
   "execution_count": null,
   "metadata": {},
   "outputs": [],
   "source": []
  }
 ]
}