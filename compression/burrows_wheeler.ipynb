{
 "metadata": {
  "language_info": {
   "codemirror_mode": {
    "name": "ipython",
    "version": 3
   },
   "file_extension": ".py",
   "mimetype": "text/x-python",
   "name": "python",
   "nbconvert_exporter": "python",
   "pygments_lexer": "ipython3",
   "version": "3.8.0"
  },
  "orig_nbformat": 2,
  "kernelspec": {
   "name": "python3",
   "display_name": "Python 3.8.0 64-bit ('myaivenv': venv)"
  },
  "metadata": {
   "interpreter": {
    "hash": "4570298ddf55f12d72b384cb5a92401407339203adac8a4a881fb11d70b7d0b5"
   }
  },
  "interpreter": {
   "hash": "4570298ddf55f12d72b384cb5a92401407339203adac8a4a881fb11d70b7d0b5"
  }
 },
 "nbformat": 4,
 "nbformat_minor": 2,
 "cells": [
  {
   "source": [
    "# Burrows–Wheeler Burrows-Wheeler变换（块排序压缩）（BWT)\n",
    "\n",
    "## 概述 <br>\n",
    "\n",
    "Burrows–Wheeler变换(BWT，也称作块排序压缩)，是一个被应用在数据压缩技术(如bzip2)中的算法。该算法于1994年被Michael Burrows和David Wheeler在位于加利福尼亚州帕洛阿尔托的DEC系统研究中心发明。它的基础是之前Wheeler在1983年发明的一种没有公开的转换方法。<br>\n",
    "当一个字符串用该算法转换时，算法只改变这个字符串中字符的顺序而并不改变其字符。如果原字符串有几个出现多次的子串，那么转换过的字符串上就会有一些连续重复的字符，这对压缩是很有用的。该方法能使得基于处理字符串中连续重复字符的技术(如MTF变换和游程编码)的编码更容易被压缩。<br>\n",
    "更加重要的是Burrows-Wheeler变换另一个特性，即在不储存额外数据的前提下该变换是完全可逆的。换句话说，Burrows-Wheeler变换是一个“免费”的提高文本压缩效率的算法，它以牺牲额外的计算为代价，换来的是更高效率的存储压缩。 <br>\n",
    "举个例子:  <br>\n",
    "```\n",
    "算法输入\n",
    "SIX.MIXED.PIXIES.SIFT.SIXTY.PIXIE.DUST.BOXES\n",
    "算法输出\n",
    "TEXYDST.E.IXIXIXXSSMPPS.B..E.S.EUSFXDIIOIIIT\n",
    "```\n",
    "该算法的输出因为有更多的重复字符而更容易被压缩了。<br>\n",
    "\n",
    "## 扩展 Burrows-Wheeler 算法基本原理 <br>\n",
    "设 $ D $  为一个有序字母表，在 $ D $  上定义一个有限字符序列(有时也称为单词) <br>\n",
    "$ u = d_1 \\quad d_2 \\quad \\cdots \\quad d_n $． 全部定义在 $ D $ 上的序列构成一个集合，记为 $ D^* $ ． <br>\n",
    "\n",
    "设 $ a，b ∈D^* $ ，如果存在 $ m，n ∈ D^* $ 使得 $ a = m \\quad n $ 以及 $ b = m \\quad n $ ，<br>\n",
    "\n",
    "则称 $ a $ 是 $ b $  的一个循环位移，也可称 $ a $ 与 $ b $ 是共轭的，记为 $ a ～ b $． <br>\n",
    "\n",
    "若有 $ n ∈ D^* $ ，且 $ n =m k \\text 且 \\quad n = m，k = 1 $ ，则称 $ n $  为素词． 因为 $ D $  是一个有序的字母集合，所以在 $ D^* $ 中任意两个不同的单词都可以按一定的顺序比较先后，我们称 $ D^* $ 为全序集合．<br>\n",
    "\n",
    "设 $ m ∈D^* $  ，令 $ m \\quad u = m \\quad m \\quad m \\quad m \\cdots $ ，则 $ m \\quad u $ 是一个定义在 D 上的无限词． 为判断两个无限词的序关系，可采用字典顺序． <br>\n",
    "\n",
    "假设给定两个无限词 $ α =α_1 \\quad α_2 \\quad α_3 \\quad \\cdots $ 以及 $ β = β_1 \\quad β_2 \\quad β_3 \\quad \\cdots $, <br>\n",
    "\n",
    "$ α < l_{ex} β $ 意味着存在 $ j $ 使得 $ α_i = β_i $，$ i = 1，2，\\cdots，j-1 $ ，且有 $ α_j = β_j $．<br>\n",
    "\n",
    "取定两个素词 $ p，q ∈D^* $ ，其中 $ q \\quad Cp $ ，利用Burrows-Wheeler 变换，分别得到 $ p，q  $ 对应的共轭等价类 $ C_p $  和 $ C_q $．<br>\n",
    "\n",
    "易知，$ C_p ∩ C_q = φ $ ． 令 $ Sp，q = C_p ∪ C_q $  ． $ S_p，q $ 按照 $ < ω $ 序关系构成一个全序集． 用 $ 0 $ 和 $ 1 $  分别标记 $ S_p，q $ 中属于 $ C_p $ 和 $ C_q $ 的元素．将 $ DNA $  序列看成字母集 $ D = \\{A，C，G，T } $ 上的一个词．<br>\n",
    "\n",
    "## Burrows–Wheeler变换过程\n",
    "\n",
    "Burrows-Wheeler变换首先将输入的序列进行“全循环排列”。即将输入字符串的首位字母放置再最后一位，其他字母依次向前移动一位，得到原字符串一个循环排列字符串。重复循环排列的过程直至得到原始的字符串。此时可以得到全部可能的循环排列字符串，得到与字符数目相同的循环排列数目（如下表中有11个字母，得到11种可能的循环排列）。Burrows-Wheeler变换之后将得到的“全循环排列”的字符串按照字典序排序。排序后的每个全循环字符串的最后一个字母练成的字符串（即下表中“将所有的字符串按照字典序排序”中的最后一列），即为Burrows-Wheeler变换的输出。 <br>\n",
    "\n",
    "## Burrows–Wheeler变换的逆过程 <br>\n",
    "\n",
    "Burrows-Wheeler变换最卓著的贡献并不在于它能够提供更加易于压缩的输出，而在于它提供了一种不需要额外数据就能够实现可逆变换的算法。<br>\n",
    "逆变换的过程首先将原本的输出放入一个列，然后对所有行进行字典序排序（排序1）。逆变换重复这一过程，在已经排序的结果前面加BWT的输入的一列，然后再将所有行进行排序（排序2）。\n",
    "这一过程一直重复，直至每一行的字符数目与原本字符的数目相同为止。此时所有行就是原字符串的“全循环排列”的字符串。其中结尾为EOF的行，就是原本的字符串。（注：通常字符串的结尾以$表示） <br>\n",
    "```\n",
    "function BWT (string s) \n",
    "生成s所有的循环字符串 \n",
    "将这些字符串按字典序排序 \n",
    "返回最后排序后字符串的最后一列 \n",
    "```\n",
    "下面的伪代码提供了一个逆过程的朴素实现(输入字符串s为原过程之输出)：<br>\n",
    "```\n",
    "function inverseBWT (string s)\n",
    "生成length(s)个空串a\n",
    "循环 length(s) 次\n",
    "将s放在串a的每一行的最前面一列\n",
    "将a按照字典序排序\n",
    "返回结尾为EOF的行\n",
    "```\n",
    "\n",
    "## 算法优化 <br>\n",
    "有许多关于Burrows-Wheeler变换算法的优化，可以在不改变输出的前提下使得运算更加有效率。譬如在Burrows-Wheeler变换和Burrows-Wheeler逆变换过程中，都不需要循环的表。每一行的循环排序字符串可以用一个指向字符串的下标或指针表示，而排序的过程也用下标或指针进行。但是这里要小心有的编程语言在用下标或指针进行排序时会不按照预想的方式工作，进而产生错误。<br>\n",
    "而且通过数学推导可知，可以通过Burrows-Wheeler变换得到的字符串计算后缀数组的变体，进而在线性的时间复杂度和空间复杂度内计算后缀数组。<br>\n",
    "除此之外，其实可以通过下标或指针的方式记录最后一位的字符，而不必加入EOF。这样Burrows-Wheeler变换虽然输出中新添了下标或指针 ，但是却没有了EOF，因此输出的长度没有明显的增加。但是却能够节省计算。而Burrows-Wheeler逆变换则输出没有EOF的原始字符串。<br>\n",
    "\n",
    "## 基于 BWT 的无损压缩 \n",
    "\n",
    "由于 BWT 能使大量相同的字符聚集在一起,使用 BWT 之后, 再对数据进行压缩编码, 可以获得更好的压缩效果。BWT 正在被广泛研究与应用( 不仅用于压缩, 还用于数据加密和压缩域搜索等) , 如开源压缩工具 bzip 利用 BWT 获得了巨大的成功, 传统的基于 BWT 的无损压缩系统结构如下图 所示。<br>\n",
    "\n",
    "系统结构MTF( Move-to-front) 的基本操作是输出当前字符在字符集中的位置, 并把该字符移到字符集前端。由于 T 经 BWT 后, 会出现连续的相同字符,所以经 MTF 之后, 得到的结果将是连续的 0 和一些列的小整数, 利于进一步降低整体熵值。<br>\n",
    "游程编码( RLE: Run-Length encoding ) 是将具有相同数值的、连续出现的字符构成的字符串用数值及串的长度表示。0 阶编码一般采用算术编码和 Huffman 编码,如 bzip 使用的是算术编码, 由于受专利限制, bzip2改用了 Huffman 编码。<br>\n",
    "\n",
    "## 基于 BWT 的经典压缩算法分析 <br>\n",
    "\n",
    "经过前面的介绍和分析, 我们可以推测, 对数据经过 BWT 后再使用经典压缩算法进行编码, 将使压缩效果进一步提高。由于 MTF 和游程编码只对连续出现的字符才能起到压缩效果, 而对非连续但是存在上下文相关性的字符串反而会使编码长度增加, 所以我们在此摒弃了这两个环节, 多阶算术编码和 LZW 算法能有效的利用连续和非连续字符的相关性进行压缩。在进行 BWT 时我们设置的数据块大小为 2 兆字节( MByte) , 用 BWT 进行完预处理, 再进行三阶算术编码和 LZW 编码的试验结果如下图所示。<br>\n",
    "\n",
    "## BWT算法分析 <br>\n",
    "从左图可以看出, 小于 2 兆字节的文件, 其 BWT 前后压缩比变化不明显, 但大于 2 兆字节的文件( 文件9 和文件 10) , 进行 BWT 之后, 其压缩比显著下降,两文件在LZW 编码下压缩比分别降低了 18. 84%和11. 33%, 在三阶算术编码下分别降低了 5. 15%和2.83%。 还可知压缩工具 WinRAR 对测试文件的压缩比介于三阶算术编码和 LZW 之间。从右图可知,BWT 前后压缩算法的总耗时没有明显的变化, 三阶算术编码略增, LZW 略减。通过以上分析可知, 对于较大的文件, 经 BWT分块排序再进行压缩, 压缩效果能有效提高。,所以 BWT 结合多阶算术编码也是一种有前景的压缩方案。<br>\n",
    "\n",
    "## 前景与展望\n",
    "BWT 是一种非常实用的可逆变换方法, 经BWT变换后的数据具有聚类效应, 利于压缩。在分析研究了试验结果之后, 发现把 BWT 与多阶算术编码、LZW 编码结合起来的压缩方案, 很适合于对大文件的压缩。在 BWT 中如何实现线性时间排序以及数据块大小对压缩编码效率的影响是接下来非常有前景的算法研究问题。<br>\n",
    "\n",
    "## 代码\n",
    "[burrows_wheeler.py]{..\\src\\compression\\burrows_wheeler.py}"
   ],
   "cell_type": "markdown",
   "metadata": {}
  },
  {
   "cell_type": "code",
   "execution_count": 1,
   "metadata": {},
   "outputs": [],
   "source": [
    "\"\"\"\n",
    "Prepare\n",
    "   1. sys.path 中增加 TheAlgorithms\\src 子模块\n",
    "\n",
    "\"\"\"\n",
    "import sys\n",
    "sys.path.append('E:\\dev\\AI\\TheAlgorithms\\src')\n"
   ]
  },
  {
   "source": [
    "## 案例一： all_rotations\n",
    "```\n",
    "all_rotations(s: str) -> list[str]:\n",
    "\"\"\"\n",
    ":param s: The string that will be rotated len(s) t\n",
    ":return: A list with the rotations.\n",
    ":raises TypeError: If s is not an instance of str.\n",
    "\"\"\"\n",
    "```"
   ],
   "cell_type": "markdown",
   "metadata": {}
  },
  {
   "cell_type": "code",
   "execution_count": 4,
   "metadata": {},
   "outputs": [
    {
     "output_type": "stream",
     "name": "stdout",
     "text": [
      "['^BANANA|', 'BANANA|^', 'ANANA|^B', 'NANA|^BA', 'ANA|^BAN', 'NA|^BANA', 'A|^BANAN', '|^BANANA']\n['a_asa_da_casa', '_asa_da_casaa', 'asa_da_casaa_', 'sa_da_casaa_a', 'a_da_casaa_as', '_da_casaa_asa', 'da_casaa_asa_', 'a_casaa_asa_d', '_casaa_asa_da', 'casaa_asa_da_', 'asaa_asa_da_c', 'saa_asa_da_ca', 'aa_asa_da_cas']\n['panamabanana', 'anamabananap', 'namabananapa', 'amabananapan', 'mabananapana', 'abananapanam', 'bananapanama', 'ananapanamab', 'nanapanamaba', 'anapanamaban', 'napanamabana', 'apanamabanan']\n"
     ]
    },
    {
     "output_type": "execute_result",
     "data": {
      "text/plain": [
       "\"\\n  ['panamabanana', 'anamabananap', 'namabananapa', 'amabananapan'\\n  'mabananapana', 'abananapanam', 'bananapanama', 'ananapanamab',\\n  'nanapanamaba', 'anapanamaban', 'napanamabana', 'apanamabanan']\\n\""
      ]
     },
     "metadata": {},
     "execution_count": 4
    }
   ],
   "source": [
    "from compression.burrows_wheeler import all_rotations\n",
    "\"\"\"\n",
    "\"\"\"\n",
    "print(all_rotations(\"^BANANA|\"))\n",
    "'''\n",
    "  ['^BANANA|', 'BANANA|^'\n",
    "  'A|^BANAN', '|^BANANA']\n",
    "'''\n",
    "print(all_rotations(\"a_asa_da_casa\")) # doctest: +NORMALIZE_WHITES\n",
    "'''\n",
    "  ['a_asa_da_casa', '_asa_da_casaa', 'asa_da_casaa_', 'sa_da_casa\n",
    "  'a_da_casaa_as', '_da_casaa_asa', 'da_casaa_asa_', 'a_casaa_asa\n",
    "  '_casaa_asa_da', 'casaa_asa_da_', 'asaa_asa_da_c', 'saa_asa_da_\n",
    "  'aa_asa_da_cas']\n",
    "'''\n",
    "print(all_rotations(\"panamabanana\")) # doctest: +NORMALIZE_WHITESP\n",
    "'''\n",
    "  ['panamabanana', 'anamabananap', 'namabananapa', 'amabananapan'\n",
    "  'mabananapana', 'abananapanam', 'bananapanama', 'ananapanamab',\n",
    "  'nanapanamaba', 'anapanamaban', 'napanamabana', 'apanamabanan']\n",
    "'''\n",
    "\n"
   ]
  },
  {
   "source": [
    "## 案例二： bwt_transform\n",
    "```\n",
    "bwt_transform(s: str) -> dict:\n",
    "    :param s: The string that will be used at bwt a\n",
    "    :return: the string composed of the last char o\n",
    "    rotations and the index of the original string \n",
    "    :raises TypeError: If the s parameter type is n\n",
    "    :raises ValueError: If the s parameter is empty\n",
    "```"
   ],
   "cell_type": "markdown",
   "metadata": {}
  },
  {
   "cell_type": "code",
   "execution_count": 15,
   "metadata": {},
   "outputs": [
    {
     "output_type": "stream",
     "name": "stdout",
     "text": [
      "{'bwt_string': 'BNN^AAA', 'idx_original_string': 6}\n{'bwt_string': 'aaaadss_c__aa', 'idx_original_string': 3}\n{'bwt_string': 'mnpbnnaaaaaa', 'idx_original_string': 11}\n{'bwt_string': 'TEXYDST.E.IXIXIXXSSMPPS.B..E.S.EUSFXDIIOIIIT', 'idx_original_string': 29}\n"
     ]
    }
   ],
   "source": [
    "from compression.burrows_wheeler import bwt_transform\n",
    "\"\"\"\n",
    "\"\"\"\n",
    "print(bwt_transform(\"^BANANA\"))\n",
    "'''\n",
    " {'bwt_string': 'BNN^AAA', 'idx_original_string': 6}\n",
    "'''\n",
    "print(bwt_transform(\"a_asa_da_casa\"))\n",
    "'''\n",
    "{'bwt_string': 'aaaadss_c__aa', 'idx_original_string': 3}\n",
    "'''\n",
    "print(bwt_transform(\"panamabanana\"))\n",
    "'''\n",
    "{'bwt_string': 'mnpbnnaaaaaa', 'idx_original_string': 11}\n",
    "'''\n",
    "print(bwt_transform(\"SIX.MIXED.PIXIES.SIFT.SIXTY.PIXIE.DUST.BOXES\"))\n",
    "# TEXYDST.E.IXIXIXXSSMPPS.B..E.S.EUSFXDIIOIIIT"
   ]
  },
  {
   "source": [
    "## 案例三： reverse_bwt\n",
    "```\n",
    "def reverse_bwt(bwt_string: str, idx_original_string: int) -> str:\n",
    "    \"\"\"\n",
    "    :param bwt_string: The string returned from bwt algorithm execution\n",
    "    :param idx_original_string: A 0-based index of the string that was used to\n",
    "    generate bwt_string at ordered rotations list\n",
    "    :return: The string used to generate bwt_string when bwt was executed\n",
    "    :raises TypeError: If the bwt_string parameter type is not str\n",
    "    :raises ValueError: If the bwt_string parameter is empty\n",
    "    :raises TypeError: If the idx_original_string type is not int or if not\n",
    "    possible to cast it to int\n",
    "    :raises ValueError: If the idx_original_string value is lower than 0 or\n",
    "    greater than len(bwt_string) - 1\n",
    "```"
   ],
   "cell_type": "markdown",
   "metadata": {}
  },
  {
   "cell_type": "code",
   "execution_count": 8,
   "metadata": {},
   "outputs": [
    {
     "output_type": "stream",
     "name": "stdout",
     "text": [
      "^BANANA\na_asa_da_casa\npanamabanana\n"
     ]
    }
   ],
   "source": [
    "from compression.burrows_wheeler import reverse_bwt\n",
    "\"\"\"\n",
    "\"\"\"\n",
    "print(reverse_bwt(\"BNN^AAA\", 6))  # '^BANANA'\n",
    "print(reverse_bwt(\"aaaadss_c__aa\", 3)) #    'a_asa_da_casa'\n",
    "print(reverse_bwt(\"mnpbnnaaaaaa\", 11)) #    'panamabanana'\n",
    "    "
   ]
  },
  {
   "cell_type": "code",
   "execution_count": null,
   "metadata": {},
   "outputs": [],
   "source": [
    "## 案例四： bwt then reverse_bwt"
   ]
  },
  {
   "cell_type": "code",
   "execution_count": 14,
   "metadata": {},
   "outputs": [
    {
     "output_type": "stream",
     "name": "stdout",
     "text": [
      "Burrows Wheeler transform for string 'g abcdefga' results in 'g gabcdeaf'  idx_original_string: ' 8'\nrotations: [' abcdefgag', 'abcdefgag ', 'ag abcdefg', 'bcdefgag a', 'cdefgag ab', 'defgag abc', 'efgag abcd', 'fgag abcde', 'g abcdefga', 'gag abcdef']\nrotations.index: 8\nReversing Burrows Wheeler transform for entry 'g gabcdeaf' we get original string 'abcdefga'\n"
     ]
    }
   ],
   "source": [
    " from compression.burrows_wheeler import all_rotations,bwt_transform,reverse_bwt\n",
    "\n",
    "entry_msg = \"Provide a string that I will generate its BWT transform: \"\n",
    "\n",
    "s = \"g abcdefga\"\n",
    " \n",
    "result = bwt_transform(s)\n",
    "print(\n",
    "    f\"Burrows Wheeler transform for string '{s}' results \"\n",
    "    f\"in '{result['bwt_string']}'\",\n",
    "    f\" idx_original_string: ' {result['idx_original_string']}'\",\n",
    ")\n",
    "rotations = all_rotations(s)\n",
    "rotations.sort()  # sort the list of rotations in alphabetically order\n",
    "\n",
    "print(f\"rotations: {rotations}\")\n",
    "print (f\"rotations.index: {rotations.index(s)}\")\n",
    "\n",
    "print(\n",
    "    f\"Reversing Burrows Wheeler transform for entry '{result['bwt_string']}' \"\n",
    "    f\"we get original string '{original_string}'\"\n",
    ")"
   ]
  },
  {
   "cell_type": "code",
   "execution_count": null,
   "metadata": {},
   "outputs": [],
   "source": []
  }
 ]
}