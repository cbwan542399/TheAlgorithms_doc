{
 "metadata": {
  "language_info": {
   "codemirror_mode": {
    "name": "ipython",
    "version": 3
   },
   "file_extension": ".py",
   "mimetype": "text/x-python",
   "name": "python",
   "nbconvert_exporter": "python",
   "pygments_lexer": "ipython3",
   "version": "3.8.0"
  },
  "orig_nbformat": 2,
  "kernelspec": {
   "name": "pythonjvsc74a57bd04570298ddf55f12d72b384cb5a92401407339203adac8a4a881fb11d70b7d0b5",
   "display_name": "Python 3.8.0  ('myaivenv': venv)"
  },
  "metadata": {
   "interpreter": {
    "hash": "4570298ddf55f12d72b384cb5a92401407339203adac8a4a881fb11d70b7d0b5"
   }
  }
 },
 "nbformat": 4,
 "nbformat_minor": 2,
 "cells": [
  {
   "source": [
    "\n",
    "# bit_manipulation 二进制位操作\n",
    "\n",
    "- binary_and(a: int, b: int) -> str <br>\n",
    "  整数二进制 and 操作 <br>\n",
    "  对两个整形参数，先转换成二进制，对2个二进制数据进行 and 与操作，返回 二进制字符制 <br>\n",
    "- binary_or(a: int, b: int) -> str <br>\n",
    "   or 或 操作\n",
    "- binary_xor(a: int, b: int) -> str <br>\n",
    "   xor 异或 操作\n",
    "\n",
    "\n",
    "- binary_count_setbits(a: int) -> int <br>\n",
    "   转换二进制数，统计“1” 的数量 <br>\n",
    "   其算法为： bin(a).count(\"1\")\n",
    "\n",
    "- binary_count_trailing_zeros(a: int) -> int <br>\n",
    "    统计属随“0” 数量 <br>\n",
    "    其算法为：int(log2(a & -a))\n",
    "- binary_shift\n",
    "    二进制移位，包含：\n",
    "    - logical_left_shift(number: int, shift_amount: int) -> str <br>\n",
    "      将 number: int 转换二进制后，左移 shift_amount: int 位，返回 二进制字符串\n",
    "    - logical_right_shift(number: int, shift_amount: int) -> str <br>\n",
    "      将 number: int 转换二进制后，左移 shift_amount: int 位，返回 二进制字符串\n",
    "    \n",
    "- twos_complement(number: int) -> str <br>\n",
    "    二进制补码  <br>\n",
    "    原码, 反码, 补码的基础概念和计算方法 <br>\n",
    "    1. 原码 <br>\n",
    "      原码就是符号位加上真值的绝对值, 即用第一位表示符号, 其余位表示值. 比如如果是8位二进制: <br>\n",
    "       ```\n",
    "       [+1]原 = 0000 0001\n",
    "       [-1]原 = 1000 0001\n",
    "       ```\n",
    "    2. 反码 <br>\n",
    "       反码的表示方法是: <br>\n",
    "       正数的反码是其本身 <br>\n",
    "       负数的反码是在其原码的基础上, 符号位不变，其余各个位取反. <br>\n",
    "       ```\n",
    "       [+1] = [00000001]原 = [00000001]反\n",
    "       [-1] = [10000001]原 = [11111110]反\n",
    "      ```\n",
    "    3. 补码 <br>\n",
    "       补码的表示方法是: <br>\n",
    "       正数的补码就是其本身 <br>\n",
    "       负数的补码是在其原码的基础上, 符号位不变, 其余各位取反, 最后+1. (即在反码的基础上+1)\n",
    "      ```\n",
    "       [+1] = [00000001]原 = [00000001]反 = [00000001]补\n",
    "       [-1] = [10000001]原 = [11111110]反 = [11111111]补\n",
    "      ```\n",
    "    \n",
    "## 为何设置原码、补码、反码\n",
    "计算机只能识别0和1，使用的是二进制。而在日常生活中人们使用的是十进制，并且我们用的数值有正负之分。于是在计算机中就用一个数的最高位存放符号(0为正，1为负)。这就是机器数的原码了。<br>\n",
    "有了数值的表示方法就可以对数进行算术运算，但是很快就发现用带符号位的原码进行乘除运算时结果正确，而在加减运算的时候就出现了问题，如下：假设字长为8bits\n",
    "(1) 10 - (1)10 = (1)10 + (-1)10 = (0)10\n",
    "(0 0000001)原 + (1 0000001)原 = (1 0000010)原 = ( -2 )　显然不正确。\n",
    "因为在两个整数的加法运算中是没有问题的，于是就发现问题出现在带符号位的负数身上。对除符号位外的其余各位逐位取反就产生了反码。反码的取值空间和原码相同且一一对应。下面是反码的减法运算：\n",
    "(1)10 - (1)10 = (1)10 + (-1)10 = (0)10\n",
    "(0 0000001)反 + (1 1111110)反 = (1 1111111)反 = ( -0 )　有问题。\n",
    "(1)10 - (2)10 = (1)10 + (-2)10 = (-1)10\n",
    "(0 0000001)反 + (1 1111101)反 = (11111110)反 = (-1)　正确。\n",
    "问题出现在(+0)和(-0)上，在人们的计算概念中零是没有正负之分的。（印度人首先将零作为标记并放入运算之中，包含有零号的印度数学和十进制计数对人类文明的贡献极大）。\n",
    "于是就引入了补码概念。负数的补码就是对反码加一，而正数的补码不变，正数的原码反码补码是一样的。在补码中用(-128)代替了(-0)，这个是人为规定的，所以补码的表示范围为：\n",
    "(-128~0~127)共256个。\n",
    "\n",
    "  \n",
    "\n",
    "## 范例：\n",
    "\n",
    "\n",
    "## 代码\n",
    "[bit_manipulation\\*.py]{..\\src\\bit_manipulation\\*.py}\n",
    "\n",
    "\n"
   ],
   "cell_type": "markdown",
   "metadata": {}
  },
  {
   "cell_type": "code",
   "execution_count": 1,
   "metadata": {},
   "outputs": [],
   "source": [
    "\"\"\"\n",
    "Prepare\n",
    "   1. sys.path 中增加 TheAlgorithms\\src 子模块\n",
    "\n",
    "\"\"\"\n",
    "import sys\n",
    "sys.path.append('E:\\dev\\AI\\TheAlgorithms\\src')\n"
   ]
  },
  {
   "source": [
    "## 案例一：\n",
    "  binary_and(a: int, b: int) -> str  <br>\n",
    "  并将其结果 与 (与操作） a & b 的二进制值（bin) 进行对比\n"
   ],
   "cell_type": "markdown",
   "metadata": {}
  },
  {
   "cell_type": "code",
   "execution_count": 2,
   "metadata": {},
   "outputs": [
    {
     "output_type": "stream",
     "name": "stdout",
     "text": [
      "0b000000\n0b0\n0b100000\n0b100000\n0b10100\n0b10100\n0b0001000\n0b1000\n0b00000000\n0b0\n0b100000000\n0b100000000\n"
     ]
    },
    {
     "output_type": "execute_result",
     "data": {
      "text/plain": [
       "'\\nprint(binary_and(0, -1))    #   ValueError\\n# print (bin(0 & (-1))\\nprint(binary_and(0, 1.1))   #   TypeError\\n# print (bin(0 & 1.1))\\nprint(binary_and(\"0\", \"1\")) #   TypeError\\n# print (bin(\"0\" & \"1\"))\\n'"
      ]
     },
     "metadata": {},
     "execution_count": 2
    }
   ],
   "source": [
    "from bit_manipulation.binary_and_operator import binary_and\n",
    "\"\"\"\n",
    "\"\"\"\n",
    "\n",
    "print(binary_and(25, 32))   #   '0b000000'\n",
    "print (bin(25 & 32))\n",
    "\n",
    "print(binary_and(37, 50))   #   '0b100000'\n",
    "print (bin(37 & 50))\n",
    "print(binary_and(21, 30))   #   '0b10100'\n",
    "print (bin(21 & 30))\n",
    "print(binary_and(58, 73))   #   '0b0001000'\n",
    "print (bin(58 & 73))\n",
    "\n",
    "print(binary_and(0, 255))   #   '0b00000000'\n",
    "print (bin(0 & 255))\n",
    "print(binary_and(256, 256)) #   '0b100000000'\n",
    "print (bin(256 & 256))\n",
    "'''\n",
    "print(binary_and(0, -1))    #   ValueError\n",
    "# print (bin(0 & (-1))\n",
    "print(binary_and(0, 1.1))   #   TypeError\n",
    "# print (bin(0 & 1.1))\n",
    "print(binary_and(\"0\", \"1\")) #   TypeError\n",
    "# print (bin(\"0\" & \"1\"))\n",
    "'''\n",
    "\n"
   ]
  },
  {
   "source": [
    "## 案例二： \n",
    "binary_or(a: int, b: int) -> str  <br>\n",
    "并将其结果 与 (或操作）a | b 的二进制值（bin) 进行对比"
   ],
   "cell_type": "markdown",
   "metadata": {}
  },
  {
   "cell_type": "code",
   "execution_count": 3,
   "metadata": {},
   "outputs": [
    {
     "output_type": "stream",
     "name": "stdout",
     "text": [
      "0b111001\n0b111001\n0b110111\n0b110111\n0b11111\n0b11111\n0b1111011\n0b1111011\n0b11111111\n0b11111111\n0b100000000\n0b100000000\n"
     ]
    },
    {
     "output_type": "execute_result",
     "data": {
      "text/plain": [
       "'\\nprint(binary_or(0, -1))   #   ValueError\\n# print (bin(0 | （-1）))\\nprint(binary_or(0, 1.1))  #  TypeError\\n# print (bin(0 | 1.1))\\nprint(binary_or(\"0\", \"1\")) # TypeError\\n# print (bin(\"0\" | \"1\"))\\n'"
      ]
     },
     "metadata": {},
     "execution_count": 3
    }
   ],
   "source": [
    "from bit_manipulation.binary_or_operator import binary_or\n",
    "\"\"\"\n",
    "\"\"\"\n",
    "print(binary_or(25, 32))  #    '0b111001'\n",
    "print (bin(25 | 32))\n",
    "print(binary_or(37, 50))  #    '0b010111'\n",
    "print (bin(37 | 50))\n",
    "print(binary_or(21, 30))  #    '0b01011'\n",
    "print (bin(21 | 30))\n",
    "print(binary_or(58, 73))  #    '0b1110011'\n",
    "print (bin(58 | 73))\n",
    "print(binary_or(0, 255))  #    '0b11111111'\n",
    "print (bin(0 | 255))\n",
    "print(binary_or(256, 256))  #    '0b000000000'\n",
    "print (bin(256 | 256))\n",
    "'''\n",
    "print(binary_or(0, -1))   #   ValueError\n",
    "# print (bin(0 | （-1）))\n",
    "print(binary_or(0, 1.1))  #  TypeError\n",
    "# print (bin(0 | 1.1))\n",
    "print(binary_or(\"0\", \"1\")) # TypeError\n",
    "# print (bin(\"0\" | \"1\"))\n",
    "'''\n",
    "    "
   ]
  },
  {
   "source": [
    "## 案例三： \n",
    "binary_xor(a: int, b: int) -> str  <br>\n",
    "并将其结果 与 (异或操作） a ^ b 的二进制值（bin) 进行对比"
   ],
   "cell_type": "markdown",
   "metadata": {}
  },
  {
   "cell_type": "code",
   "execution_count": 8,
   "metadata": {},
   "outputs": [
    {
     "output_type": "stream",
     "name": "stdout",
     "text": [
      "0b111001\n0b111001\n0b010111\n0b10111\n0b01011\n0b1011\n0b1110011\n0b1110011\n0b11111111\n0b11111111\n0b000000000\n0b0\n"
     ]
    },
    {
     "output_type": "execute_result",
     "data": {
      "text/plain": [
       "'\\nprint(binary_xor(0, -1))   #   ValueError\\n# print (bin(0 ^ （-1）))\\nprint(binary_xor(0, 1.1))  #  TypeError\\n# print (bin(0 ^ 1.1))\\nprint(binary_xor(\"0\", \"1\")) # TypeError\\n# print (bin(\"0\" ^ \"1\"))\\n'"
      ]
     },
     "metadata": {},
     "execution_count": 8
    }
   ],
   "source": [
    "from bit_manipulation.binary_xor_operator import binary_xor\n",
    "\"\"\"\n",
    "\"\"\"\n",
    "print(binary_xor(25, 32))  #    '0b111001'\n",
    "print (bin(25 ^ 32))\n",
    "print(binary_xor(37, 50))  #    '0b010111'\n",
    "print (bin(37 ^ 50))\n",
    "print(binary_xor(21, 30))  #    '0b01011'\n",
    "print (bin(21 ^ 30))\n",
    "print(binary_xor(58, 73))  #    '0b1110011'\n",
    "print (bin(58 ^ 73))\n",
    "print(binary_xor(0, 255))  #    '0b11111111'\n",
    "print (bin(0 ^ 255))\n",
    "print(binary_xor(256, 256))  #    '0b000000000'\n",
    "print (bin(256 ^ 256))\n",
    "'''\n",
    "print(binary_xor(0, -1))   #   ValueError\n",
    "# print (bin(0 ^ （-1）))\n",
    "print(binary_xor(0, 1.1))  #  TypeError\n",
    "# print (bin(0 ^ 1.1))\n",
    "print(binary_xor(\"0\", \"1\")) # TypeError\n",
    "# print (bin(\"0\" ^ \"1\"))\n",
    "'''\n"
   ]
  },
  {
   "source": [
    "## 案例四\n",
    "binary_count_setbits 二进制统计集合位的数量 <br>\n",
    "binary_count_setbits(a: int) -> int <br>\n",
    "  = bin(a).count(\"1\")"
   ],
   "cell_type": "markdown",
   "metadata": {}
  },
  {
   "cell_type": "code",
   "execution_count": 4,
   "metadata": {},
   "outputs": [
    {
     "output_type": "stream",
     "name": "stdout",
     "text": [
      "3\n2\n1\n4\n32\n0\n"
     ]
    },
    {
     "output_type": "execute_result",
     "data": {
      "text/plain": [
       "'\\nprint(binary_count_setbits(-10)) #   ValueError\\nprint(binary_count_setbits(0.8)) #    TypeError\\nprint(binary_count_setbits(\"0\"))  #  TypeError\\n'"
      ]
     },
     "metadata": {},
     "execution_count": 4
    }
   ],
   "source": [
    "from bit_manipulation.binary_count_setbits import binary_count_setbits\n",
    "\"\"\"\n",
    "\"\"\"\n",
    "print(binary_count_setbits(25))  #    3\n",
    "print(binary_count_setbits(36))  #    2\n",
    "print(binary_count_setbits(16))  #    1\n",
    "print(binary_count_setbits(58))  #    4\n",
    "print(binary_count_setbits(4294967295)) #    32\n",
    "print(binary_count_setbits(0))  #    0\n",
    "'''\n",
    "print(binary_count_setbits(-10)) #   ValueError\n",
    "print(binary_count_setbits(0.8)) #    TypeError\n",
    "print(binary_count_setbits(\"0\"))  #  TypeError\n",
    "'''"
   ]
  },
  {
   "source": [
    "## 案例五\n",
    "binary_count_trailing_zeros(a: int) -> int <br>\n",
    "统计属随“0” 数量  <br>\n",
    "其算法为：int(log2(a & -a)) <br>"
   ],
   "cell_type": "markdown",
   "metadata": {}
  },
  {
   "cell_type": "code",
   "execution_count": 5,
   "metadata": {},
   "outputs": [
    {
     "output_type": "stream",
     "name": "stdout",
     "text": [
      "0b11001\n0b1\n0\n0b100100\n0b100\n2\n0b10000\n0b10000\n4\n0b111010\n0b10\n1\n0b11111111111111111111111111111111\n0b1\n0\n0b0\n0b0\n0\n0\n"
     ]
    },
    {
     "output_type": "execute_result",
     "data": {
      "text/plain": [
       "'\\nprint(binary_count_trailing_zeros(-10)) #   ValueError\\nprint(binary_count_trailing_zeros(0.8)) #    TypeError\\nprint(binary_count_trailing_zeros(\"0\"))  #  TypeError\\n'"
      ]
     },
     "metadata": {},
     "execution_count": 5
    }
   ],
   "source": [
    "from bit_manipulation.binary_count_trailing_zeros import binary_count_trailing_zeros\n",
    "\"\"\"\n",
    "\"\"\"\n",
    "print(bin(25))\n",
    "print(bin(25 & (-25)))\n",
    "print(binary_count_trailing_zeros(25))  #    0\n",
    "\n",
    "\n",
    "print(bin(36))\n",
    "print(bin(36 & (-36)))\n",
    "print(binary_count_trailing_zeros(36))  #    2\n",
    "\n",
    "\n",
    "print(bin(16))\n",
    "print (bin(16 & (-16)))\n",
    "print(binary_count_trailing_zeros(16))  #    4\n",
    "\n",
    "\n",
    "print(bin(58))\n",
    "print(bin(58 & (-58)))\n",
    "print(binary_count_trailing_zeros(58))  #    1\n",
    "\n",
    "print(bin(4294967295))\n",
    "print(bin(4294967295 & (-4294967295)))\n",
    "print(binary_count_trailing_zeros(4294967295)) #    32\n",
    "\n",
    "print(bin(0))\n",
    "print(bin(0 & (-0)))\n",
    "print (0 & (-0))\n",
    "print(binary_count_trailing_zeros(0))  #    0\n",
    "\n",
    "'''\n",
    "print(binary_count_trailing_zeros(-10)) #   ValueError\n",
    "print(binary_count_trailing_zeros(0.8)) #    TypeError\n",
    "print(binary_count_trailing_zeros(\"0\"))  #  TypeError\n",
    "'''"
   ]
  },
  {
   "source": [
    "## 案例六\n",
    "binary_shift\n",
    "二进制移位，包含：\n",
    "- logical_left_shift(number: int, shift_amount: int) -> str <br>\n",
    "   将 number: int 转换二进制后，左移 shift_amount: int 位，返回 二进制字符串\n",
    "- logical_right_shift(number: int, shift_amount: int) -> str <br>\n",
    "  将 number: int 转换二进制后，左移 shift_amount: int 位，返回 二进制字符串\n",
    "  "
   ],
   "cell_type": "markdown",
   "metadata": {}
  },
  {
   "cell_type": "code",
   "execution_count": 6,
   "metadata": {},
   "outputs": [
    {
     "output_type": "stream",
     "name": "stdout",
     "text": [
      "binary_shift of logical_left_shift:\n0b00\n0b10\n0b100000\n0b1000100\n0b111101111110000\nbinary_shift of logical_right_shift:\n0b0\n0b0\n0b0\n0b100\n0b1111011\n"
     ]
    }
   ],
   "source": [
    "from bit_manipulation.binary_shifts import logical_left_shift,logical_right_shift\n",
    "\"\"\"\n",
    "\"\"\"\n",
    "print ('binary_shift of logical_left_shift:')\n",
    "print(logical_left_shift(0, 1)) #    '0b00'\n",
    "print(logical_left_shift(1, 1)) #    '0b10'\n",
    "print(logical_left_shift(1, 5))  #   '0b100000'\n",
    "print(logical_left_shift(17, 2)) #    '0b1000100'\n",
    "print(logical_left_shift(1983, 4)) #    '0b111101111110000'\n",
    "# print(logical_left_shift(1, -1))  #   ValueError\n",
    "print ('binary_shift of logical_right_shift:')\n",
    "print(logical_right_shift(0, 1)) #   '0b0'\n",
    "print(logical_right_shift(1, 1)) #   '0b0'\n",
    "print(logical_right_shift(1, 5)) #   '0b0'\n",
    "print(logical_right_shift(17, 2)) #   '0b100'\n",
    "print(logical_right_shift(1983, 4)) #    '0b1111011'\n",
    "#  print( logical_right_shift(1, -1)) #  ValueError\n",
    "    "
   ]
  },
  {
   "source": [
    "## 案例七\n",
    "twos_complement(number: int) -> str <br>\n",
    "二进制补码 <br>\n",
    "参数：number: int 为负数或0 <br> \n",
    "返回：二进制补码的二进制字符串 <br>\n"
   ],
   "cell_type": "markdown",
   "metadata": {}
  },
  {
   "cell_type": "code",
   "execution_count": 7,
   "metadata": {},
   "outputs": [
    {
     "output_type": "stream",
     "name": "stdout",
     "text": [
      "0b0\n0b0\n-0b1\n0b11\n-0b101\n0b1011\n-0b10001\n0b101111\n-0b11001111\n0b100110001\n"
     ]
    }
   ],
   "source": [
    "from bit_manipulation.binary_twos_complement import twos_complement\n",
    "\"\"\"\n",
    "\"\"\"\n",
    "print(bin(0))\n",
    "print(twos_complement(0)) #  '0b0'\n",
    "\n",
    "print(bin(-1))\n",
    "print(twos_complement(-1)) #    '0b11'\n",
    "\n",
    "print(bin(-5))\n",
    "print(twos_complement(-5)) #  '0b1011'\n",
    "\n",
    "print(bin(-17))\n",
    "print(twos_complement(-17))#    '0b101111'\n",
    "\n",
    "print(bin(-207))\n",
    "print(twos_complement(-207)) #   '0b100110001'\n",
    "\n",
    "# print(bin(1))\n",
    "# print( twos_complement(1)) #  ValueError\n",
    "\n"
   ]
  },
  {
   "cell_type": "code",
   "execution_count": null,
   "metadata": {},
   "outputs": [],
   "source": []
  }
 ]
}