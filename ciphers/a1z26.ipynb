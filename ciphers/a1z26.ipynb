{
 "metadata": {
  "language_info": {
   "codemirror_mode": {
    "name": "ipython",
    "version": 3
   },
   "file_extension": ".py",
   "mimetype": "text/x-python",
   "name": "python",
   "nbconvert_exporter": "python",
   "pygments_lexer": "ipython3",
   "version": "3.8.0"
  },
  "orig_nbformat": 2,
  "kernelspec": {
   "name": "pythonjvsc74a57bd04570298ddf55f12d72b384cb5a92401407339203adac8a4a881fb11d70b7d0b5",
   "display_name": "Python 3.8.0  ('myaivenv': venv)"
  },
  "metadata": {
   "interpreter": {
    "hash": "4570298ddf55f12d72b384cb5a92401407339203adac8a4a881fb11d70b7d0b5"
   }
  }
 },
 "nbformat": 4,
 "nbformat_minor": 2,
 "cells": [
  {
   "source": [
    "\n",
    "# a1z26  a1z26加解密\n",
    "\n",
    "## 概念\n",
    "   将字符串每个字符转换成数字序列\n",
    "```\n",
    "   a -> 1\n",
    "   b -> 2\n",
    "   ...\n",
    "   z -> 26\n",
    "```\n",
    "  A1Z26是一种单码加密法，单码加密法的另一种形式称为仿射加密法（affine cipher）。在仿射加密法中，字母表的字母被赋予一个数字，例如a=0，b=1，c=2…z=25。仿射加密法的密钥为0-25直接的数字对。\n",
    "\n",
    "## 代码\n",
    "[a1z26.py]{..\\src\\ciphers\\a1z26.py}"
   ],
   "cell_type": "markdown",
   "metadata": {}
  },
  {
   "cell_type": "code",
   "execution_count": 15,
   "metadata": {},
   "outputs": [],
   "source": [
    "\"\"\"\n",
    "Prepare\n",
    "   1. sys.path 中增加 TheAlgorithms\\src 子模块\n",
    "\n",
    "\"\"\"\n",
    "import sys\n",
    "sys.path.append('E:\\dev\\AI\\TheAlgorithms\\src')\n"
   ]
  },
  {
   "source": [
    "## 案例一： \n",
    "- 加密  `encode(plain: str) -> list[int]`\n",
    "```\n",
    "     >>> encode(\"myname\")\n",
    "    [13, 25, 14, 1, 13, 5]\n",
    "```\n",
    "- 解密 `decode(encoded: list[int]) -> str`\n",
    "```\n",
    "    >>> decode([13, 25, 14, 1, 13, 5])\n",
    "    'myname'\n",
    "```\n"
   ],
   "cell_type": "markdown",
   "metadata": {}
  },
  {
   "cell_type": "code",
   "execution_count": 16,
   "metadata": {},
   "outputs": [
    {
     "output_type": "stream",
     "name": "stdout",
     "text": [
      "[13, 25, 14, 1, 13, 5]\nmyname\n"
     ]
    }
   ],
   "source": [
    "from ciphers.a1z26 import encode,decode\n",
    "\"\"\"\n",
    "\"\"\"\n",
    "# encode(\"myname\")\n",
    "print(encode(\"myname\")) #  [13, 25, 14, 1, 13, 5]\n",
    "\n",
    "print(decode([13, 25, 14, 1, 13, 5])) #    'myname'\n",
    "\n"
   ]
  },
  {
   "cell_type": "code",
   "execution_count": null,
   "metadata": {},
   "outputs": [],
   "source": []
  }
 ]
}