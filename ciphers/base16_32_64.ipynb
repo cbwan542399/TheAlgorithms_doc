{
 "metadata": {
  "language_info": {
   "codemirror_mode": {
    "name": "ipython",
    "version": 3
   },
   "file_extension": ".py",
   "mimetype": "text/x-python",
   "name": "python",
   "nbconvert_exporter": "python",
   "pygments_lexer": "ipython3",
   "version": "3.8.0"
  },
  "orig_nbformat": 2,
  "kernelspec": {
   "name": "pythonjvsc74a57bd04570298ddf55f12d72b384cb5a92401407339203adac8a4a881fb11d70b7d0b5",
   "display_name": "Python 3.8.0  ('myaivenv': venv)"
  },
  "metadata": {
   "interpreter": {
    "hash": "4570298ddf55f12d72b384cb5a92401407339203adac8a4a881fb11d70b7d0b5"
   }
  }
 },
 "nbformat": 4,
 "nbformat_minor": 2,
 "cells": [
  {
   "source": [
    "\n",
    "# base16,32,64  base编码和解码方法\n",
    "\n",
    "在网络传入字符串过程中,如果编码方式是基于ASCII,那么会造成什么问题?比如:url地址中存在\"/\"(如:www.csdn.net/nav/ai),字符串中编码中也存在\"/\",这样就会出现错误地址解析.为了防止这种情况的出现,出现了Base16,Base32,Base64编码方式.我们知道计算机传输的单位是字节,也就是8个比特位,按照一个字节编码的方式结果就有256种状态(每个比特位0或者1两种状态,8位就是=256),ASCII编码是将8个比特位中最高位置为0,所以总共可表示128个字符(即=128).为了避免冲突,去掉一些特殊字符,重新编码.例如Base16编码,编码后的字符只会在(0~9,A~F)中,Base32编码后字符就会在(A~Z, 2~7)中以及填充符\"=\"中出现.\n",
    "\n",
    "Base16编码是包含了数字(0~9)和大写字母(A~F),Base32编码与Base64编码最大区别是前者没有小写字母.Base32编码可以用于文件系统的名称(不区分大小情况).而Base64编码后数据量相比原先不是增加很多,可以用于网络传输.(比如下载链接)\n",
    "\n",
    "## base64\n",
    "Base64是网络上最常见的用于传输8Bit字节码的编码方式之一，Base64就是一种基于64个可打印字符来表示二进制数据的方法。可查看RFC2045～RFC2049，上面有MIME的详细规范。\n",
    "Base64编码是从二进制到字符的过程，可用于在HTTP环境下传递较长的标识信息。采用Base64编码具有不可读性，需要解码后才能阅读。\n",
    "Base64由于以上优点被广泛应用于计算机的各个领域，然而由于输出内容中包括两个以上“符号类”字符（+, /, =)，不同的应用场景又分别研制了Base64的各种“变种”。\n",
    "\n",
    "Base64要求把每三个8Bit的字节转换为四个6Bit的字节（3*8 = 4*6 = 24），然后把6Bit再添两位高位0，组成四个8Bit的字节，也就是说，转换后的字符串理论上将要比原来的长1/3。\n",
    "\n",
    "规则\n",
    "关于这个编码的规则：\n",
    "- ①.把3个字节变成4个字节。\n",
    "- ②每76个字符加一个换行符。\n",
    "- ③.最后的结束符也要处理。\n",
    "\n",
    "## python – a85encode和b85encode有什么区别？\n",
    "Ascii85是Base85的前身;两者之间的主要区别实际上是使用的字符集.\n",
    "Ascii85使用字符集：\n",
    " `ASCII 33 (\"!\") to ASCII 117 (\"u\")`\n",
    "Base85使用字符集：\n",
    "`0–9, A–Z, a–z, !#$%&()*+-;<=>?@^_`{|}~`\n",
    "这些字符特别不包含在Base85中：\n",
    "`\"',./:[]\\\\`\n",
    "a85encode和b85encode分别编码/解码Ascii85和Base85.\n",
    "\n",
    "## 前言\n",
    "   python当中有关base16、base32和base64的编码及解码方法，须使用base64库，这个库是下载python时自带的，直接import即可\n",
    "\n",
    "## 函数介绍\n",
    "  在使用编码的函数之前，需要对字符串进行utf-8编码一下，不然python的base64库的函数没法识别对应的字符串而报错\n",
    "```\n",
    "函数\t介绍\n",
    "base64.b16encode(字符串)\t对字符串进行base16编码\n",
    "base64.b16decode(字符串)\t对字符串进行base16解码\n",
    "base64.b32encode(字符串)\t对字符串进行base32编码\n",
    "base64.b32decode(字符串)\t对字符串进行base32解码\n",
    "base64.b64encode(字符串)\t对字符串进行base64编码\n",
    "base64.b64decode(字符串)\t对字符串进行base64解码\n",
    "```\n",
    "\n",
    "## 算法\n",
    "- base16 <br>\n",
    "编码或解码后的字符串前会带一个小写的b标识，进行编码之前需要设置字符串为utf-8，解码时不需要 <br>\n",
    "编码方法：base64.b16encode(字符串)  <br>\n",
    "解码方法：base64.b16decode(字符串)  <br>\n",
    "\n",
    "\n",
    "- base32  <br>\n",
    "编码或解码后的字符串前会带一个小写的b标识，进行编码之前需要设置字符串为utf-8，解码时不需要 <br>\n",
    "编码方法：base64.b32encode(字符串) <br>\n",
    "解码方法：base64.b32decode(字符串) <br>\n",
    "\n",
    "- base64 <br>\n",
    "编码或解码后的字符串前会带一个小写的b标识，进行编码之前需要设置字符串为utf-8，解码时不需要 <br>\n",
    "编码方法：base64.b64encode(字符串) <br>\n",
    "解码方法：base64.b64decode(字符串) <br>\n",
    "\n",
    "- base64_encode(data: bytes)\n",
    "```\n",
    "def base64_encode(data: bytes) -> bytes:\n",
    "    \"\"\"Encodes data according to RFC4648.\n",
    "```  \n",
    "- RFC4648\n",
    "\n",
    "## 代码\n",
    "[base16.py]{..\\src\\ciphers\\base16.py} <br>\n",
    "[base32.py]{..\\src\\ciphers\\base32.py}  <br>\n",
    "[base64_encoding.py]{..\\src\\ciphers\\base64_encoding.py} <br>\n",
    "[base85.py]{..\\src\\ciphers\\base85.py} <br>\n",
    "\n"
   ],
   "cell_type": "markdown",
   "metadata": {}
  },
  {
   "cell_type": "code",
   "execution_count": 1,
   "metadata": {},
   "outputs": [],
   "source": [
    "\"\"\"\n",
    "Prepare\n",
    "   1. sys.path 中增加 TheAlgorithms\\src 子模块\n",
    "\n",
    "\"\"\"\n",
    "import sys\n",
    "sys.path.append('E:\\dev\\AI\\TheAlgorithms\\src')\n"
   ]
  },
  {
   "source": [
    "## 案例一： base16\n",
    "Encodes a given utf-8 string into base-16.\n",
    "```\n",
    "    >>> encode_to_b16('Hello World!')\n",
    "    b'48656C6C6F20576F726C6421'\n",
    "    >>> encode_to_b16('HELLO WORLD!')\n",
    "    b'48454C4C4F20574F524C4421'\n",
    "    >>> encode_to_b16('')\n",
    "    b''\n",
    "```"
   ],
   "cell_type": "markdown",
   "metadata": {}
  },
  {
   "cell_type": "code",
   "execution_count": 4,
   "metadata": {},
   "outputs": [
    {
     "output_type": "stream",
     "name": "stdout",
     "text": [
      "<class 'bytes'>\nb'48656C6C6F20576F726C6421'\nb'Hello World!'\nb'48454C4C4F20574F524C4421'\nb'HELLO WORLD!'\nb''\nb''\n"
     ]
    }
   ],
   "source": [
    "from ciphers.base16 import encode_to_b16\n",
    "import base64\n",
    "\"\"\"\n",
    "    \n",
    "\"\"\"\n",
    "t = encode_to_b16('Hello World!')\n",
    "print(type(t))\n",
    "print (t)   #  b'48656C6C6F20576F726C6421'\n",
    "print(base64.b16decode(t))\n",
    "\n",
    "t = encode_to_b16('HELLO WORLD!')\n",
    "print (t)   #   b'48454C4C4F20574F524C4421'\n",
    "print(base64.b16decode(t))\n",
    "\n",
    "t = encode_to_b16('')\n",
    "print (t)   #     b''\n",
    "print(base64.b16decode(t))\n"
   ]
  },
  {
   "source": [
    "## 案例二： base32\n",
    "``` \n",
    "base64.b32encode\n",
    "base64.b32dncode\n",
    "```\n"
   ],
   "cell_type": "markdown",
   "metadata": {}
  },
  {
   "cell_type": "code",
   "execution_count": 9,
   "metadata": {},
   "outputs": [
    {
     "output_type": "stream",
     "name": "stdout",
     "text": [
      "b32encode:b'MVZHOZLSO5SXE53FOJ3WK==='\nb32decode:erwerwerwerwe\n"
     ]
    }
   ],
   "source": [
    "import base64\n",
    "\n",
    "# inp = input(\"->\")\n",
    "inp = \"erwerwerwerwe\"\n",
    "encoded = inp.encode(\"utf-8\")  # encoded the input (we need a bytes like object)\n",
    "b32encoded = base64.b32encode(encoded)  # b32encoded the encoded string\n",
    "print(\"b32encode:\"+str(b32encoded))\n",
    "print(\"b32decode:\"+base64.b32decode(b32encoded).decode(\"utf-8\"))  # decoded it"
   ]
  },
  {
   "source": [
    "## 案例三： base64\n",
    "``` \n",
    "base64.b64encode\n",
    "base64.b64dncode\n",
    "def base64_encode(data: bytes) -> bytes:\n",
    "    \"\"\"Encodes data according to RFC4648.\n",
    "```"
   ],
   "cell_type": "markdown",
   "metadata": {}
  },
  {
   "cell_type": "code",
   "execution_count": 21,
   "metadata": {},
   "outputs": [
    {
     "output_type": "stream",
     "name": "stdout",
     "text": [
      "a: b'This pull request is part of Hacktoberfest20!'\nbase64_encode(a): b'VGhpcyBwdWxsIHJlcXVlc3QgaXMgcGFydCBvZiBIYWNrdG9iZXJmZXN0MjAh'\nbase64_encode(a) == b64encode(a) :True\nb: b'https://tools.ietf.org/html/rfc4648'\nbase64_encode(b): b'aHR0cHM6Ly90b29scy5pZXRmLm9yZy9odG1sL3JmYzQ2NDg='\nbase64_encode(b) == b64encode(b) :True\nc: b'A'\nbase64_encode(c): b'QQ=='\nbase64_encode(c) == b64encode(c) :True\na: VGhpcyBwdWxsIHJlcXVlc3QgaXMgcGFydCBvZiBIYWNrdG9iZXJmZXN0MjAh\nbase64_decode(a): b'This pull request is part of Hacktoberfest20!'\nbase64_dncode(a) == b64dncode(a) :True\nb: aHR0cHM6Ly90b29scy5pZXRmLm9yZy9odG1sL3JmYzQ2NDg=\nbase64_decode(b): b'https://tools.ietf.org/html/rfc4648'\nbase64_dncode(b) == b64dncode(b) :True\nc: QQ==\nbase64_decode(c): b'A'\nbase64_dncode(c) == b64dncode(c) :True\n"
     ]
    }
   ],
   "source": [
    "from ciphers.base64_encoding import base64_encode,base64_decode\n",
    "from base64 import b64encode,b64decode\n",
    "\"\"\"\n",
    "    \n",
    "\"\"\"\n",
    "a = b\"This pull request is part of Hacktoberfest20!\"\n",
    "b = b\"https://tools.ietf.org/html/rfc4648\"\n",
    "c = b\"A\"\n",
    "\n",
    "print(\"a: \"+str(a))\n",
    "print (\"base64_encode(a): \" + str(base64_encode(a)))\n",
    "print(\"base64_encode(a) == b64encode(a) :\"+str(base64_encode(a) == b64encode(a))) #    True\n",
    "\n",
    "\n",
    "print(\"b: \"+str(b))\n",
    "print (\"base64_encode(b): \" + str(base64_encode(b)))\n",
    "print(\"base64_encode(b) == b64encode(b) :\"+str(base64_encode(b) == b64encode(b))) #    True\n",
    "\n",
    "print(\"c: \"+str(c))\n",
    "print (\"base64_encode(c): \" + str(base64_encode(c)))\n",
    "print(\"base64_encode(c) == b64encode(c) :\"+str(base64_encode(c) == b64encode(c))) #    True\n",
    "\n",
    "\n",
    "a = \"VGhpcyBwdWxsIHJlcXVlc3QgaXMgcGFydCBvZiBIYWNrdG9iZXJmZXN0MjAh\"\n",
    "b = \"aHR0cHM6Ly90b29scy5pZXRmLm9yZy9odG1sL3JmYzQ2NDg=\"\n",
    "c = \"QQ==\"\n",
    "\n",
    "print(\"a: \"+str(a))\n",
    "print (\"base64_decode(a): \" + str(base64_decode(a)))\n",
    "print(\"base64_dncode(a) == b64dncode(a) :\"+str(base64_decode(a) == b64decode(a))) #    True\n",
    "\n",
    "print(\"b: \"+str(b))\n",
    "print (\"base64_decode(b): \" + str(base64_decode(b)))\n",
    "print(\"base64_dncode(b) == b64dncode(b) :\"+str(base64_decode(b) == b64decode(b))) #    True\n",
    "\n",
    "print(\"c: \"+str(c))\n",
    "print (\"base64_decode(c): \" + str(base64_decode(c)))\n",
    "print(\"base64_dncode(c) == b64dncode(c) :\"+str(base64_decode(c) == b64decode(c))) #    True\n",
    "# base64_decode(\"abc\")    # AssertionError: Incorrect padding\n",
    "    "
   ]
  },
  {
   "source": [
    "## 案例四： base64.a85encode"
   ],
   "cell_type": "markdown",
   "metadata": {}
  },
  {
   "cell_type": "code",
   "execution_count": 22,
   "metadata": {},
   "outputs": [
    {
     "output_type": "stream",
     "name": "stdout",
     "text": [
      "b'A7]srG@bs'\ndewewew\n"
     ]
    }
   ],
   "source": [
    "import base64\n",
    "\n",
    "inp = \"dewewew\"\n",
    "# inp = input(\"->\")\n",
    "encoded = inp.encode(\"utf-8\")  # encoded the input (we need a bytes like object)\n",
    "a85encoded = base64.a85encode(encoded)  # a85encoded the encoded string\n",
    "print(a85encoded)\n",
    "print(base64.a85decode(a85encoded).decode(\"utf-8\"))  # decoded it"
   ]
  },
  {
   "cell_type": "code",
   "execution_count": null,
   "metadata": {},
   "outputs": [],
   "source": []
  }
 ]
}