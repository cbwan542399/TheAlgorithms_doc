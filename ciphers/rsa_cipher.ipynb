{
 "metadata": {
  "language_info": {
   "codemirror_mode": {
    "name": "ipython",
    "version": 3
   },
   "file_extension": ".py",
   "mimetype": "text/x-python",
   "name": "python",
   "nbconvert_exporter": "python",
   "pygments_lexer": "ipython3",
   "version": "3.8.0"
  },
  "orig_nbformat": 2,
  "kernelspec": {
   "name": "python3",
   "display_name": "Python 3.8.0 64-bit ('myaivenv': venv)"
  },
  "metadata": {
   "interpreter": {
    "hash": "4570298ddf55f12d72b384cb5a92401407339203adac8a4a881fb11d70b7d0b5"
   }
  },
  "interpreter": {
   "hash": "4570298ddf55f12d72b384cb5a92401407339203adac8a4a881fb11d70b7d0b5"
  }
 },
 "nbformat": 4,
 "nbformat_minor": 2,
 "cells": [
  {
   "source": [
    "# rsa_cipher  RSA公钥密码体制\n",
    "\n",
    "RSA是1977年由罗纳德·李维斯特（Ron Rivest）、阿迪·萨莫尔（Adi Shamir）和伦纳德·阿德曼（Leonard Adleman）一起提出的。当时他们三人都在麻省理工学院工作。RSA就是他们三人姓氏开头字母拼在一起组成的 <br>\n",
    "\n",
    "## 简介\n",
    "RSA公开密钥密码体制是一种使用不同的加密密钥与解密密钥，“由已知加密密钥推导出解密密钥在计算上是不可行的”密码体制  。<br>\n",
    "在公开密钥密码体制中，加密密钥（即公开密钥）$ PK $是公开信息，而解密密钥（即秘密密钥）$ SK $ 是需要保密的。加密算法 $ E $ 和解密算法 $ D $ 也都是公开的。虽然解密密钥 $ SK $是由公开密钥 $ PK $决定的，但却不能根据 $ PK $计算出 $ SK $  。<br>\n",
    "正是基于这种理论，1978年出现了著名的RSA算法，它通常是先生成一对RSA密钥，其中之一是保密密钥，由用户保存；另一个为公开密钥，可对外公开，甚至可在网络服务器中注册。为提高保密强度，RSA密钥至少为 $ 500 $ 位长，一般推荐使用 $1024 $ 位。这就使加密的计算量很大。为减少计算量，在传送信息时，常采用传统加密方法与公开密钥加密方法相结合的方式，即信息采用改进的DES或IDEA对话密钥加密，然后使用RSA密钥加密对话密钥和信息摘要。对方收到信息后，用不同的密钥解密并可核对信息摘要  。<br>\n",
    "RSA是被研究得最广泛的公钥算法，从提出到现在已近三十年，经历了各种攻击的考验，逐渐为人们接受，普遍认为是目前最优秀的公钥方案之一。1983年麻省理工学院在美国为RSA算法申请了专利 。\n",
    "RSA允许你选择公钥的大小。$ 512 $ 位的密钥被视为不安全的；$ 768 $ 位的密钥不用担心受到除了国家安全管理（NSA）外的其他事物的危害；$ 1024 $ 位的密钥几乎是安全的。RSA在一些主要产品内部都有嵌入，像 Windows、网景 Navigator、 Quicken和 Lotus Notes  。<br>\n",
    "\n",
    "## 算法原理\n",
    "RSA公开密钥密码体制的原理是：根据数论，寻求两个大素数比较简单，而将它们的乘积进行因式分解却极其困难，因此可以将乘积公开作为加密密钥  。<br>\n",
    "\n",
    "## 算法描述\n",
    "RSA算法的具体描述如下：  <br>\n",
    "-（1）任意选取两个不同的大素数p和q计算乘积 $ n = p \\times q,\\varphi (n) = (p-1) \\times (q-1) $; <br>\n",
    "-（2）任意选取一个大整数 $ e $ ，满足 $ gcd(e,\\varphi(n)) = 1 $，整数 $ e $ 用做加密钥（注意：$ e $ 的选取是很容易的，例如，所有大于p和q的素数都可用） ；<br>\n",
    "-（3）确定的解密钥 $ d $ ，满足 $ (d \\times e) \\quad mod \\quad \\varphi（n) = 1 $ ，即 $ d \\times e = k \\varphi(n) + 1 ,K \\geq 1 $ 是一个任意的整数；所以，若知道 $ e $ 和 $ \\varphi(n) $，则很容易计算出 $ d $  ；<br>\n",
    "-（4）公开整数 $ n $ 和 $ e $ ，秘密保存 $ d $ ；<br>\n",
    "-（5）将明文 $ m $ （ $ m \\le n $ 是一个整数）加密成密文 $ c $ ，加密算法为 <br>\n",
    "$$\n",
    "c=E(m)\n",
    " =m^e \\quad mod \\quad (n)\n",
    "$$\n",
    "-（6）将密文 $ c $ 解密为明文 $ m $ ，解密算法为 <br>\n",
    "$$\n",
    "m=D(c)\n",
    " = e^d \\quad mod \\quad (n) \n",
    "$$ \n",
    "\n",
    "然而只根据 $ n $ 和 $ e $ （注意：不是 $ p $ 和 $ q $ ）要计算出 $ d $ 是不可能的。因此，任何人都可对明文进行加密，但只有授权用户（知道 $ d $ ）才可对密文解密   。<br>\n",
    "\n",
    "## 安全性\n",
    "RSA的安全性依赖于大数分解，但是否等同于大数分解一直未能得到理论上的证明，也并没有从理论上证明破译。RSA的难度与大数分解难度等价。因为没有证明破解RSA就一定需要做大数分解。假设存在一种无须分解大数的算法，那它肯定可以修改成为大数分解算法，即RSA的重大缺陷是无法从理论上把握它的保密性能如何，而且密码学界多数人士倾向于因子分解不是NPC问题  。<br>\n",
    "目前，RSA的一些变种算法已被证明等价于大数分解。不管怎样，分解n是最显然的攻击方法。现在，人们已能分解140多个十进制位的大素数。因此，模数n必须选大些，视具体适用情况而定  。<br>\n",
    "RSA算法的保密强度随其密钥的长度增加而增强。但是，密钥越长，其加解密所耗用的时间也越长。<因此，要根据所保护信息的敏感程度与攻击者破解所要花费的代价值不值得以及系统所要求的反应时间来综合考虑，尤其对于商业信息领域更是如此  。<br>\n",
    "\n",
    "## 运算速度\n",
    "由于进行的都是大数计算，使得RSA最快的情况也比DES慢上好几倍，无论是软件还是硬件实现。速度一直是RSA的缺陷。一般来说只用于少量数据加密。RSA的速度比对应同样安全级别的对称密码算法要慢1000倍左右   。<br>\n",
    "\n",
    "## 算法攻击\n",
    "迄今为止，对RSA的攻击已经很多，但都没有对它构成真正的威胁。在这里，我们讨论一些典型的攻击方法   。<br>\n",
    "- RSA的选择密码攻击 <br>\n",
    "RSA在选择密码攻击面前显得很脆弱。一般攻击者是将某一信息进行下伪装，让拥有私钥的实体签名；然后，经过计算就可得到它所想要的信息。实际上，攻击利用的都是同一个弱点，即存在这样一个事实：乘幂保留了输入的乘法结构。前面已经提到，这个固有的问题来自于公钥密码系统的最基本的特征，即每个人都能使用公钥加密信息。从算法上无法解决这一问题，改进措施有两条：是采用好的公钥协议保证工作过程中实体不对其他实体任意产生的信息解密，不对自己一无所知的信息签名；二是决不对陌生人送来的随机文档签名，或签名时首先对文档作Hash处理，或同时使用不同的签名算法  。<br>\n",
    "- RSA的小指数攻击 <br>\n",
    "当公钥 $ e $ 取较小的值，虽然会使加密变得易于实现，速度有所提高，但这样做也是不安全的。最简单的办法就是 $ e $ 和 $ d $ 都取较大的值  。<br>\n",
    "因为密钥的产生受素数产生技术的限制，所以也有它的局限性   。<br>\n",
    " -（1）密钥的产生受素数产生技术的限制，因而难以做到一次一密   ；<br>\n",
    " -（2）分组长度太大，为保证安全性，$ n $ 至少也要600比特以上，使运算代价很高，尤其是速度较慢，比对称密码算法慢几个数量级；随着大整数素因数分解算法的改进和计算机计算能力的提高，对 $ n $ 的长度在不断增加，不利于实现数据格式的标准化 <br>\n",
    "\n",
    "## 代码\n",
    "[rsa_cipher.py]{..\\src\\ciphers\\rsa_cipher.py}\n"
   ],
   "cell_type": "markdown",
   "metadata": {}
  },
  {
   "cell_type": "code",
   "execution_count": 1,
   "metadata": {},
   "outputs": [],
   "source": [
    "\"\"\"\n",
    "Prepare\n",
    "   1. sys.path 中增加 TheAlgorithms\\src 子模块\n",
    "\n",
    "\"\"\"\n",
    "import sys\n",
    "sys.path.append('E:\\dev\\AI\\TheAlgorithms\\src')\n"
   ]
  },
  {
   "source": [
    "## 案例一： dencrypt\n",
    "\n",
    "对字符串进行 rot13 加密；\n",
    "并检查原始字符串与 双重 rot13 加密 的字符串是否一致\n",
    "```\n",
    "def dencrypt(s: str,  -- 原始字符串\n",
    "    n: int = 13)  # 默认 13 \n",
    "     -> str:\n",
    "```\n"
   ],
   "cell_type": "markdown",
   "metadata": {}
  },
  {
   "cell_type": "code",
   "execution_count": 4,
   "metadata": {},
   "outputs": [
    {
     "output_type": "stream",
     "name": "stdout",
     "text": [
      "Input Message : My secret bank account number is 173-52946 so don't tell anyone!!\nEncryption: Zl frperg onax nppbhag ahzore vf 173-52946 fb qba'g gryy nalbar!!\nDecryption:  My secret bank account number is 173-52946 so don't tell anyone!!\nthe initial Message is equal the double rot13 dencrypt message:True\n"
     ]
    }
   ],
   "source": [
    "from ciphers.rsa_cipher import rsa_cipher\n",
    "\"\"\"\n",
    "\"\"\"\n",
    "s0 = \"My secret bank account number is 173-52946 so don't tell anyone!!\"\n",
    "\n",
    "print(\"Input Message :\", s0)\n",
    "s1 = dencrypt(s0, 13)\n",
    "print(\"Encryption:\", s1)\n",
    "s2 = dencrypt(s1, 13)\n",
    "print(\"Decryption: \", s2)\n",
    "\n",
    "print (f\"the initial Message is equal the double rot13 dencrypt message:{s0==s2}\")\n",
    "\n"
   ]
  },
  {
   "cell_type": "code",
   "execution_count": null,
   "metadata": {},
   "outputs": [],
   "source": []
  }
 ]
}