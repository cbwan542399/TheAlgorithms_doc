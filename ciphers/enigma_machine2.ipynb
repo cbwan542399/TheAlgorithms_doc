{
 "metadata": {
  "language_info": {
   "codemirror_mode": {
    "name": "ipython",
    "version": 3
   },
   "file_extension": ".py",
   "mimetype": "text/x-python",
   "name": "python",
   "nbconvert_exporter": "python",
   "pygments_lexer": "ipython3",
   "version": "3.8.0"
  },
  "orig_nbformat": 2,
  "kernelspec": {
   "name": "python3",
   "display_name": "Python 3.8.0 64-bit ('myaivenv': venv)"
  },
  "metadata": {
   "interpreter": {
    "hash": "4570298ddf55f12d72b384cb5a92401407339203adac8a4a881fb11d70b7d0b5"
   }
  },
  "interpreter": {
   "hash": "4570298ddf55f12d72b384cb5a92401407339203adac8a4a881fb11d70b7d0b5"
  }
 },
 "nbformat": 4,
 "nbformat_minor": 2,
 "cells": [
  {
   "source": [
    "# enigma_machine2 恩尼格玛密码机\n",
    "\n",
    "在密码学史中，恩尼格玛密码机（德语：Enigma，又译哑谜机，或“谜”式密码机）是一种用于加密与解密文件的密码机。确切地说，恩尼格玛是对二战时期纳粹德国使用的一系列相似的转子机械加解密机器的统称，它包括了许多不同的型号，为密码学对称加密算法的流加密。\n",
    "\n",
    "## 加密原理\n",
    "\n",
    "键盘一共有26个键，键盘排列和广为使用的计算机键盘基本一样，只不过为了使通讯尽量地短和难以破译，空格、数字和标点符号都被取消，而只有字母键。键盘上方就是显示器，这可不是意义上的屏幕显示器，只不过是标示了同样字母的26个小灯泡，当键盘上的某个键被按下时，和这个字母被加密后的密文字母所对应的小灯泡就亮了起来，就是这样一种近乎原始的“显示”。\n",
    "\n",
    "在显示器的上方是三个直径6厘米的转子，它们的主要部分隐藏在面板下，转子才是“恩尼格玛”密码机最核心关键的部分。如果转子的作用仅仅是把一个字母换成另一个字母，那就是密码学中所说的“简单替换密码”，而在公元九世纪，阿拉伯的密码破译专家就已经能够娴熟地运用统计字母出现频率的方法来破译简单替换密码，柯南·道尔在他著名的福尔摩斯探案《跳舞的小人》里就非常详细地叙述了福尔摩斯使用频率统计法破译跳舞人形密码（也就是简单替换密码）的过程。\n",
    "\n",
    "——之所以叫“转子”，因为它会转！这就是关键！当按下键盘上的一个字母键，相应加密后的字母在显示器上通过灯泡闪亮来显示，而转子就自动地转动一个字母的位置。举例来说，当第一次键入A，灯泡B亮，转子转动一格，各字母所对应的密码就改变了。第二次再键入A时，它所对应的字母就可能变成了C；同样地，第三次键入A时，又可能是灯泡D亮了。——这就是“恩尼格玛”难以被破译的关键所在，这不是一种简单替换密码。同一个字母在明文的不同位置时，可以被不同的字母替换，而密文中不同位置的同一个字母，又可以代表明文中的不同字母，字母频率分析法在这里丝毫无用武之地了。这种加密方式在密码学上被称为“复式替换密码”。\n",
    "\n",
    "但是如果连续键入26个字母，转子就会整整转一圈，回到原始的方向上，这时编码就和最初重复了。而在加密过程中，重复的现象就很是最大的破绽，因为这可以使破译密码的人从中发现规律。于是“恩尼格玛”又增加了一个转子，当第一个转子转动整整一圈以后，它上面有一个齿轮拨动第二个转子，使得它的方向转动一个字母的位置。假设第一个转子已经整整转了一圈，按A键时显示器上D灯泡亮；当放开A键时第一个转子上的齿轮也带动第二个转子同时转动一格，于是第二次键入A时，加密的字母可能为E；再次放开键A时，就只有第一个转子转动了，于是第三次键入A时，与之相对应的就是字母就可能是F了。\n",
    "\n",
    "因此只有在$ 26 \\times 26=676 $ 个字母后才会重复原来的编码。而事实上“恩尼格玛”有三个转子（二战后期德国海军使用的“恩尼格玛”甚至有四个转子！），那么重复的概率就达到 $ 26  \\times 26 \\times 26=17576个字母之后。在此基础上谢尔比乌斯十分巧妙地在三个转子的一端加上了一个反射器，把键盘和显示器中的相同字母用电线连在一起。反射器和转子一样，把某一个字母连在另一个字母上，但是它并不转动。乍一看这么一个固定的反射器好像没什么用处，它并不增加可以使用的编码数目，但是把它和解码联系起来就会看出这种设计的别具匠心了。当一个键被按下时，信号不是直接从键盘传到显示器，而是首先通过三个转子连成的一条线路，然后经过反射器再回到三个转子，通过另一条线路再到达显示器上，比如说A键被按下时，亮的是D灯泡。如果这时按的不是A键而是D键，那么信号恰好按照上面A键被按下时的相反方向通行，最后到达A灯泡。换句话说，在这种设计下，反射器虽然没有像转子那样增加不重复的方向，但是它可以使解码过程完全重现编码过程。\n",
    "\n",
    "使用“恩尼格玛”通讯时，发信人首先要调节三个转子的方向（而这个转子的初始方向就是密匙，是收发双方必须预先约定好的），然后依次键入明文，并把显示器上灯泡闪亮的字母依次记下来，最后把记录下的闪亮字母按照顺序用正常的电报方式发送出去。收信方收到电文后，只要也使用一台“恩尼格玛”，按照原来的约定，把转子的方向调整到和发信方相同的初始方向上，然后依次键入收到的密文，显示器上自动闪亮的字母就是明文了。加密和解密的过程完全一样，这就是反射器的作用，同时反射器的一个副作用就是一个字母永远也不会被加密成它自己，因为反射器中一个字母总是被连接到另一个不同的字母。\n",
    "\n",
    "“恩尼格玛”加密的关键就在于转子的初始方向。当然如果敌人收到了完整的密文，还是可以通过不断试验转动转子方向来找到这个密匙，特别是如果破译者同时使用许多台机器同时进行这项工作，那么所需要的时间就会大大缩短。对付这样“暴力破译法”（即一个一个尝试所有可能性的方法），可以通过增加转子的数量来对付，因为只要每增加一个转子，就能使试验的数量乘上26倍！不过由于增加转子就会增加机器的体积和成本，而密码机又是需要能够便于携带的，而不是一个带有几十个甚至上百个转子的庞然大物。那么方法也很简单，“恩尼格玛”密码机的三个转子是可以拆卸下来并互相交换位置，这样一来初始方向的可能性一下就增加了六倍。假设三个转子的编号为 $ 1、2、3 $ ，那么它们可以被放成 $ 123－132－213－231-312－321 $ 这六种不同位置，当然收发密文的双方除了要约定转子自身的初始方向，还要约好这六种排列中的一种。\n",
    "\n",
    "而除了转子方向和排列位置，“恩尼格玛”还有一道保障安全的关卡，在键盘和第一个转子之间有块连接板。通过这块连接板可以用一根连线把某个字母和另一个字母连接起来，这样这个字母的信号在进入转子之前就会转变为另一个字母的信号。这种连线最多可以有六根（后期的“恩尼格玛”甚至达到十根连线），这样就可以使 $ 6 $ 对字母的信号两两互换，其他没有插上连线的字母则保持不变。——当然连接板上的连线状况也是收发双方预先约定好的。\n",
    "就这样转子的初始方向、转子之间的相互位置以及连接板的连线状况就组成了“恩尼格玛”三道牢不可破的保密防线，其中连接板是一个简单替换密码系统，而不停转动的转子，虽然数量不多，但却是点睛之笔，使整个系统变成了复式替换系统。连接板虽然只是简单替换却能使可能性数目大大增加，在转子的复式作用下进一步加强了保密性。让我们来算一算经过这样处理，要想通过“暴力破解法”还原明文，需要试验多少种可能性：\n",
    "三个转子不同的方向组成了 $ 26 \\times 26 \\times 26=17576 $ 种可能性；\n",
    "三个转子间不同的相对位置为 $ 6 $ 种可能性；\n",
    "连接板上两两交换6对字母的可能性则是异常庞大，有 $100,391,791,500 $ 种；\n",
    "于是一共有 $ 17576x6x100,391,791,500 $，其结果大约为 $10,000,000,000,000,000！$ 即一亿亿种可能性！这样庞大的可能性，换言之，即便能动员大量的人力物力，要想靠“暴力破解法”来逐一试验可能性，那几乎是不可能的。而收发双方，则只要按照约定的转子方向、位置和连接板连线状况，就可以非常轻松简单地进行通讯了。这就是“恩尼格玛”密码机的保密原理。\n",
    "## 算法\n",
    "- def _validator\n",
    "```\n",
    "def _validator(\n",
    "    rotpos: RotorPositionT, # rotor_positon\n",
    "    rotsel: RotorSelectionT, #  rotor_selection\n",
    "    pb: str # plugb -> validated and transformed\n",
    ") \n",
    "-> tuple[RotorPositionT, \n",
    "        RotorSelectionT, \n",
    "        dict[str, str]]:\n",
    "    \"\"\"\n",
    "    Checks if the values can be used for the 'enigma' function\n",
    "    :param rotpos: rotor_positon\n",
    "    :param rotsel: rotor_selection\n",
    "    :param pb: plugb -> validated and transformed\n",
    "    :return: (rotpos, rotsel, pb)\n",
    "    \"\"\"\n",
    "```\n",
    "- _plugboard(pbstring: str)\n",
    "```\n",
    "  def _plugboard(\n",
    "      pbstring: str\n",
    "      ) \n",
    "  -> dict[str, str]:\n",
    "```\n",
    "- enigma\n",
    "```\n",
    "def enigma(\n",
    "    text: str,\n",
    "    rotor_position: RotorPositionT,\n",
    "    rotor_selection: RotorSelectionT = (rotor1, rotor2, rotor3),\n",
    "    plugb: str = \"\",\n",
    ") -> str:\n",
    "```\n",
    "\n",
    "\n",
    "## 代码\n",
    "[enigma_machine2.py]{..\\src\\ciphers\\enigma_machine2.py}\n"
   ],
   "cell_type": "markdown",
   "metadata": {}
  },
  {
   "cell_type": "code",
   "execution_count": 1,
   "metadata": {},
   "outputs": [],
   "source": [
    "\"\"\"\n",
    "Prepare\n",
    "   1. sys.path 中增加 TheAlgorithms\\src 子模块\n",
    "\n",
    "\"\"\"\n",
    "import sys\n",
    "sys.path.append('E:\\dev\\AI\\TheAlgorithms\\src')\n"
   ]
  },
  {
   "source": [
    "## 案例一：_validator\n"
   ],
   "cell_type": "markdown",
   "metadata": {}
  },
  {
   "cell_type": "code",
   "execution_count": 8,
   "metadata": {},
   "outputs": [
    {
     "output_type": "error",
     "ename": "TypeError",
     "evalue": "'type' object is not subscriptable",
     "traceback": [
      "\u001b[1;31m---------------------------------------------------------------------------\u001b[0m",
      "\u001b[1;31mTypeError\u001b[0m                                 Traceback (most recent call last)",
      "\u001b[1;32m<ipython-input-8-b30c299ac794>\u001b[0m in \u001b[0;36m<module>\u001b[1;34m\u001b[0m\n\u001b[1;32m----> 1\u001b[1;33m \u001b[1;32mfrom\u001b[0m \u001b[0mciphers\u001b[0m\u001b[1;33m.\u001b[0m\u001b[0menigma_machine2\u001b[0m \u001b[1;32mimport\u001b[0m \u001b[0m_validator\u001b[0m\u001b[1;33m\u001b[0m\u001b[1;33m\u001b[0m\u001b[0m\n\u001b[0m\u001b[0;32m      2\u001b[0m \"\"\"\n\u001b[0;32m      3\u001b[0m \"\"\"\n\u001b[0;32m      4\u001b[0m \u001b[1;33m\u001b[0m\u001b[0m\n\u001b[0;32m      5\u001b[0m \u001b[0mprint\u001b[0m\u001b[1;33m(\u001b[0m\u001b[0m_validator\u001b[0m\u001b[1;33m(\u001b[0m\u001b[1;33m(\u001b[0m\u001b[1;36m1\u001b[0m\u001b[1;33m,\u001b[0m\u001b[1;36m1\u001b[0m\u001b[1;33m,\u001b[0m\u001b[1;36m1\u001b[0m\u001b[1;33m)\u001b[0m\u001b[1;33m,\u001b[0m \u001b[1;33m(\u001b[0m\u001b[0mrotor1\u001b[0m\u001b[1;33m,\u001b[0m \u001b[0mrotor2\u001b[0m\u001b[1;33m,\u001b[0m \u001b[0mrotor3\u001b[0m\u001b[1;33m)\u001b[0m\u001b[1;33m,\u001b[0m \u001b[1;34m'POLAND'\u001b[0m\u001b[1;33m)\u001b[0m\u001b[1;33m)\u001b[0m\u001b[1;33m\u001b[0m\u001b[1;33m\u001b[0m\u001b[0m\n",
      "\u001b[1;32mE:\\dev\\AI\\TheAlgorithms\\src\\ciphers\\enigma_machine2.py\u001b[0m in \u001b[0;36m<module>\u001b[1;34m\u001b[0m\n\u001b[0;32m     70\u001b[0m def _validator(\n\u001b[0;32m     71\u001b[0m     \u001b[0mrotpos\u001b[0m\u001b[1;33m:\u001b[0m \u001b[0mRotorPositionT\u001b[0m\u001b[1;33m,\u001b[0m \u001b[0mrotsel\u001b[0m\u001b[1;33m:\u001b[0m \u001b[0mRotorSelectionT\u001b[0m\u001b[1;33m,\u001b[0m \u001b[0mpb\u001b[0m\u001b[1;33m:\u001b[0m \u001b[0mstr\u001b[0m\u001b[1;33m\u001b[0m\u001b[1;33m\u001b[0m\u001b[0m\n\u001b[1;32m---> 72\u001b[1;33m ) -> tuple([RotorPositionT, RotorSelectionT, dict[str, str]]):\n\u001b[0m\u001b[0;32m     73\u001b[0m     \"\"\"\n\u001b[0;32m     74\u001b[0m     \u001b[0mChecks\u001b[0m \u001b[1;32mif\u001b[0m \u001b[0mthe\u001b[0m \u001b[0mvalues\u001b[0m \u001b[0mcan\u001b[0m \u001b[0mbe\u001b[0m \u001b[0mused\u001b[0m \u001b[1;32mfor\u001b[0m \u001b[0mthe\u001b[0m \u001b[1;34m'enigma'\u001b[0m \u001b[0mfunction\u001b[0m\u001b[1;33m\u001b[0m\u001b[1;33m\u001b[0m\u001b[0m\n",
      "\u001b[1;31mTypeError\u001b[0m: 'type' object is not subscriptable"
     ]
    }
   ],
   "source": [
    "from ciphers.enigma_machine2 import _validator\n",
    "\"\"\"\n",
    "\"\"\"\n",
    "\n",
    "print(_validator((1,1,1), (rotor1, rotor2, rotor3), 'POLAND'))\n",
    "'''\n",
    " ((1, 1, 1), ('EGZWVONAHDCLFQMSIPJBYUKXTR', 'FOBHMDKEXQNRAULPGSJVTYICZW', \\\n",
    "'ZJXESIUQLHAVRMDOYGTNFWPBKC'), \\\n",
    "{'P': 'O', 'O': 'P', 'L': 'A', 'A': 'L', 'N': 'D', 'D': 'N'})\n",
    "'''\n"
   ]
  },
  {
   "source": [],
   "cell_type": "markdown",
   "metadata": {}
  },
  {
   "source": [
    "## 案例二：_plugboard\n",
    "\n",
    "```\n",
    "  def _plugboard(\n",
    "      pbstring: str\n",
    "      ) \n",
    "  -> dict[str, str]:\n",
    "```\n"
   ],
   "cell_type": "markdown",
   "metadata": {}
  },
  {
   "cell_type": "code",
   "execution_count": 9,
   "metadata": {},
   "outputs": [
    {
     "output_type": "error",
     "ename": "TypeError",
     "evalue": "'type' object is not subscriptable",
     "traceback": [
      "\u001b[1;31m---------------------------------------------------------------------------\u001b[0m",
      "\u001b[1;31mTypeError\u001b[0m                                 Traceback (most recent call last)",
      "\u001b[1;32m<ipython-input-9-af674095b504>\u001b[0m in \u001b[0;36m<module>\u001b[1;34m\u001b[0m\n\u001b[1;32m----> 1\u001b[1;33m \u001b[1;32mfrom\u001b[0m \u001b[0mciphers\u001b[0m\u001b[1;33m.\u001b[0m\u001b[0menigma_machine2\u001b[0m \u001b[1;32mimport\u001b[0m \u001b[0m_plugboard\u001b[0m\u001b[1;33m\u001b[0m\u001b[1;33m\u001b[0m\u001b[0m\n\u001b[0m\u001b[0;32m      2\u001b[0m \"\"\"\n\u001b[0;32m      3\u001b[0m \"\"\"\n\u001b[0;32m      4\u001b[0m \u001b[1;33m\u001b[0m\u001b[0m\n\u001b[0;32m      5\u001b[0m \u001b[0mprint\u001b[0m\u001b[1;33m(\u001b[0m\u001b[0m_plugboard\u001b[0m\u001b[1;33m(\u001b[0m\u001b[1;34m'PICTURES'\u001b[0m\u001b[1;33m)\u001b[0m\u001b[1;33m)\u001b[0m \u001b[1;31m#   {'P': 'I', 'I': 'P', 'C': 'T', 'T': 'C', 'U': 'R', 'R': 'U', 'E': 'S', 'S': 'E'}\u001b[0m\u001b[1;33m\u001b[0m\u001b[1;33m\u001b[0m\u001b[0m\n",
      "\u001b[1;32mE:\\dev\\AI\\TheAlgorithms\\src\\ciphers\\enigma_machine2.py\u001b[0m in \u001b[0;36m<module>\u001b[1;34m\u001b[0m\n\u001b[0;32m     70\u001b[0m def _validator(\n\u001b[0;32m     71\u001b[0m     \u001b[0mrotpos\u001b[0m\u001b[1;33m:\u001b[0m \u001b[0mRotorPositionT\u001b[0m\u001b[1;33m,\u001b[0m \u001b[0mrotsel\u001b[0m\u001b[1;33m:\u001b[0m \u001b[0mRotorSelectionT\u001b[0m\u001b[1;33m,\u001b[0m \u001b[0mpb\u001b[0m\u001b[1;33m:\u001b[0m \u001b[0mstr\u001b[0m\u001b[1;33m\u001b[0m\u001b[1;33m\u001b[0m\u001b[0m\n\u001b[1;32m---> 72\u001b[1;33m ) -> tuple([RotorPositionT, RotorSelectionT, dict[str, str]]):\n\u001b[0m\u001b[0;32m     73\u001b[0m     \"\"\"\n\u001b[0;32m     74\u001b[0m     \u001b[0mChecks\u001b[0m \u001b[1;32mif\u001b[0m \u001b[0mthe\u001b[0m \u001b[0mvalues\u001b[0m \u001b[0mcan\u001b[0m \u001b[0mbe\u001b[0m \u001b[0mused\u001b[0m \u001b[1;32mfor\u001b[0m \u001b[0mthe\u001b[0m \u001b[1;34m'enigma'\u001b[0m \u001b[0mfunction\u001b[0m\u001b[1;33m\u001b[0m\u001b[1;33m\u001b[0m\u001b[0m\n",
      "\u001b[1;31mTypeError\u001b[0m: 'type' object is not subscriptable"
     ]
    }
   ],
   "source": [
    "from ciphers.enigma_machine2 import _plugboard\n",
    "\"\"\"\n",
    "\"\"\"\n",
    "\n",
    "print(_plugboard('PICTURES')) #   {'P': 'I', 'I': 'P', 'C': 'T', 'T': 'C', 'U': 'R', 'R': 'U', 'E': 'S', 'S': 'E'}\n",
    "print(_plugboard('POLAND'))  #    {'P': 'O', 'O': 'P', 'L': 'A', 'A': 'L', 'N': 'D', 'D': 'N'}"
   ]
  },
  {
   "source": [
    "## 案例三 ： enigma\n",
    "```\n",
    "def enigma(\n",
    "    text: str,\n",
    "    rotor_position: RotorPositionT,\n",
    "    rotor_selection: RotorSelectionT = (rotor1, rotor2, rotor3),\n",
    "    plugb: str = \"\",\n",
    ") -> str:\n",
    "```"
   ],
   "cell_type": "markdown",
   "metadata": {}
  },
  {
   "cell_type": "code",
   "execution_count": 3,
   "metadata": {},
   "outputs": [
    {
     "output_type": "error",
     "ename": "TypeError",
     "evalue": "'type' object is not subscriptable",
     "traceback": [
      "\u001b[1;31m---------------------------------------------------------------------------\u001b[0m",
      "\u001b[1;31mTypeError\u001b[0m                                 Traceback (most recent call last)",
      "\u001b[1;32m<ipython-input-3-785299edf625>\u001b[0m in \u001b[0;36m<module>\u001b[1;34m\u001b[0m\n\u001b[1;32m----> 1\u001b[1;33m \u001b[1;32mfrom\u001b[0m \u001b[0mciphers\u001b[0m\u001b[1;33m.\u001b[0m\u001b[0menigma_machine2\u001b[0m \u001b[1;32mimport\u001b[0m \u001b[0menigma\u001b[0m\u001b[1;33m\u001b[0m\u001b[1;33m\u001b[0m\u001b[0m\n\u001b[0m\u001b[0;32m      2\u001b[0m \"\"\"\n\u001b[0;32m      3\u001b[0m \"\"\"\n\u001b[0;32m      4\u001b[0m \u001b[1;33m\u001b[0m\u001b[0m\n\u001b[0;32m      5\u001b[0m \u001b[0mprint\u001b[0m\u001b[1;33m(\u001b[0m\u001b[0menigma\u001b[0m\u001b[1;33m(\u001b[0m\u001b[1;34m'Hello World!'\u001b[0m\u001b[1;33m,\u001b[0m \u001b[1;33m(\u001b[0m\u001b[1;36m1\u001b[0m\u001b[1;33m,\u001b[0m \u001b[1;36m2\u001b[0m\u001b[1;33m,\u001b[0m \u001b[1;36m1\u001b[0m\u001b[1;33m)\u001b[0m\u001b[1;33m,\u001b[0m \u001b[0mplugb\u001b[0m\u001b[1;33m=\u001b[0m\u001b[1;34m'pictures'\u001b[0m\u001b[1;33m)\u001b[0m\u001b[1;33m)\u001b[0m \u001b[1;31m#    'KORYH JUHHI!'\u001b[0m\u001b[1;33m\u001b[0m\u001b[1;33m\u001b[0m\u001b[0m\n",
      "\u001b[1;32mE:\\dev\\AI\\TheAlgorithms\\src\\ciphers\\enigma_machine2.py\u001b[0m in \u001b[0;36m<module>\u001b[1;34m\u001b[0m\n\u001b[0;32m     16\u001b[0m \"\"\"\n\u001b[0;32m     17\u001b[0m \u001b[1;33m\u001b[0m\u001b[0m\n\u001b[1;32m---> 18\u001b[1;33m \u001b[0mRotorPositionT\u001b[0m \u001b[1;33m=\u001b[0m \u001b[0mtuple\u001b[0m\u001b[1;33m[\u001b[0m\u001b[0mint\u001b[0m\u001b[1;33m,\u001b[0m \u001b[0mint\u001b[0m\u001b[1;33m,\u001b[0m \u001b[0mint\u001b[0m\u001b[1;33m]\u001b[0m\u001b[1;33m\u001b[0m\u001b[1;33m\u001b[0m\u001b[0m\n\u001b[0m\u001b[0;32m     19\u001b[0m \u001b[0mRotorSelectionT\u001b[0m \u001b[1;33m=\u001b[0m \u001b[0mtuple\u001b[0m\u001b[1;33m[\u001b[0m\u001b[0mstr\u001b[0m\u001b[1;33m,\u001b[0m \u001b[0mstr\u001b[0m\u001b[1;33m,\u001b[0m \u001b[0mstr\u001b[0m\u001b[1;33m]\u001b[0m\u001b[1;33m\u001b[0m\u001b[1;33m\u001b[0m\u001b[0m\n\u001b[0;32m     20\u001b[0m \u001b[1;33m\u001b[0m\u001b[0m\n",
      "\u001b[1;31mTypeError\u001b[0m: 'type' object is not subscriptable"
     ]
    }
   ],
   "source": [
    "from ciphers.enigma_machine2 import enigma\n",
    "\"\"\"\n",
    "\"\"\"\n",
    "\n",
    "print(enigma('Hello World!', (1, 2, 1), plugb='pictures')) #    'KORYH JUHHI!'\n",
    "print(enigma('KORYH, juhhi!', (1, 2, 1), plugb='pictures')) #    'HELLO, WORLD!'\n",
    "print(enigma('hello world!', (1, 1, 1), plugb='pictures')) #    'FPNCZ QWOBU!'\n",
    "print(enigma('FPNCZ QWOBU', (1, 1, 1), plugb='pictures'))  #    'HELLO WORLD'"
   ]
  },
  {
   "cell_type": "code",
   "execution_count": 12,
   "metadata": {},
   "outputs": [
    {
     "output_type": "stream",
     "name": "stdout",
     "text": [
      "(1, 2, 3)\n('A', 'B', 'C')\n"
     ]
    }
   ],
   "source": [
    "RotorPositionT = tuple([int, int, int])\n",
    "RotorSelectionT = tuple([str, str, str])\n",
    "\n",
    "rotorPositionT1 = tuple([1,2,3])\n",
    "rotorSelectionT1 = tuple([\"A\",\"B\", \"C\"])\n",
    "\n",
    "print(rotorPositionT1)\n",
    "print(rotorSelectionT1)\n",
    "\n"
   ]
  },
  {
   "cell_type": "code",
   "execution_count": 13,
   "metadata": {},
   "outputs": [
    {
     "output_type": "error",
     "ename": "TypeError",
     "evalue": "'type' object is not subscriptable",
     "traceback": [
      "\u001b[1;31m---------------------------------------------------------------------------\u001b[0m",
      "\u001b[1;31mTypeError\u001b[0m                                 Traceback (most recent call last)",
      "\u001b[1;32m<ipython-input-13-4c2594b98baf>\u001b[0m in \u001b[0;36m<module>\u001b[1;34m\u001b[0m\n\u001b[0;32m     53\u001b[0m def _validator(\n\u001b[0;32m     54\u001b[0m     \u001b[0mrotpos\u001b[0m\u001b[1;33m:\u001b[0m \u001b[0mRotorPositionT\u001b[0m\u001b[1;33m,\u001b[0m \u001b[0mrotsel\u001b[0m\u001b[1;33m:\u001b[0m \u001b[0mRotorSelectionT\u001b[0m\u001b[1;33m,\u001b[0m \u001b[0mpb\u001b[0m\u001b[1;33m:\u001b[0m \u001b[0mstr\u001b[0m\u001b[1;33m\u001b[0m\u001b[1;33m\u001b[0m\u001b[0m\n\u001b[1;32m---> 55\u001b[1;33m ) -> tuple(RotorPositionT, RotorSelectionT, dict[str, str]):\n\u001b[0m\u001b[0;32m     56\u001b[0m     \"\"\"\n\u001b[0;32m     57\u001b[0m     \u001b[0mChecks\u001b[0m \u001b[1;32mif\u001b[0m \u001b[0mthe\u001b[0m \u001b[0mvalues\u001b[0m \u001b[0mcan\u001b[0m \u001b[0mbe\u001b[0m \u001b[0mused\u001b[0m \u001b[1;32mfor\u001b[0m \u001b[0mthe\u001b[0m \u001b[1;34m'enigma'\u001b[0m \u001b[0mfunction\u001b[0m\u001b[1;33m\u001b[0m\u001b[1;33m\u001b[0m\u001b[0m\n",
      "\u001b[1;31mTypeError\u001b[0m: 'type' object is not subscriptable"
     ]
    }
   ],
   "source": [
    "RotorPositionT = tuple([int, int, int])\n",
    "RotorSelectionT = tuple([str, str, str])\n",
    "\n",
    "\n",
    "# used alphabet --------------------------\n",
    "# from string.ascii_uppercase\n",
    "abc = \"ABCDEFGHIJKLMNOPQRSTUVWXYZ\"\n",
    "\n",
    "# -------------------------- default selection --------------------------\n",
    "# rotors --------------------------\n",
    "rotor1 = \"EGZWVONAHDCLFQMSIPJBYUKXTR\"\n",
    "rotor2 = \"FOBHMDKEXQNRAULPGSJVTYICZW\"\n",
    "rotor3 = \"ZJXESIUQLHAVRMDOYGTNFWPBKC\"\n",
    "# reflector --------------------------\n",
    "reflector = {\n",
    "    \"A\": \"N\",\n",
    "    \"N\": \"A\",\n",
    "    \"B\": \"O\",\n",
    "    \"O\": \"B\",\n",
    "    \"C\": \"P\",\n",
    "    \"P\": \"C\",\n",
    "    \"D\": \"Q\",\n",
    "    \"Q\": \"D\",\n",
    "    \"E\": \"R\",\n",
    "    \"R\": \"E\",\n",
    "    \"F\": \"S\",\n",
    "    \"S\": \"F\",\n",
    "    \"G\": \"T\",\n",
    "    \"T\": \"G\",\n",
    "    \"H\": \"U\",\n",
    "    \"U\": \"H\",\n",
    "    \"I\": \"V\",\n",
    "    \"V\": \"I\",\n",
    "    \"J\": \"W\",\n",
    "    \"W\": \"J\",\n",
    "    \"K\": \"X\",\n",
    "    \"X\": \"K\",\n",
    "    \"L\": \"Y\",\n",
    "    \"Y\": \"L\",\n",
    "    \"M\": \"Z\",\n",
    "    \"Z\": \"M\",\n",
    "}\n",
    "\n",
    "# -------------------------- extra rotors --------------------------\n",
    "rotor4 = \"RMDJXFUWGISLHVTCQNKYPBEZOA\"\n",
    "rotor5 = \"SGLCPQWZHKXAREONTFBVIYJUDM\"\n",
    "rotor6 = \"HVSICLTYKQUBXDWAJZOMFGPREN\"\n",
    "rotor7 = \"RZWQHFMVDBKICJLNTUXAGYPSOE\"\n",
    "rotor8 = \"LFKIJODBEGAMQPXVUHYSTCZRWN\"\n",
    "rotor9 = \"KOAEGVDHXPQZMLFTYWJNBRCIUS\"\n",
    "\n",
    "\n",
    "def _validator(\n",
    "    rotpos: RotorPositionT, rotsel: RotorSelectionT, pb: str\n",
    ") -> tuple(RotorPositionT, RotorSelectionT, dict[str, str]):\n",
    "    \"\"\"\n",
    "    Checks if the values can be used for the 'enigma' function\n",
    "\n",
    "    >>> _validator((1,1,1), (rotor1, rotor2, rotor3), 'POLAND')\n",
    "    ((1, 1, 1), ('EGZWVONAHDCLFQMSIPJBYUKXTR', 'FOBHMDKEXQNRAULPGSJVTYICZW', \\\n",
    "'ZJXESIUQLHAVRMDOYGTNFWPBKC'), \\\n",
    "{'P': 'O', 'O': 'P', 'L': 'A', 'A': 'L', 'N': 'D', 'D': 'N'})\n",
    "\n",
    "    :param rotpos: rotor_positon\n",
    "    :param rotsel: rotor_selection\n",
    "    :param pb: plugb -> validated and transformed\n",
    "    :return: (rotpos, rotsel, pb)\n",
    "    \"\"\"\n",
    "    # Checks if there are 3 unique rotors\n",
    "\n",
    "    unique_rotsel = len(set(rotsel))\n",
    "    if unique_rotsel < 3:\n",
    "        raise Exception(f\"Please use 3 unique rotors (not {unique_rotsel})\")\n",
    "\n",
    "    # Checks if rotor positions are valid\n",
    "    rotorpos1, rotorpos2, rotorpos3 = rotpos\n",
    "    if not 0 < rotorpos1 <= len(abc):\n",
    "        raise ValueError(\n",
    "            f\"First rotor position is not within range of 1..26 (\" f\"{rotorpos1}\"\n",
    "        )\n",
    "    if not 0 < rotorpos2 <= len(abc):\n",
    "        raise ValueError(\n",
    "            f\"Second rotor position is not within range of 1..26 (\" f\"{rotorpos2})\"\n",
    "        )\n",
    "    if not 0 < rotorpos3 <= len(abc):\n",
    "        raise ValueError(\n",
    "            f\"Third rotor position is not within range of 1..26 (\" f\"{rotorpos3})\"\n",
    "        )\n",
    "\n",
    "    # Validates string and returns dict\n",
    "    # pbdict = _plugboard(pb)\n",
    "\n",
    "    return tuple(rotpos, rotsel, pbdict)\n",
    "\n",
    "\n",
    "\n",
    "print(_validator((1,1,1), (rotor1, rotor2, rotor3), 'POLAND'))\n",
    "'''\n",
    " ((1, 1, 1), ('EGZWVONAHDCLFQMSIPJBYUKXTR', 'FOBHMDKEXQNRAULPGSJVTYICZW', \\\n",
    "'ZJXESIUQLHAVRMDOYGTNFWPBKC'), \\\n",
    "{'P': 'O', 'O': 'P', 'L': 'A', 'A': 'L', 'N': 'D', 'D': 'N'})\n",
    "'''\n"
   ]
  },
  {
   "cell_type": "code",
   "execution_count": null,
   "metadata": {},
   "outputs": [],
   "source": []
  }
 ]
}