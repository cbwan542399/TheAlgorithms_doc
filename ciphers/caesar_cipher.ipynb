{
 "metadata": {
  "language_info": {
   "codemirror_mode": {
    "name": "ipython",
    "version": 3
   },
   "file_extension": ".py",
   "mimetype": "text/x-python",
   "name": "python",
   "nbconvert_exporter": "python",
   "pygments_lexer": "ipython3",
   "version": "3.8.0"
  },
  "orig_nbformat": 2,
  "kernelspec": {
   "name": "pythonjvsc74a57bd04570298ddf55f12d72b384cb5a92401407339203adac8a4a881fb11d70b7d0b5",
   "display_name": "Python 3.8.0  ('myaivenv': venv)"
  },
  "metadata": {
   "interpreter": {
    "hash": "4570298ddf55f12d72b384cb5a92401407339203adac8a4a881fb11d70b7d0b5"
   }
  }
 },
 "nbformat": 4,
 "nbformat_minor": 2,
 "cells": [
  {
   "source": [
    "\n",
    "# caesar_cipher  凯撒密码\n",
    "\n",
    "## 概念\n",
    "\n",
    "凯撒密码是一种简单的替代密码，根据苏维托尼乌斯的记载，凯撒密码是由罗马共和国独裁官盖乌斯·尤利乌斯·恺撒发明的，他曾用凯撒密码来加密重要的军事情报。<br>\n",
    "作为一种替代加密算法，凯撒密码在如今看来，并非那么安全，它的加密方式只是简单的移位和替换，例如，如果明文移位1，则A被B替代，B将变为C，依此类推。<br>\n",
    "\n",
    "\n",
    "如果知道偏移位密钥，对密文解密是很简单的，只需用移位密钥表替换回正常字母表字母即可\n",
    "移位密钥表的规律很简单，不管偏移几位数，这些字母都移动到正常字母表的最后。<br>\n",
    "\n",
    "如果不知道偏移位数密钥，怎么解密密文呢，方式其实也并不困难，因为凯撒密码只有25种偏移位数的可能性，所以，只需要计算出这25种结果，必然有一种结果是明文。<br>\n",
    "\n",
    "\n",
    "\n",
    "## 算法\n",
    "- encrypt 加密\n",
    "```\n",
    "def encrypt(input_string: str, key: int, alphabet: Optional[str] = None) -> str:\n",
    "    \"\"\"\n",
    "    encrypt\n",
    "    =======\n",
    "    Encodes a given string with the caesar cipher and returns the encoded\n",
    "    message\n",
    "\n",
    "    Parameters:\n",
    "    -----------\n",
    "    *   input_string: the plain-text that needs to be encoded\n",
    "    *   key: the number of letters to shift the message by\n",
    "\n",
    "    Optional:\n",
    "    *   alphabet (None): the alphabet used to encode the cipher, if not\n",
    "        specified, the standard english alphabet with upper and lowercase\n",
    "        letters is used\n",
    "\n",
    "    Returns:\n",
    "    *   A string containing the encoded cipher-text\n",
    "```\n",
    "- decrypt 解密\n",
    "```\n",
    "def decrypt(input_string: str, key: int, alphabet: Optional[str] = None) -> str:\n",
    "```\n",
    "- brute_force  暴力破解\n",
    "```\n",
    "def brute_force(input_string: str, alphabet: Optional[str] = None) -> Dict[int, str]:\n",
    "    \"\"\"\n",
    "    brute_force\n",
    "    ===========\n",
    "    Returns all the possible combinations of keys and the decoded strings in the\n",
    "    form of a dictionary\n",
    "\n",
    "    Parameters:\n",
    "    -----------\n",
    "    *   input_string: the cipher-text that needs to be used during brute-force\n",
    "\n",
    "    Optional:\n",
    "    *   alphabet:  (None): the alphabet used to decode the cipher, if not\n",
    "        specified, the standard english alphabet with upper and lowercase\n",
    "        letters is used\n",
    "```\n",
    "## 代码\n",
    "[caesar_cipher.py]{..\\src\\ciphers\\caesar_cipher.py}"
   ],
   "cell_type": "markdown",
   "metadata": {}
  },
  {
   "cell_type": "code",
   "execution_count": 1,
   "metadata": {},
   "outputs": [],
   "source": [
    "\"\"\"\n",
    "Prepare\n",
    "   1. sys.path 中增加 TheAlgorithms\\src 子模块\n",
    "\n",
    "\"\"\"\n",
    "import sys\n",
    "sys.path.append('E:\\dev\\AI\\TheAlgorithms\\src')\n"
   ]
  },
  {
   "source": [
    "## 案例一： \n",
    "encrypt 加密"
   ],
   "cell_type": "markdown",
   "metadata": {}
  },
  {
   "cell_type": "code",
   "execution_count": 11,
   "metadata": {},
   "outputs": [
    {
     "output_type": "stream",
     "name": "stdout",
     "text": [
      "input_string:The quick brown fox jumps over the lazy dog\nkey：60\nencrypt result:bpm yCqks jzwEv nwF rCuxA wDmz Bpm tiHG lwo\ninput_string:A very large key\nkey：8000\nencrypt result:s nWjq dSjYW cWq\ninput_string:a lowercase alphabet\nkey：5\nencrypt result:f qtbjwhfxj fqumfgjy\n"
     ]
    }
   ],
   "source": [
    "from ciphers.caesar_cipher import encrypt,decrypt,brute_force\n",
    "\"\"\"\n",
    "    \n",
    "\"\"\"\n",
    "\n",
    "'''\n",
    "encrypt('The quick brown fox jumps over the lazy dog', 8)\n",
    "    'bpm yCqks jzwEv nwF rCuxA wDmz Bpm tiHG lwo'\n",
    "'''\n",
    "input_string = 'The quick brown fox jumps over the lazy dog'\n",
    "key= 8+52\n",
    "result = encrypt(input_string,key)\n",
    "\n",
    "print(f'input_string:{input_string}' )\n",
    "print(f'key：{key}' )\n",
    "print(f'encrypt result:{result}' )\n",
    "'''\n",
    "encrypt('A very large key', 8000)\n",
    "'s nWjq dSjYW cWq'\n",
    "'''\n",
    "\n",
    "input_string = 'A very large key'\n",
    "key= 8000\n",
    "result = encrypt(input_string,key)\n",
    "\n",
    "print(f'input_string:{input_string}' )\n",
    "print(f'key：{key}' )\n",
    "print(f'encrypt result:{result}' )\n",
    "\n",
    "'''\n",
    "encrypt('a lowercase alphabet', 5, 'abcdefghijklmnopqrstuvwxyz')\n",
    "    'f qtbjwhfxj fqumfgjy'\n",
    "'''\n",
    "\n",
    "input_string = 'a lowercase alphabet'\n",
    "key= 5\n",
    "alphabet ='abcdefghijklmnopqrstuvwxyz'\n",
    "result = encrypt(input_string,key,alphabet)\n",
    "print(f'input_string:{input_string}' )\n",
    "print(f'key：{key}' )\n",
    "print(f'encrypt result:{result}' )\n"
   ]
  },
  {
   "source": [
    "## 案例二： \n",
    "decrypt 解密"
   ],
   "cell_type": "markdown",
   "metadata": {}
  },
  {
   "cell_type": "code",
   "execution_count": 13,
   "metadata": {},
   "outputs": [
    {
     "output_type": "stream",
     "name": "stdout",
     "text": [
      "The quick brown fox jumps over the lazy dog\nA very large key\na lowercase alphabet\n"
     ]
    }
   ],
   "source": [
    "from ciphers.caesar_cipher import encrypt,decrypt,brute_force\n",
    "\"\"\"\n",
    "    \n",
    "\"\"\"\n",
    "'''\n",
    ">>> decrypt('bpm yCqks jzwEv nwF rCuxA wDmz Bpm tiHG lwo', 8)\n",
    "    'The quick brown fox jumps over the lazy dog'\n",
    ">>> decrypt('s nWjq dSjYW cWq', 8000)\n",
    "    'A very large key'\n",
    ">>> decrypt('f qtbjwhfxj fqumfgjy', 5, 'abcdefghijklmnopqrstuvwxyz')\n",
    "    'a lowercase alphabet'\n",
    "'''\n",
    "\n",
    "print(decrypt('bpm yCqks jzwEv nwF rCuxA wDmz Bpm tiHG lwo', 8))\n",
    "print(decrypt('s nWjq dSjYW cWq', 8000))\n",
    "print(decrypt('f qtbjwhfxj fqumfgjy', 5, 'abcdefghijklmnopqrstuvwxyz'))\n"
   ]
  },
  {
   "source": [
    "## 案例三：\n",
    "brute_force 暴力破解\n",
    "```\n",
    "brute_force(input_string: str, alphabet: Optional[str] = None) -> Dict[int, str]:\n",
    "```\n"
   ],
   "cell_type": "markdown",
   "metadata": {}
  },
  {
   "cell_type": "code",
   "execution_count": 15,
   "metadata": {},
   "outputs": [
    {
     "output_type": "stream",
     "name": "stdout",
     "text": [
      "<class 'dict'>\n{1: \"iExtLx wHG'M uKNMx yHKvx Fx!\", 2: \"hDwsKw vGF'L tJMLw xGJuw Ew!\", 3: \"gCvrJv uFE'K sILKv wFItv Dv!\", 4: \"fBuqIu tED'J rHKJu vEHsu Cu!\", 5: \"eAtpHt sDC'I qGJIt uDGrt Bt!\", 6: \"dzsoGs rCB'H pFIHs tCFqs As!\", 7: \"cyrnFr qBA'G oEHGr sBEpr zr!\", 8: \"bxqmEq pAz'F nDGFq rADoq yq!\", 9: \"awplDp ozy'E mCFEp qzCnp xp!\", 10: \"ZvokCo nyx'D lBEDo pyBmo wo!\", 11: \"YunjBn mxw'C kADCn oxAln vn!\", 12: \"XtmiAm lwv'B jzCBm nwzkm um!\", 13: \"Wslhzl kvu'A iyBAl mvyjl tl!\", 14: \"Vrkgyk jut'z hxAzk luxik sk!\", 15: \"Uqjfxj its'y gwzyj ktwhj rj!\", 16: \"Tpiewi hsr'x fvyxi jsvgi qi!\", 17: \"Sohdvh grq'w euxwh irufh ph!\", 18: \"Rngcug fqp'v dtwvg hqteg og!\", 19: \"Qmfbtf epo'u csvuf gpsdf nf!\", 20: \"Please don't brute force me!\", 21: \"OkdZrd cnm's aqtsd enqbd ld!\", 22: \"NjcYqc bml'r Zpsrc dmpac kc!\", 23: \"MibXpb alk'q Yorqb cloZb jb!\", 24: \"LhaWoa Zkj'p Xnqpa bknYa ia!\", 25: \"KgZVnZ Yji'o WmpoZ ajmXZ hZ!\", 26: \"JfYUmY Xih'n VlonY ZilWY gY!\", 27: \"IeXTlX Whg'm UknmX YhkVX fX!\", 28: \"HdWSkW Vgf'l TjmlW XgjUW eW!\", 29: \"GcVRjV Ufe'k SilkV WfiTV dV!\", 30: \"FbUQiU Ted'j RhkjU VehSU cU!\", 31: \"EaTPhT Sdc'i QgjiT UdgRT bT!\", 32: \"DZSOgS Rcb'h PfihS TcfQS aS!\", 33: \"CYRNfR Qba'g OehgR SbePR ZR!\", 34: \"BXQMeQ PaZ'f NdgfQ RadOQ YQ!\", 35: \"AWPLdP OZY'e McfeP QZcNP XP!\", 36: \"zVOKcO NYX'd LbedO PYbMO WO!\", 37: \"yUNJbN MXW'c KadcN OXaLN VN!\", 38: \"xTMIaM LWV'b JZcbM NWZKM UM!\", 39: \"wSLHZL KVU'a IYbaL MVYJL TL!\", 40: \"vRKGYK JUT'Z HXaZK LUXIK SK!\", 41: \"uQJFXJ ITS'Y GWZYJ KTWHJ RJ!\", 42: \"tPIEWI HSR'X FVYXI JSVGI QI!\", 43: \"sOHDVH GRQ'W EUXWH IRUFH PH!\", 44: \"rNGCUG FQP'V DTWVG HQTEG OG!\", 45: \"qMFBTF EPO'U CSVUF GPSDF NF!\", 46: \"pLEASE DON'T BRUTE FORCE ME!\", 47: \"oKDzRD CNM'S AQTSD ENQBD LD!\", 48: \"nJCyQC BML'R zPSRC DMPAC KC!\", 49: \"mIBxPB ALK'Q yORQB CLOzB JB!\", 50: \"lHAwOA zKJ'P xNQPA BKNyA IA!\", 51: \"kGzvNz yJI'O wMPOz AJMxz Hz!\", 52: \"jFyuMy xIH'N vLONy zILwy Gy!\"}\nPlease don't brute force me!\n"
     ]
    }
   ],
   "source": [
    "from ciphers.caesar_cipher import encrypt,decrypt,brute_force\n",
    "\"\"\"\n",
    "\"\"\"\n",
    "'''\n",
    ">>> brute_force(\"jFyuMy xIH'N vLONy zILwy Gy!\")[20]\n",
    "    \"Please don't brute force me!\"\n",
    "'''\n",
    "s = brute_force(\"jFyuMy xIH'N vLONy zILwy Gy!\")\n",
    "print(type(s))\n",
    "print(s)\n",
    "print(s[20])"
   ]
  },
  {
   "cell_type": "code",
   "execution_count": null,
   "metadata": {},
   "outputs": [],
   "source": []
  }
 ]
}