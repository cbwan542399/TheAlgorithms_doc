{
 "metadata": {
  "language_info": {
   "codemirror_mode": {
    "name": "ipython",
    "version": 3
   },
   "file_extension": ".py",
   "mimetype": "text/x-python",
   "name": "python",
   "nbconvert_exporter": "python",
   "pygments_lexer": "ipython3",
   "version": "3.8.0"
  },
  "orig_nbformat": 2,
  "kernelspec": {
   "name": "pythonjvsc74a57bd04570298ddf55f12d72b384cb5a92401407339203adac8a4a881fb11d70b7d0b5",
   "display_name": "Python 3.8.0  ('myaivenv': venv)"
  },
  "metadata": {
   "interpreter": {
    "hash": "4570298ddf55f12d72b384cb5a92401407339203adac8a4a881fb11d70b7d0b5"
   }
  }
 },
 "nbformat": 4,
 "nbformat_minor": 2,
 "cells": [
  {
   "source": [
    "\n",
    "# atbash  埃特巴什码\n",
    "\n",
    "## 概念\n",
    "\n",
    "埃特巴什码（Atbash Cipher）是一个系统：最后一个字母代表第一个字母，倒数第二个字母代表第二个字母。\n",
    "在罗马字母表中，它是这样出现的：\n",
    "```\n",
    "常文：A B C D E F G H I J K L M N O P Q R S T U V W X Y Z\n",
    "密文：Z Y X W V U T S R Q P O N M L K J I H G F E D C B A\n",
    "```\n",
    "这种密码是由熊斐特博士发现的。熊斐特博士为库姆兰《死海古卷》的最初研究者之一，他在《圣经》历史研究方面最有名气的著作是《逾越节的阴谋》。他运用这种密码来研究别人利用其他方法不能破解的那些经文。这种密码被运用在公元1世纪的艾赛尼/萨多吉/拿撒勒教派的经文中，用以隐藏姓名。其实早在公元前500年，它就被抄经人用来写作《耶利米书》耶利米是活动在公元前627-前586年间的犹太先知，圣经旧约书中有许多关于他的记载。在他离世前，犹太领土已被巴比伦人占领。。它也是希伯来文所用的数种密码系统之一。\n",
    "## 算法\n",
    "- atbash_slow(sequence: str) -> str\n",
    "- atbash_slow(sequence: str) -> str\n",
    "  \n",
    "## 代码\n",
    "[attbash.py]{..\\src\\ciphers\\attbash.py}"
   ],
   "cell_type": "markdown",
   "metadata": {}
  },
  {
   "cell_type": "code",
   "execution_count": 3,
   "metadata": {},
   "outputs": [],
   "source": [
    "\"\"\"\n",
    "Prepare\n",
    "   1. sys.path 中增加 TheAlgorithms\\src 子模块\n",
    "\n",
    "\"\"\"\n",
    "import sys\n",
    "sys.path.append('E:\\dev\\AI\\TheAlgorithms\\src')\n"
   ]
  },
  {
   "source": [
    "## 案例一： \n",
    " 对明文进行加密 <br>\n",
    " 对密文进行解密 <br>\n",
    " 其中：对密文进行加密得到明文 <br>"
   ],
   "cell_type": "markdown",
   "metadata": {}
  },
  {
   "cell_type": "code",
   "execution_count": 6,
   "metadata": {},
   "outputs": [
    {
     "output_type": "stream",
     "name": "stdout",
     "text": [
      "s:= ABCDEFG\natbash_slow(s): ZYXWVUT\ndouble atbash_slow(s): ABCDEFG\ns:= aW;;123BX\natbash_slow(s): zD;;123YC\ndouble atbash_slow(s): aW;;123BX\ns:= ABCDEFG\natbash(s): ZYXWVUT\ndouble atbash(s): ABCDEFG\ns:= aW;;123BX\natbash(s): zD;;123YC\ndouble atbash(s): aW;;123BX\n"
     ]
    }
   ],
   "source": [
    "from ciphers.atbash import atbash_slow,atbash\n",
    "\"\"\"\n",
    "    >>> atbash_slow(\"ABCDEFG\")\n",
    "    'ZYXWVUT'\n",
    "\n",
    "    >>> atbash_slow(\"aW;;123BX\")\n",
    "    'zD;;123YC'\n",
    "\n",
    "    >>> atbash(\"ABCDEFG\")\n",
    "    'ZYXWVUT'\n",
    "\n",
    "    >>> atbash(\"aW;;123BX\")\n",
    "    'zD;;123YC'\n",
    "\"\"\"\n",
    "s = \"ABCDEFG\"\n",
    "s_atbash_slow = atbash_slow(s)\n",
    "print (\"s:=\",s)\n",
    "print (\"atbash_slow(s):\",s_atbash_slow)\n",
    "print (\"double atbash_slow(s):\",atbash_slow(s_atbash_slow)) \n",
    "\n",
    "\n",
    "s = \"aW;;123BX\"\n",
    "s_atbash_slow = atbash_slow(s)\n",
    "print (\"s:=\",s)\n",
    "print (\"atbash_slow(s):\",s_atbash_slow)\n",
    "print (\"double atbash_slow(s):\",atbash_slow(s_atbash_slow))\n",
    "\n",
    "s = \"ABCDEFG\"\n",
    "s_atbash = atbash(s)\n",
    "print (\"s:=\",s)\n",
    "print (\"atbash(s):\",s_atbash)\n",
    "print (\"double atbash(s):\",atbash(s_atbash))\n",
    "\n",
    "\n",
    "s = \"aW;;123BX\"\n",
    "s_atbash = atbash(s)\n",
    "print (\"s:=\",s)\n",
    "print (\"atbash(s):\",s_atbash)\n",
    "print (\"double atbash(s):\",atbash(s_atbash))\n"
   ]
  },
  {
   "cell_type": "code",
   "execution_count": null,
   "metadata": {},
   "outputs": [],
   "source": []
  }
 ]
}