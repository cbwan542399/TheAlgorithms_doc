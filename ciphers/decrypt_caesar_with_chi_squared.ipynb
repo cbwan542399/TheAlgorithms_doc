{
 "metadata": {
  "language_info": {
   "codemirror_mode": {
    "name": "ipython",
    "version": 3
   },
   "file_extension": ".py",
   "mimetype": "text/x-python",
   "name": "python",
   "nbconvert_exporter": "python",
   "pygments_lexer": "ipython3",
   "version": "3.8.0"
  },
  "orig_nbformat": 2,
  "kernelspec": {
   "name": "python3",
   "display_name": "Python 3.8.0  ('myaivenv': venv)"
  },
  "metadata": {
   "interpreter": {
    "hash": "4570298ddf55f12d72b384cb5a92401407339203adac8a4a881fb11d70b7d0b5"
   }
  },
  "interpreter": {
   "hash": "4570298ddf55f12d72b384cb5a92401407339203adac8a4a881fb11d70b7d0b5"
  }
 },
 "nbformat": 4,
 "nbformat_minor": 2,
 "cells": [
  {
   "cell_type": "code",
   "execution_count": null,
   "metadata": {},
   "outputs": [],
   "source": []
  },
  {
   "source": [
    "\n",
    "# decrypt_caesar_with_chi_squared \n",
    "使用卡方解密凯撒密码\n",
    "\n",
    "## 卡方分布（Chi-squared Distribution）与卡方检验（Chi-square Test）\n",
    "\n",
    "- 卡方分布 <br>\n",
    "  - 概念：<br>\n",
    "具有k个自由度的卡方分布是一个由k个独立标准正态随机变量的和所构成的分布。卡方分布经常用于我们常见的卡方检验中。卡方检验一方面可以用来衡量观测分布和理论分布之间的拟合程度，另一方面也可以测量定性数据两个分类标准间的独立性。\n",
    "  - 定义：\n",
    "如果$Z_1,Z_2,\\cdots,Z_k$是标准正态随机变量，那么这些变量的平方和就表现出k个自由度的卡方分布：\n",
    "$$ K_d =\\sum Z_i^2 $$\n",
    "通常表示成如下形式：\n",
    "$$ K_d \\text ' ~ ' X^2(k) $$\n",
    "\n",
    "另，需要注意，卡方分布中只有一个参数k，k是一个正整数。\n",
    "\n",
    "- 卡方检验\n",
    "  - 概念：\n",
    "通过观察实际值与理论值的偏差来确定理论的正确与否。\n",
    "先假设两个变量是独立的（原假设），然后观察实际值（观察值）与理论值（该理论值是指“两者确实独立”的情况下应该有的值）的偏离程度：如果偏差足够小，即可认为误差是很自然的样本误差，且两者确实是独立的，此时接受原假设；如果偏差大到一定程度，则认为两者实际是相关的，即否定原假设，接受备择假设。\n",
    "\n",
    "\n",
    "## 代码\n",
    "[decrypt_caesar_with_chi_squared.py]{..\\src\\ciphers\\decrypt_caesar_with_chi_squared.py}"
   ],
   "cell_type": "markdown",
   "metadata": {}
  },
  {
   "cell_type": "code",
   "execution_count": 1,
   "metadata": {},
   "outputs": [],
   "source": [
    "\"\"\"\n",
    "Prepare\n",
    "   1. sys.path 中增加 TheAlgorithms\\src 子模块\n",
    "\n",
    "\"\"\"\n",
    "import sys\n",
    "sys.path.append('E:\\dev\\AI\\TheAlgorithms\\src')\n"
   ]
  },
  {
   "source": [
    "## 案例一： \n",
    "encrypt 加密"
   ],
   "cell_type": "markdown",
   "metadata": {}
  },
  {
   "cell_type": "code",
   "execution_count": 5,
   "metadata": {},
   "outputs": [
    {
     "output_type": "error",
     "ename": "TypeError",
     "evalue": "'type' object is not subscriptable",
     "traceback": [
      "\u001b[1;31m---------------------------------------------------------------------------\u001b[0m",
      "\u001b[1;31mTypeError\u001b[0m                                 Traceback (most recent call last)",
      "\u001b[1;32m<ipython-input-5-0f0a816dbe37>\u001b[0m in \u001b[0;36m<module>\u001b[1;34m\u001b[0m\n\u001b[1;32m----> 1\u001b[1;33m \u001b[1;32mfrom\u001b[0m \u001b[0mciphers\u001b[0m\u001b[1;33m.\u001b[0m\u001b[0mdecrypt_caesar_with_chi_squared\u001b[0m \u001b[1;32mimport\u001b[0m \u001b[0mdecrypt_caesar_with_chi_squared\u001b[0m\u001b[1;33m\u001b[0m\u001b[1;33m\u001b[0m\u001b[0m\n\u001b[0m\u001b[0;32m      2\u001b[0m \"\"\"\n\u001b[0;32m      3\u001b[0m \u001b[1;33m\u001b[0m\u001b[0m\n\u001b[0;32m      4\u001b[0m \"\"\"\n\u001b[0;32m      5\u001b[0m cipher, value,decoded_cipher =decrypt_caesar_with_chi_squared(\n",
      "\u001b[1;32mE:\\dev\\AI\\TheAlgorithms\\src\\ciphers\\decrypt_caesar_with_chi_squared.py\u001b[0m in \u001b[0;36m<module>\u001b[1;34m\u001b[0m\n\u001b[0;32m     13\u001b[0m def decrypt_caesar_with_chi_squared(\n\u001b[0;32m     14\u001b[0m     \u001b[0mciphertext\u001b[0m\u001b[1;33m:\u001b[0m \u001b[0mstr\u001b[0m\u001b[1;33m,\u001b[0m\u001b[1;33m\u001b[0m\u001b[1;33m\u001b[0m\u001b[0m\n\u001b[1;32m---> 15\u001b[1;33m     \u001b[0mcipher_alphabet\u001b[0m\u001b[1;33m:\u001b[0m \u001b[0mlist\u001b[0m\u001b[1;33m[\u001b[0m\u001b[0mstr\u001b[0m\u001b[1;33m]\u001b[0m \u001b[1;33m=\u001b[0m \u001b[1;32mNone\u001b[0m\u001b[1;33m,\u001b[0m\u001b[1;33m\u001b[0m\u001b[1;33m\u001b[0m\u001b[0m\n\u001b[0m\u001b[0;32m     16\u001b[0m     \u001b[0mfrequencies_dict\u001b[0m\u001b[1;33m:\u001b[0m \u001b[0mdict\u001b[0m\u001b[1;33m[\u001b[0m\u001b[0mstr\u001b[0m\u001b[1;33m,\u001b[0m \u001b[0mfloat\u001b[0m\u001b[1;33m]\u001b[0m \u001b[1;33m=\u001b[0m \u001b[1;32mNone\u001b[0m\u001b[1;33m,\u001b[0m\u001b[1;33m\u001b[0m\u001b[1;33m\u001b[0m\u001b[0m\n\u001b[0;32m     17\u001b[0m     \u001b[0mcase_sensetive\u001b[0m\u001b[1;33m:\u001b[0m \u001b[0mbool\u001b[0m \u001b[1;33m=\u001b[0m \u001b[1;32mFalse\u001b[0m\u001b[1;33m,\u001b[0m\u001b[1;33m\u001b[0m\u001b[1;33m\u001b[0m\u001b[0m\n",
      "\u001b[1;31mTypeError\u001b[0m: 'type' object is not subscriptable"
     ]
    }
   ],
   "source": [
    "from ciphers.decrypt_caesar_with_chi_squared import decrypt_caesar_with_chi_squared\n",
    "\"\"\"\n",
    "    \n",
    "\"\"\"\n",
    "cipher, value,decoded_cipher =decrypt_caesar_with_chi_squared(\n",
    "    'dof pz aol jhlzhy jpwoly zv wvwbshy? pa pz avv lhzf av jyhjr!'\n",
    ")  # doctest: +NORMALIZE_WHITESPACE\n",
    "\n",
    "print(f'most_likely_cipher:{cipher}')\n",
    "print(f'most_likely_cipher_chi_squared_value:{value}')\n",
    "print(f'decoded_most_likely_cipher:{decoded_cipher}')\n",
    "'''\n",
    "    (7, 3129.228005747531,\n",
    "     'why is the caesar cipher so popular? it is too easy to crack!')\n",
    "\n",
    "    >>> decrypt_caesar_with_chi_squared('crybd cdbsxq')\n",
    "    (10, 233.35343938980898, 'short string')\n",
    "\n",
    "'''\n"
   ]
  },
  {
   "cell_type": "code",
   "execution_count": null,
   "metadata": {},
   "outputs": [],
   "source": []
  }
 ]
}