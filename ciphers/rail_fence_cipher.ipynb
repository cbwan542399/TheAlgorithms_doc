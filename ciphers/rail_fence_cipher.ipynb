{
 "metadata": {
  "language_info": {
   "codemirror_mode": {
    "name": "ipython",
    "version": 3
   },
   "file_extension": ".py",
   "mimetype": "text/x-python",
   "name": "python",
   "nbconvert_exporter": "python",
   "pygments_lexer": "ipython3",
   "version": "3.8.0"
  },
  "orig_nbformat": 2,
  "kernelspec": {
   "name": "python3",
   "display_name": "Python 3.8.0 64-bit ('myaivenv': venv)"
  },
  "metadata": {
   "interpreter": {
    "hash": "4570298ddf55f12d72b384cb5a92401407339203adac8a4a881fb11d70b7d0b5"
   }
  },
  "interpreter": {
   "hash": "4570298ddf55f12d72b384cb5a92401407339203adac8a4a881fb11d70b7d0b5"
  }
 },
 "nbformat": 4,
 "nbformat_minor": 2,
 "cells": [
  {
   "source": [
    "# Rail_fence_cipher 栅栏密码\n",
    "\n",
    "所谓栅栏密码，就是把要加密的明文分成N个一组，然后把每组的第1个字连起来，形成一段无规律的话。 不过栅栏密码本身有一个潜规则，就是组成栅栏的字母一般不会太多。（一般不超过30个，也就是一、两句话）<br>\n",
    "\n",
    "\n",
    "## 加 密 原 理\n",
    "当加密为两组时，把将要传递的信息中的字母交替排成上下两行。<br>\n",
    "再将下面一行字母排在上面一行的后边，从而形成一段密码。<br>\n",
    "例如：<br>\n",
    "- 加密明文。<br>\n",
    "ALL LIFE IS A GAME OF LUCK <br>\n",
    "当加密为两组时，将句子从上往下交替写成两行，也就是第一 三 五等奇数个字母作为第一组，第二四六作为第二组。<br>\n",
    "ALIESGMOLC <br>\n",
    "LLFIAAEFUK <br>\n",
    "再将第一组放在第二组前 <br>\n",
    "ALIESGMOLCLLFIAAEFUK <br>\n",
    "加密完成。<br>\n",
    "\n",
    "在实际应用当中可以将该加密方式分成更多组，或者与其他加密方式组合使用。<br>\n",
    "\n",
    "- 解 密 <br>\n",
    "第一步将密文按组分开。当密文字母个数为奇数个时，第一组比第二组多一个。<br>\n",
    "第二步自上向下读出。<br>\n",
    "举例：<br>\n",
    "密文：TMKECDYONOAEAHACUT <br>\n",
    "密文字母个数为18，第一组9个字母，第二组9个字母。<br>\n",
    "TMKECDYON <br>\n",
    "OAEAHACUT <br>\n",
    "自上向下读出 <br>\n",
    "TOMAKEEACHDAYCOUNT <br>\n",
    "得明文 <br>\n",
    "TO MAKE EACH DAY COUNT<br>\n",
    "练 习\n",
    "密文: TMROIAOHRAOORWSNTEDY\n",
    "\n",
    "\n",
    "\n",
    "\n",
    "\n",
    "\n",
    "\n",
    "\n",
    "## 代码\n",
    "[rail_fence_cipher.py]{..\\src\\ciphers\\rail_fence_cipher.py}\n"
   ],
   "cell_type": "markdown",
   "metadata": {}
  },
  {
   "cell_type": "code",
   "execution_count": 2,
   "metadata": {},
   "outputs": [],
   "source": [
    "\"\"\"\n",
    "Prepare\n",
    "   1. sys.path 中增加 TheAlgorithms\\src 子模块\n",
    "\n",
    "\"\"\"\n",
    "import sys\n",
    "sys.path.append('E:\\dev\\AI\\TheAlgorithms\\src')\n"
   ]
  },
  {
   "source": [
    "## 案例一：\n",
    "- encrypt <br>\n",
    "通过放置字符串的每个字符来打乱字符串的字符  \n",
    "在一个锯齿形的网格中(高度取决于键)  \n",
    "从左到右阅读。  \n",
    "```\n",
    "encrypt(\n",
    "    input_string: str,\n",
    "    key: int)\n",
    "    -> str:\n",
    "```\n",
    "- decrypt <br>\n",
    "根据密钥生成模板并将其填充  \n",
    "输入字符串的字符，然后读入  \n",
    "一个锯齿形的形成。  \n",
    "```\n",
    "decrypt(\n",
    "    input_string: str,\n",
    "    key: int) \n",
    "    -> str:\n",
    "```\n",
    "- bruteforce\n",
    "  通过猜测每个密钥使用解密函数\n",
    "```\n",
    "bruteforce(\n",
    "    input_string: str) \n",
    "    -> dict[int, str]\n",
    "```"
   ],
   "cell_type": "markdown",
   "metadata": {}
  },
  {
   "cell_type": "code",
   "execution_count": 6,
   "metadata": {},
   "outputs": [
    {
     "output_type": "stream",
     "name": "stdout",
     "text": [
      "HWe olordll\nHello World\n"
     ]
    },
    {
     "output_type": "execute_result",
     "data": {
      "text/plain": [
       "'\\n Uses decrypt function by guessing every key\\n'"
      ]
     },
     "metadata": {},
     "execution_count": 6
    }
   ],
   "source": [
    "from ciphers.rail_fence_cipher import encrypt,decrypt\n",
    "# ,bruteforce\n",
    "\"\"\"\n",
    "\"\"\"\n",
    "print(encrypt(\"Hello World\", 4))   #  'HWe olordll'\n",
    "\n",
    "print(decrypt(\"HWe olordll\", 4))   #  'Hello World'\n",
    "\n",
    "\"\"\"\n",
    " Uses decrypt function by guessing every key\n",
    "\"\"\"\n",
    "\n",
    "# print(bruteforce(\"HWe olordll\")[4]) #    'Hello World'\n",
    "\n",
    "\n",
    "\n",
    "\n",
    "    "
   ]
  },
  {
   "cell_type": "code",
   "execution_count": null,
   "metadata": {},
   "outputs": [],
   "source": []
  },
  {
   "cell_type": "code",
   "execution_count": null,
   "metadata": {},
   "outputs": [],
   "source": []
  }
 ]
}