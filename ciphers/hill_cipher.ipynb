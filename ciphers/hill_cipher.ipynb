{
 "metadata": {
  "language_info": {
   "codemirror_mode": {
    "name": "ipython",
    "version": 3
   },
   "file_extension": ".py",
   "mimetype": "text/x-python",
   "name": "python",
   "nbconvert_exporter": "python",
   "pygments_lexer": "ipython3",
   "version": "3.8.0"
  },
  "orig_nbformat": 2,
  "kernelspec": {
   "name": "python3",
   "display_name": "Python 3.8.0 64-bit ('myaivenv': venv)"
  },
  "metadata": {
   "interpreter": {
    "hash": "4570298ddf55f12d72b384cb5a92401407339203adac8a4a881fb11d70b7d0b5"
   }
  },
  "interpreter": {
   "hash": "4570298ddf55f12d72b384cb5a92401407339203adac8a4a881fb11d70b7d0b5"
  }
 },
 "nbformat": 4,
 "nbformat_minor": 2,
 "cells": [
  {
   "source": [
    "# hill_cipher 希尔密码\n",
    "\n",
    "## 简介\n",
    "希尔密码（Hill Cipher）是运用基本矩阵论原理的替换密码，由Lester S. Hill在1929年发明。<br>\n",
    "每个字母当作 $ 26 $进制数字：$ A=0, B=1, C=2,\\cdots $ 一串字母当成 $ n $ 维向量，跟一个 $ n \\times n $ 的矩阵相乘，再将得出的结果模 $ 26 $ 。<br>\n",
    "注意用作加密的矩阵（即密匙）在 必须是可逆的，否则就不可能解码。只有矩阵的行列式和 $ 26 $互质，才是可逆的。<br>\n",
    "## 产生原因\n",
    "随着科技的日新月异和人们对信用卡、计算机的依赖性的加强，密码学显得愈来愈重要。密码学是一门关于加密和解密、密文和明文的学科。若将原本的符号代换成另一种符号，即可称之为广义的密码。狭义的密码主要是为了保密，是一种防止窃文者得知内容而设的另一种符号文字，也是一般人所熟知的密码。<br>\n",
    "使用信用卡、网络账号及密码、电子信箱、电子签名等都需要密码。为了方便记忆，许多人用生日、电话号码、门牌号码记做密码，但是这样安全性较差。<br>\n",
    "为了使密码更加复杂，更难解密，产生了许多不同形式的密码。密码的函数特性是明文对密码为一对一或一对多的关系，即明文是密码的函数。传统密码中有一种叫移位法，移位法基本型态是加法加密系统 $ C=P+s{(mod \\quad m)} $。一般来说，我们以 $ 1 $ 表示$ A $，$ 2 $ 表示$ B $，……，$ 25 $ 表示 $ Y $ ，$ 26 $ 表示 $ Z $，以此类推。由于 $ s=0 $ 时相当于未加密，而$ 0≤s≤m-1 $ （$ s≥m $ 都可用 $ 0≤s≤m-1 $ 取代），因此，整个系统只有 $ m-1 $ 种变化。换言之，只要试过 $ m-1 $ 次，机密的信息就会泄漏出去。<br>\n",
    "由此看来，日常生活中的密码和传统的密码的可靠性较差，我们有必要寻求一种容易将字母的自然频度隐蔽或均匀化，从而有利于统计分析的安全可靠的加密方法。希尔密码能基本满足这一要求。\n",
    "## 原理\n",
    "希尔加密算法的基本思想是，将 $ d $ 个明文字母通过线性变换将它们转换为 $ d $ 个密文字母。解密只要作一次逆变换就可以了，密钥就是变换矩阵本身。\n",
    "希尔密码是多字母代换密码的一种。多字母代换密码可以利用矩阵变换方便地描述，有时又称为矩阵变换密码。<br>\n",
    "令明文字母表为 $ Z $ ，若采用 $ L $ 个字母为单位进行代换，则多码代换是映射$ f：Z→Z $ 。<br>\n",
    "若映射是线性的，则$ f $ 是线性变换，可以用$ Z $ 上的$ L×L $ 矩阵$ K $ 表示。<br>\n",
    "若是满秩的，则变换为一一映射，且存在有逆变换 $ K $ 。<br>\n",
    "将$ L $ 个字母的数字表示为$ Z $ 上的$ L $ 维矢量 $ m $ ，<br>\n",
    "相应的密文矢量 $ c $，且 $ m \\times K = c $ ，<br>\n",
    "以 $ K^{-1} $ 作为解密矩阵，可由 $ c $ 恢复出相应的明文 $ c \\times K^{-1} = m $。\n",
    "在军事通讯中，常将字符（信息）与数字对应（为方便起见，我们将字符和数字按原有的顺序对应，事实上这种对应规则是极易被破解的）：\n",
    "$$ a \\quad b \\quad c \\quad d \\quad e \\cdots \\quad x \\quad y \\quad z $$\n",
    "$$ 1 \\quad 2 \\quad 3 \\quad 4 \\quad 5  \\cdots \\quad 24 \\quad 25 \\quad 26 $$\n",
    "如信息“NOSLEEPPING”对应着一组编码 $ 14,15,19,12,5,5,16,16,9,14,7 $。<br>\n",
    "但如果按这种方式直接传输出去，则很容易被敌方破译。\n",
    "于是必须采取加密措施，即用一个约定的加密矩阵 $ K $ 乘以原信号 $ B $ ，传输信号为 $ C=K \\times B $（加密），收到信号的一方再将信号还原（破译）为 $ B=K^{-1} \\times C $ 。如果敌方不知道加密矩阵，则很难破译。<br>\n",
    "## 加密\n",
    "第一步，设定加密矩阵为 \n",
    " $\n",
    "   \\begin{bmatrix}\n",
    "       1 & 1 & 2 \\\\\n",
    "       -1 & 2 & 0 \\\\\n",
    "       2 & 1 & 3 \n",
    "   \\end{bmatrix}\n",
    " $,<br> \n",
    "\n",
    " 即在希尔密码中设 $ q=26，L=3 $ ，<br>\n",
    "选取满秩 $ 3×3 $ 阶可逆矩阵。\n",
    "我们之所以取 $ 3×3 $ 可逆方阵，也是为了计算方便，相应的安全性就要低一些。<br>\n",
    "\n",
    "第二步，将信息 $ 14，15，19，12，5，5，16，16，9，14，7 $ ,<br>\n",
    "\n",
    "分为4个列矩阵：$ X_1=14 \\quad 15 \\quad 19，X_2=12 \\quad 5 \\quad 5，X_3=16 \\quad 16 \\quad 9，X_4=14 \\quad 7 \\quad 0 $ ，<br>\n",
    "其中X中的 $ “0” $ 是虚设的，其目的是为了与列矩阵的行数一致。列矩阵的行数3和个数 $4$ 完全依赖于加密后的信息所对应的数字的多少和加密矩阵阶数决定。<br>\n",
    "\n",
    "第三步，将信息加密。进行矩阵的乘法运算：<br>\n",
    "$$ \n",
    "  Y_1=K \\times X_1\n",
    "   =\\begin{bmatrix}\n",
    "        1 & 1 & 2 \\\\\n",
    "        -1 & 2 & 0 \\\\\n",
    "        2 & 1 & 3 \n",
    "     \\end{bmatrix}\n",
    "   \\times\n",
    "   \\begin{bmatrix}\n",
    "        14  \\\\\n",
    "        15  \\\\\n",
    "        19\n",
    "    \\end{bmatrix}\n",
    "   =\\begin{bmatrix}\n",
    "        67  \\\\\n",
    "        16  \\\\\n",
    "        100\n",
    "    \\end{bmatrix}\n",
    "$$\n",
    "$$ \n",
    "  Y_2=K \\times X_2\n",
    "   =\\begin{bmatrix}\n",
    "        1 & 1 & 2 \\\\\n",
    "        -1 & 2 & 0 \\\\\n",
    "        2 & 1 & 3 \n",
    "     \\end{bmatrix}\n",
    "   \\times\n",
    "   \\begin{bmatrix}\n",
    "        12  \\\\\n",
    "        5  \\\\\n",
    "        5\n",
    "    \\end{bmatrix}\n",
    "   =\\begin{bmatrix}\n",
    "        27  \\\\\n",
    "        -2  \\\\\n",
    "        44\n",
    "    \\end{bmatrix}\n",
    "$$\n",
    "$$ \n",
    "  Y_3=K \\times X_3\n",
    "   =\\begin{bmatrix}\n",
    "        1 & 1 & 2 \\\\\n",
    "        -1 & 2 & 0 \\\\\n",
    "        2 & 1 & 3 \n",
    "     \\end{bmatrix}\n",
    "   \\times\n",
    "   \\begin{bmatrix}\n",
    "        16  \\\\\n",
    "        16  \\\\\n",
    "        9\n",
    "    \\end{bmatrix}\n",
    "   =\\begin{bmatrix}\n",
    "        50  \\\\\n",
    "        16  \\\\\n",
    "        75\n",
    "    \\end{bmatrix}\n",
    "$$\n",
    "$$ \n",
    "  Y_4=K \\times X_4\n",
    "   =\\begin{bmatrix}\n",
    "        1 & 1 & 2 \\\\\n",
    "        -1 & 2 & 0 \\\\\n",
    "        2 & 1 & 3 \n",
    "     \\end{bmatrix}\n",
    "   \\times\n",
    "   \\begin{bmatrix}\n",
    "        14  \\\\\n",
    "        7  \\\\\n",
    "        0\n",
    "    \\end{bmatrix}\n",
    "   =\\begin{bmatrix}\n",
    "        21  \\\\\n",
    "        0  \\\\\n",
    "        35\n",
    "    \\end{bmatrix}\n",
    "$$\n",
    "加密后的新码为 $ 67,16,100,27,-2,44,50,16,75,21,0 $ 。<br>\n",
    "\n",
    "$ Y $中的 $ 35 $ 虽然是多余的信息，但要连同密码一起发给对方，对方在破解密码时要参与计算。\n",
    "## 解密\n",
    "第一步，求密匙矩阵K的逆矩阵。K可用Mathematica计算。即 \n",
    " $ K^{(-1)} =\n",
    "   \\begin{bmatrix}\n",
    "       -6 & 1 & 4 \\\\\n",
    "       -3 & 1 & 2 \\\\\n",
    "       5 & -1 & -3 \n",
    "   \\end{bmatrix}\n",
    "    $ .\n",
    "\n",
    "第二步，再次进行矩阵乘法运算：\n",
    "$$ \n",
    "  X_1=K^{(-1)} \\times Y_1\n",
    "   =\\begin{bmatrix}\n",
    "       -6 & 1 & 4 \\\\\n",
    "       -3 & 1 & 2 \\\\\n",
    "       5 & -1 & -3 \n",
    "    \\end{bmatrix}\n",
    "   \\times\n",
    "   \\begin{bmatrix}\n",
    "        67  \\\\\n",
    "        16  \\\\\n",
    "        100\n",
    "    \\end{bmatrix}\n",
    "   =\\begin{bmatrix}\n",
    "        14  \\\\\n",
    "        15  \\\\\n",
    "        19\n",
    "    \\end{bmatrix}\n",
    "$$\n",
    "$$ \n",
    "  X_2=K^{(-1)} \\times Y_2\n",
    "   =\\begin{bmatrix}\n",
    "       -6 & 1 & 4 \\\\\n",
    "       -3 & 1 & 2 \\\\\n",
    "       5 & -1 & -3 \n",
    "    \\end{bmatrix}\n",
    "   \\times\n",
    "   \\begin{bmatrix}\n",
    "        27  \\\\\n",
    "        -2  \\\\\n",
    "        44\n",
    "    \\end{bmatrix}\n",
    "  =   \\begin{bmatrix}\n",
    "        12  \\\\\n",
    "        5  \\\\\n",
    "        5\n",
    "    \\end{bmatrix}\n",
    "$$\n",
    "$$ \n",
    "  X_3=K^{(-1)} \\times Y_3\n",
    "   =\\begin{bmatrix}\n",
    "       -6 & 1 & 4 \\\\\n",
    "       -3 & 1 & 2 \\\\\n",
    "       5 & -1 & -3 \n",
    "    \\end{bmatrix}\n",
    "   \\times\n",
    "   \\begin{bmatrix}\n",
    "        50  \\\\\n",
    "        16  \\\\\n",
    "        75\n",
    "    \\end{bmatrix}\n",
    "  =\\begin{bmatrix}\n",
    "        16  \\\\\n",
    "        16  \\\\\n",
    "        9\n",
    "    \\end{bmatrix}\n",
    "$$\n",
    "$$ \n",
    "  X_4=K^{(-1)} \\times Y_4\n",
    "   =\\begin{bmatrix}\n",
    "       -6 & 1 & 4 \\\\\n",
    "       -3 & 1 & 2 \\\\\n",
    "       5 & -1 & -3 \n",
    "    \\end{bmatrix}\n",
    "   \\times\n",
    "    \\begin{bmatrix}\n",
    "        21  \\\\\n",
    "        0  \\\\\n",
    "        35\n",
    "    \\end{bmatrix}\n",
    "    =   \\begin{bmatrix}\n",
    "        14  \\\\\n",
    "        7  \\\\\n",
    "        0\n",
    "    \\end{bmatrix}\n",
    "$$\n",
    "   这样原来的信息编码为 $ 14,15,19,12,5,5,16,16,9,14,7 $。<br>\n",
    "\n",
    "第三步，对照编码表，即可获得对方发来的信息内容为“NOSLEEPPING”。<br>\n",
    "\n",
    "## 安全性分析\n",
    "不难看出，希尔密码算法中有两个非常重要的条件。第一个条件是字符（信息）与数字对应表，当加密矩阵的阶数 $ n $（本文实例中的加密矩阵的阶数n=3）越大，破译的难度就会增大，此时计算量也大，我们可以借助有关数学软件如Mathematica提高运算效率。第二个条件是加密矩阵，如何定义、求解这个矩阵对于密码的加密和破译至关重要。  \n",
    "从破译密码的角度来看，传统的密码有一个致命弱点，就是破译者可从统计出来的字符频率中找到规律，进而找出破译的突破口，尤其是在计算机技术高度发达的今天，破译的速度更快。希尔密码算法则完全克服了这一缺陷，它通过采用线性代数中的矩阵乘法运算和逆运算，能够较好地抵抗频率分析，很难被攻破。\n",
    "希尔密码体系为破译者至少设置了三道关口，加大了破译难度。破译希尔密码的关键是猜测文字被转换成几维向量（列矩阵的行数）、所对应的字母表是怎样排列的，更为重要的是要设法获取加密矩阵A。要破解密码，向量的维数、字母的排列表和加密矩阵三者缺一不可。古今中外的谍报战中，敌对双方总是千方百计地获取破解对方密码的钥匙，但要想获取希尔密码的三把钥匙谈何容易。\n",
    "世界上没有攻不破的密码，希尔密码也不例外。希尔密码算法的缺点在于线性变换的安全性很脆弱，易被攻击击破，黑客正是利用各种密码的弱点来向用户频频发起攻击的。尽管如此，希尔密码仍不失为一种简便高效的密码。\n",
    "\n",
    "\n",
    "## 代码\n",
    "[hill_cipher.py]{..\\src\\ciphers\\hill_cipher.py}\n"
   ],
   "cell_type": "markdown",
   "metadata": {}
  },
  {
   "source": [
    "## 范例一：求解示例中逆矩阵及加解密\n",
    "\n",
    "```\n",
    "numpy.linalg.inv() 函数计算矩阵的乘法逆矩阵。\n",
    "```"
   ],
   "cell_type": "markdown",
   "metadata": {}
  },
  {
   "cell_type": "code",
   "execution_count": 1,
   "metadata": {},
   "outputs": [
    {
     "output_type": "stream",
     "name": "stdout",
     "text": [
      "K_0 = : [[ 1  1  2]\n [-1  2  0]\n [ 2  1  3]]\nk_1 = : [[-6.  1.  4.]\n [-3.  1.  2.]\n [ 5. -1. -3.]]\nk_0 * k_1 = : [[ 1.00000000e+00  4.44089210e-16  8.88178420e-16]\n [ 0.00000000e+00  1.00000000e+00  0.00000000e+00]\n [-8.88178420e-16  2.22044605e-16  1.00000000e+00]]\nx1: = [14, 15, 19]\nx2: = [12, 5, 5]\nx3: = [16, 16, 9]\nx4: = [14, 7, 0]\ny1 = Kx1 = k_0 * X1 :=  [ 67  16 100] \ny2 = Kx2 = k_0 * X2 :=  [27 -2 44] \ny3 = Kx3 = k_0 * X3 :=  [50 16 75] \ny4 = Kx4 = K_0 * X4 :=  [21  0 35] \nx1 = k(-1) * y1 = k_1 * y1 = [14. 15. 19.]\nx2 = k(-1) * y2 = k_1 * y2 = [12.  5.  5.]\nx3 = k(-1) * y3 = k_1 * y3 = [16. 16.  9.]\nx4 = k(-1) * y4 = k_1 * y4 = [14.  7.  0.]\n"
     ]
    }
   ],
   "source": [
    "import numpy as np \n",
    "\n",
    "k_0 = np.array([[1,1,2],[-1,2,0],[2,1,3]]) \n",
    "k_1 = np.linalg.inv(k_0) # numpy.linalg.inv() 函数计算矩阵的乘法逆矩阵。\n",
    "print (f\"K_0 = : {k_0}\")\n",
    "print (f\"k_1 = : {k_1}\")\n",
    "print (f\"k_0 * k_1 = : {np.dot(k_0,k_1)}\")\n",
    "x1 =[14,15,19]\n",
    "x2 = [12,5,5]\n",
    "x3 = [16,16,9]\n",
    "x4 = [14,7,0]\n",
    "# numpy.matmul\n",
    "# numpy.matmul 函数返回两个数组的矩阵乘积\n",
    "\n",
    "y1 = np.dot(k_0,x1)\n",
    "y2 = np.dot(k_0,x2)\n",
    "y3 = np.dot(k_0,x3)\n",
    "y4 = np.dot(k_0,x4)\n",
    "\n",
    "print(f\"x1: = {x1}\")\n",
    "print(f\"x2: = {x2}\")\n",
    "print(f\"x3: = {x3}\")\n",
    "print(f\"x4: = {x4}\")\n",
    "\n",
    "print(f\"y1 = Kx1 = k_0 * X1 :=  {y1} \")\n",
    "print(f\"y2 = Kx2 = k_0 * X2 :=  {y2} \")\n",
    "print(f\"y3 = Kx3 = k_0 * X3 :=  {y3} \")\n",
    "print(f\"y4 = Kx4 = K_0 * X4 :=  {y4} \")\n",
    "\n",
    "print(f\"x1 = k(-1) * y1 = k_1 * y1 = {np.dot(k_1,y1)}\")\n",
    "print(f\"x2 = k(-1) * y2 = k_1 * y2 = {np.dot(k_1,y2)}\")\n",
    "print(f\"x3 = k(-1) * y3 = k_1 * y3 = {np.dot(k_1,y3)}\")\n",
    "print(f\"x4 = k(-1) * y4 = k_1 * y4 = {np.dot(k_1,y4)}\")\n",
    "\n",
    "\n"
   ]
  },
  {
   "cell_type": "code",
   "execution_count": 2,
   "metadata": {},
   "outputs": [],
   "source": [
    "\"\"\"\n",
    "Prepare\n",
    "   1. sys.path 中增加 TheAlgorithms\\src 子模块\n",
    "\n",
    "\"\"\"\n",
    "import sys\n",
    "sys.path.append('E:\\dev\\AI\\TheAlgorithms\\src')\n"
   ]
  },
  {
   "source": [
    "## 基础公用\n",
    "class HillCipher  约束\n",
    "```\n",
    "key_string = string.ascii_uppercase + string.digits\n",
    "# This cipher takes alphanumerics into account\n",
    "# i.e. a total of 36 characters\n",
    "\n",
    "# take x and return x % len(key_string)\n",
    "modulus = numpy.vectorize(lambda x: x % 36)\n",
    "\n",
    "to_int = numpy.vectorize(lambda x: round(x))\n",
    "    \n",
    "```\n",
    "class HillCipher:\n",
    "```\n",
    "   def __init__(self, encrypt_key: numpy.ndarray) -> None:\n",
    "   def replace_letters(self, letter: str) -> int:\n",
    "   def replace_digits(self, num: int) -> str:\n",
    "   def encrypt(self, text: str) -> str:\n",
    "   def make_decrypt_key(self) -> numpy.ndarray:\n",
    "   def decrypt(self, text: str) -> str:\n",
    "```  "
   ],
   "cell_type": "markdown",
   "metadata": {}
  },
  {
   "cell_type": "code",
   "execution_count": 3,
   "metadata": {},
   "outputs": [
    {
     "output_type": "execute_result",
     "data": {
      "text/plain": [
       "'\\n    def __init__(self, encrypt_key: numpy.ndarray) -> None:\\n        \"\"\"\\n        encrypt_key is an NxN numpy array\\n        \"\"\"\\n        self.encrypt_key = self.modulus(encrypt_key)  # mod36 calc\\'s on the encrypt key\\n        self.check_determinant()  # validate the determinant of the encryption key\\n        self.break_key = encrypt_key.shape[0]\\n'"
      ]
     },
     "metadata": {},
     "execution_count": 3
    }
   ],
   "source": [
    "from ciphers.hill_cipher import HillCipher\n",
    "import string\n",
    "import numpy\n",
    "\n",
    "\"\"\"\n",
    "\"\"\"\n",
    "\n",
    "hill_cipher = HillCipher(numpy.array([[2, 5], [1, 6]]))\n",
    "'''\n",
    "    def __init__(self, encrypt_key: numpy.ndarray) -> None:\n",
    "        \"\"\"\n",
    "        encrypt_key is an NxN numpy array\n",
    "        \"\"\"\n",
    "        self.encrypt_key = self.modulus(encrypt_key)  # mod36 calc's on the encrypt key\n",
    "        self.check_determinant()  # validate the determinant of the encryption key\n",
    "        self.break_key = encrypt_key.shape[0]\n",
    "'''\n"
   ]
  },
  {
   "source": [
    "案例一：hill_cipher.replace_letters 方法"
   ],
   "cell_type": "markdown",
   "metadata": {}
  },
  {
   "cell_type": "code",
   "execution_count": 4,
   "metadata": {},
   "outputs": [
    {
     "output_type": "stream",
     "name": "stdout",
     "text": [
      "19\n26\n"
     ]
    }
   ],
   "source": [
    "\"\"\"\n",
    "\"\"\"\n",
    "print(hill_cipher.replace_letters('T')) #        19\n",
    "print(hill_cipher.replace_letters('0')) #        26\n"
   ]
  },
  {
   "source": [
    "## 案例二  replace_digits 方法"
   ],
   "cell_type": "markdown",
   "metadata": {}
  },
  {
   "cell_type": "code",
   "execution_count": 5,
   "metadata": {},
   "outputs": [
    {
     "output_type": "stream",
     "name": "stdout",
     "text": [
      "T\n0\n"
     ]
    }
   ],
   "source": [
    "print(hill_cipher.replace_digits(19))  #  'T'\n",
    "print(hill_cipher.replace_digits(26))  # '0'\n",
    "       "
   ]
  },
  {
   "source": [
    "## 案例三： encrypt(self, text: str) -> str: 方法\n"
   ],
   "cell_type": "markdown",
   "metadata": {}
  },
  {
   "cell_type": "code",
   "execution_count": 6,
   "metadata": {},
   "outputs": [
    {
     "output_type": "stream",
     "name": "stdout",
     "text": [
      "WHXYJOLM9C6XT085LL\n85FF00\n"
     ]
    }
   ],
   "source": [
    "print(hill_cipher.encrypt('testing hill cipher')) #       'WHXYJOLM9C6XT085LL'\n",
    "print(hill_cipher.encrypt('hello')) #        '85FF00'"
   ]
  },
  {
   "source": [
    "## 案例四   def make_decrypt_key(self) -> numpy.ndarray:方法"
   ],
   "cell_type": "markdown",
   "metadata": {}
  },
  {
   "cell_type": "code",
   "execution_count": 7,
   "metadata": {},
   "outputs": [
    {
     "output_type": "stream",
     "name": "stdout",
     "text": [
      "[[ 6 25]\n [ 5 26]]\n"
     ]
    },
    {
     "output_type": "execute_result",
     "data": {
      "text/plain": [
       "'\\nhill_cipher = HillCipher(numpy.array([[6,25,1], [5,26]]))\\nprint(hill_cipher.make_decrypt_key())\\n\\nhill_cipher = HillCipher(numpy.array([[6,24,1], [13,16 ,10],[20,17,15]]))\\nprint(hill_cipher.make_decrypt_key())\\n\\nhill_cipher = HillCipher(numpy.array([[1,1,2], [-1,2 ,0],[2,1,3]]))\\nprint(hill_cipher.make_decrypt_key())\\n'"
      ]
     },
     "metadata": {},
     "execution_count": 7
    }
   ],
   "source": [
    "print(hill_cipher.make_decrypt_key())\n",
    "'''\n",
    "        array([[ 6, 25],\n",
    "               [ 5, 26]])\n",
    "'''\n",
    "'''\n",
    "hill_cipher = HillCipher(numpy.array([[6,25,1], [5,26]]))\n",
    "print(hill_cipher.make_decrypt_key())\n",
    "\n",
    "hill_cipher = HillCipher(numpy.array([[6,24,1], [13,16 ,10],[20,17,15]]))\n",
    "print(hill_cipher.make_decrypt_key())\n",
    "\n",
    "hill_cipher = HillCipher(numpy.array([[1,1,2], [-1,2 ,0],[2,1,3]]))\n",
    "print(hill_cipher.make_decrypt_key())\n",
    "'''\n",
    "\n"
   ]
  },
  {
   "source": [
    "## 案例五： decrypt(self, text: str) -> str 方法\n",
    "    "
   ],
   "cell_type": "markdown",
   "metadata": {}
  },
  {
   "cell_type": "code",
   "execution_count": 8,
   "metadata": {},
   "outputs": [
    {
     "output_type": "stream",
     "name": "stdout",
     "text": [
      "TESTINGHILLCIPHERR\nHELLOO\n"
     ]
    }
   ],
   "source": [
    "print(hill_cipher.decrypt('WHXYJOLM9C6XT085LL')) # 'TESTINGHILLCIPHERR'\n",
    "print(hill_cipher.decrypt('85FF00')) #        'HELLOO'"
   ]
  },
  {
   "cell_type": "code",
   "execution_count": null,
   "metadata": {},
   "outputs": [],
   "source": []
  }
 ]
}