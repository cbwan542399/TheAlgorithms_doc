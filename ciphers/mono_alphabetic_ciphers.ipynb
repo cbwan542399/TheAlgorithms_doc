{
 "metadata": {
  "language_info": {
   "codemirror_mode": {
    "name": "ipython",
    "version": 3
   },
   "file_extension": ".py",
   "mimetype": "text/x-python",
   "name": "python",
   "nbconvert_exporter": "python",
   "pygments_lexer": "ipython3",
   "version": "3.8.0"
  },
  "orig_nbformat": 2,
  "kernelspec": {
   "name": "python3",
   "display_name": "Python 3.8.0 64-bit ('myaivenv': venv)"
  },
  "metadata": {
   "interpreter": {
    "hash": "4570298ddf55f12d72b384cb5a92401407339203adac8a4a881fb11d70b7d0b5"
   }
  },
  "interpreter": {
   "hash": "4570298ddf55f12d72b384cb5a92401407339203adac8a4a881fb11d70b7d0b5"
  }
 },
 "nbformat": 4,
 "nbformat_minor": 2,
 "cells": [
  {
   "source": [
    "# mono_alphabetic_ciphers 单字母密码\n",
    "\n",
    "定义\n",
    "在网络上传送报文的过程中使用的一种简单的加密机制。它把明文中的一个字母总是用另一个字母替换\n",
    "\n",
    "## 代码\n",
    "[mono_alphabetic_ciphers.py]{..\\src\\ciphers\\mono_alphabetic_ciphers.py}\n"
   ],
   "cell_type": "markdown",
   "metadata": {}
  },
  {
   "cell_type": "code",
   "execution_count": 7,
   "metadata": {},
   "outputs": [],
   "source": [
    "\"\"\"\n",
    "Prepare\n",
    "   1. sys.path 中增加 TheAlgorithms\\src 子模块\n",
    "\n",
    "\"\"\"\n",
    "import sys\n",
    "sys.path.append('E:\\dev\\AI\\TheAlgorithms\\src')\n"
   ]
  },
  {
   "source": [
    "## 案例一：\n",
    "\n",
    "约束，设置只处理26个大写字母\n",
    "```\n",
    "LETTERS = \"ABCDEFGHIJKLMNOPQRSTUVWXYZ\"\n",
    "```\n"
   ],
   "cell_type": "markdown",
   "metadata": {}
  },
  {
   "cell_type": "code",
   "execution_count": 8,
   "metadata": {},
   "outputs": [
    {
     "output_type": "stream",
     "name": "stdout",
     "text": [
      "Using the key : QWERTYUIOPASDFGHJKLZXCVBNM\nthe message is: Hello World,the encrypt_message is: Pcssi Bidsm\nthe crypt message is: Pcssi Bidsm,the decrypt_message is: Hello World\n"
     ]
    }
   ],
   "source": [
    "from ciphers.mono_alphabetic_ciphers import encrypt_message,decrypt_message\n",
    "\"\"\"\n",
    "\"\"\"\n",
    "\n",
    "key = \"QWERTYUIOPASDFGHJKLZXCVBNM\"\n",
    "message = \"Hello World\"\n",
    "cipper  = encrypt_message(key, message)\n",
    "print(f\"Using the key : {key}\")\n",
    "print(f\"the message is: {message},the encrypt_message is: {cipper}\")\n",
    "print(f\"the crypt message is: {cipper},the decrypt_message is: {decrypt_message(key, cipper)}\")\n",
    "    \n"
   ]
  }
 ]
}