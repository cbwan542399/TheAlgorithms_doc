{
 "metadata": {
  "language_info": {
   "codemirror_mode": {
    "name": "ipython",
    "version": 3
   },
   "file_extension": ".py",
   "mimetype": "text/x-python",
   "name": "python",
   "nbconvert_exporter": "python",
   "pygments_lexer": "ipython3",
   "version": "3.8.0"
  },
  "orig_nbformat": 2,
  "kernelspec": {
   "name": "python3",
   "display_name": "Python 3.8.0 64-bit ('myaivenv': venv)"
  },
  "metadata": {
   "interpreter": {
    "hash": "4570298ddf55f12d72b384cb5a92401407339203adac8a4a881fb11d70b7d0b5"
   }
  },
  "interpreter": {
   "hash": "4570298ddf55f12d72b384cb5a92401407339203adac8a4a881fb11d70b7d0b5"
  }
 },
 "nbformat": 4,
 "nbformat_minor": 2,
 "cells": [
  {
   "source": [
    "# mixed_keyword_cypher 混杂关键字加密\n",
    "\n",
    "mixed_keyword_cypher 混杂关键字加密，即利用一个关键字，代替其顺序的 A,B,C,..., 再取A,B,C 顺序未替代的部分进行转换。\n",
    "如： key:hello\n",
    "其 A,B,C,...,X,Y,Z 26个字母替代顺序为\n",
    "```\n",
    "    H E L O\n",
    "    A B C D\n",
    "    F G I J\n",
    "    K M N P\n",
    "    Q R S T\n",
    "    U V W X\n",
    "    Y Z\n",
    "    and map vertically\n",
    "```\n",
    "## 代码\n",
    "[mixed_keyword_cypher.py]{..\\src\\ciphers\\mixed_keyword_cypher.py}\n"
   ],
   "cell_type": "markdown",
   "metadata": {}
  },
  {
   "cell_type": "code",
   "execution_count": 8,
   "metadata": {},
   "outputs": [],
   "source": [
    "\"\"\"\n",
    "Prepare\n",
    "   1. sys.path 中增加 TheAlgorithms\\src 子模块\n",
    "\n",
    "\"\"\"\n",
    "import sys\n",
    "sys.path.append('E:\\dev\\AI\\TheAlgorithms\\src')\n"
   ]
  },
  {
   "source": [
    "## 案例一：\n"
   ],
   "cell_type": "markdown",
   "metadata": {}
  },
  {
   "cell_type": "code",
   "execution_count": 10,
   "metadata": {},
   "outputs": [
    {
     "output_type": "stream",
     "name": "stdout",
     "text": [
      "temp:['C', 'O', 'L', 'E', 'G']\ntemp:['C', 'O', 'L', 'E', 'G', 'A', 'B', 'D', 'F', 'H', 'I', 'J', 'K', 'M', 'N', 'P', 'Q', 'R', 'S', 'T', 'U', 'V', 'W', 'X', 'Y', 'Z']\nr:6\nmodalpha:[['C', 'O', 'L', 'E', 'G'], ['A', 'B', 'D', 'F', 'H'], ['I', 'J', 'K', 'M', 'N'], ['P', 'Q', 'R', 'S', 'T'], ['U', 'V', 'W', 'X', 'Y'], ['Z']]\nd:{'A': 'C', 'B': 'A', 'C': 'I', 'D': 'P', 'E': 'U', 'F': 'Z', 'G': 'O', 'H': 'B', 'I': 'J', 'J': 'Q', 'K': 'V', 'L': 'L', 'M': 'D', 'N': 'K', 'O': 'R', 'P': 'W', 'Q': 'E', 'R': 'F', 'S': 'M', 'T': 'S', 'U': 'X', 'V': 'G', 'W': 'H', 'X': 'N', 'Y': 'T', 'Z': 'Y'}\nXKJGUFMJST\n"
     ]
    }
   ],
   "source": [
    "def mixed_keyword(key: str = \"college\", pt: str = \"UNIVERSITY\") -> str:\n",
    "    \"\"\"\n",
    "\n",
    "    For key:hello\n",
    "\n",
    "    H E L O\n",
    "    A B C D\n",
    "    F G I J\n",
    "    K M N P\n",
    "    Q R S T\n",
    "    U V W X\n",
    "    Y Z\n",
    "    and map vertically\n",
    "\n",
    "    >>> mixed_keyword(\"college\", \"UNIVERSITY\")  # doctest: +NORMALIZE_WHITESPACE\n",
    "    {'A': 'C', 'B': 'A', 'C': 'I', 'D': 'P', 'E': 'U', 'F': 'Z', 'G': 'O', 'H': 'B',\n",
    "     'I': 'J', 'J': 'Q', 'K': 'V', 'L': 'L', 'M': 'D', 'N': 'K', 'O': 'R', 'P': 'W',\n",
    "     'Q': 'E', 'R': 'F', 'S': 'M', 'T': 'S', 'U': 'X', 'V': 'G', 'W': 'H', 'X': 'N',\n",
    "     'Y': 'T', 'Z': 'Y'}\n",
    "    'XKJGUFMJST'\n",
    "    \"\"\"\n",
    "    key = key.upper()\n",
    "    pt = pt.upper()\n",
    "    temp = []\n",
    "    for i in key:\n",
    "        if i not in temp:\n",
    "            temp.append(i)\n",
    "    len_temp = len(temp)\n",
    "    print(f\"temp:{temp}\")\n",
    "    alpha = []\n",
    "    modalpha = []\n",
    "    for j in range(65, 91):\n",
    "        t = chr(j)\n",
    "        alpha.append(t)\n",
    "        if t not in temp:\n",
    "            temp.append(t)\n",
    "    # print(temp)\n",
    "    print(f\"temp:{temp}\")\n",
    "    r = int(26 / 4)\n",
    "    # print(r)\n",
    "    print(f\"r:{r}\")\n",
    "    k = 0\n",
    "    for _ in range(r):\n",
    "        s = []\n",
    "        for j in range(len_temp):\n",
    "            s.append(temp[k])\n",
    "            if not (k < 25):\n",
    "                break\n",
    "            k += 1\n",
    "        modalpha.append(s)\n",
    "    print(f\"modalpha:{modalpha}\")\n",
    "    # print(modalpha)\n",
    "    d = {}\n",
    "    j = 0\n",
    "    k = 0\n",
    "    for j in range(len_temp):\n",
    "        for m in modalpha:\n",
    "            if not (len(m) - 1 >= j):\n",
    "                break\n",
    "            d[alpha[k]] = m[j]\n",
    "            if not k < 25:\n",
    "                break\n",
    "            k += 1\n",
    "    # print(d)\n",
    "    print(f\"d:{d}\")\n",
    "    cypher = \"\"\n",
    "    for i in pt:\n",
    "        cypher += d[i]\n",
    "    return cypher\n",
    "\n",
    "\n",
    "print(mixed_keyword(\"college\", \"UNIVERSITY\"))"
   ]
  },
  {
   "cell_type": "code",
   "execution_count": null,
   "metadata": {},
   "outputs": [],
   "source": []
  }
 ]
}