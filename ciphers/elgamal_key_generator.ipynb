{
 "metadata": {
  "language_info": {
   "codemirror_mode": {
    "name": "ipython",
    "version": 3
   },
   "file_extension": ".py",
   "mimetype": "text/x-python",
   "name": "python",
   "nbconvert_exporter": "python",
   "pygments_lexer": "ipython3",
   "version": "3.8.0"
  },
  "orig_nbformat": 2,
  "kernelspec": {
   "name": "python3",
   "display_name": "Python 3.8.0 64-bit ('myaivenv': venv)"
  },
  "metadata": {
   "interpreter": {
    "hash": "4570298ddf55f12d72b384cb5a92401407339203adac8a4a881fb11d70b7d0b5"
   }
  },
  "interpreter": {
   "hash": "4570298ddf55f12d72b384cb5a92401407339203adac8a4a881fb11d70b7d0b5"
  }
 },
 "nbformat": 4,
 "nbformat_minor": 2,
 "cells": [
  {
   "source": [
    "# elgamal_key_generator ElGamal加密算法密钥生成\n",
    "\n",
    "\n",
    "## ElGamal加密算法简介 <br>\n",
    "在密码学中，ElGamal加密算法是一个基于迪菲-赫尔曼密钥交换的非对称加密算法。它在1985年由塔希尔·盖莫尔提出。GnuPG和PGP等很多密码学系统中都应用到了ElGamal算法。<br>\n",
    "ElGamal加密算法可以定义在任何循环群 $ G $ 上。它的安全性取决于 $ G $ 上的离散对数难题。<br>\n",
    "## 算法 <br>\n",
    "ElGamal加密算法由三部分组成：密钥生成、加密和解密。 <br>\n",
    "- 密钥生成 <br>\n",
    "密钥生成的步骤如下：<br>\n",
    "  -（1）Alice利用生成元 $ g $ 产生一个 $ q $ 阶循环群 $ G $ 的有效描述。该循环群需要满足一定的安全性质。<br>\n",
    "  -（2）Alice从 $ \\{ 1,2,\\cdots,{q-1} \\}  $ 中随机选择一个 $ x $。<br>\n",
    "  -（3）Alice计算 $ h:= g^x $。<br>\n",
    "  -（4）Alice公开 $ h $ 以及 $ G,q,g $ 的描述作为其公钥，并保留 $ x $ 作为其私钥。私钥必须保密。<br>\n",
    "- 加密 <br>\n",
    "使用Alice的公钥 $(G,q,g,h) $ 向她加密一条消息 $ m $ 的加密算法工作方式如下：<br>\n",
    "\n",
    "  -（1）Bob从$ \\{ 1,2,\\cdots,{q-1} \\} $ 随机选择一个 $ y $，然后计算 $ C_1 = g^y $。<br>\n",
    "\n",
    "  -（2）Bob计算共享秘密 $ s:= h^y $。<br>\n",
    "  \n",
    "  -（3）Bob把他要发送的秘密消息 $ m $ 映射为 G上的一个元素 $ m' $。<br>\n",
    "  \n",
    "  -（4）Bob计算 $ C_2:= m' \\cdot s $。 <br>\n",
    "  \n",
    "  -（5）Bob将密文 $ (C_1,C_2) = (g^y,m' \\cdot h^y) = (g^y,m' \\cdot {(g^x)}^y) $ 发送给Alice。<br>\n",
    "\n",
    "值得注意的是，如果一个人知道了 $ m' $，那么它很容易就能知道 $ h^y $ 的值。因此对每一条信息都产生一个新的 $ y $ 可以提高安全性。所以 $ y $ 也被称作临时密钥。<br>\n",
    "- 解密 <br>\n",
    "利用私钥 $ x $ 对密文$ (c_1,c_2 ) $进行解密的算法工作方式如下：<br>\n",
    "Alice计算共享秘密 $ s:= {c_1}^x $；<br>\n",
    "然后计算 $ m':= c_2 \\cdot s^{-1} $，并将其映射回明文 $ m $，其中 $ s^{-1} $ 是 $ s $ 在群 $ G $ 上的逆元。（例如：如果G是整数模 $ n $ 乘法群的一个子群，那么逆元就是模逆元）。<br>\n",
    "解密算法是能够正确解密出明文的，因为 <br>\n",
    "$$ \n",
    " C_2 \\cdot s^{-1} \n",
    " = m' \\cdot h^y \\cdot {(g^{xy})}^{-1}\n",
    " = m' \\cdot g^{xy} \\cdot g^{-xy}\n",
    " = m'\n",
    " $$\n",
    "## 实际使用\n",
    "ElGamal加密系统通常应用在混合加密系统中。例如：用对称加密体制来加密消息，然后利用ElGamal加密算法传递密钥。这是因为在同等安全等级下，ElGamal加密算法作为一种非对称密码学系统，通常比对称加密体制要慢。对称加密算法的密钥和要传递的消息相比通常要短得多，所以相比之下使用ElGamal加密密钥然后用对称加密来加密任意长度的消息，这样要更快一些。\n",
    "\n",
    "\n",
    "## 代码\n",
    "[elgamal_key_generator.py]{..\\src\\ciphers\\elgamal_key_generator.py}\n"
   ],
   "cell_type": "markdown",
   "metadata": {}
  },
  {
   "cell_type": "code",
   "execution_count": 1,
   "metadata": {},
   "outputs": [],
   "source": [
    "\"\"\"\n",
    "Prepare\n",
    "   1. sys.path 中增加 TheAlgorithms\\src 子模块\n",
    "\n",
    "\"\"\"\n",
    "import sys\n",
    "sys.path.append('E:\\dev\\AI\\TheAlgorithms\\src')\n"
   ]
  },
  {
   "source": [
    "## 案例一：primitive_root\n",
    "```\n",
    "def primitive_root(p_val: int) -> int:\n",
    "    print(\"Generating primitive root of p\")\n",
    "    while True:\n",
    "        g = random.randrange(3, p_val)\n",
    "        if pow(g, 2, p_val) == 1:\n",
    "            continue\n",
    "        if pow(g, p_val, p_val) == 1:\n",
    "            continue\n",
    "        return g\n",
    "```"
   ],
   "cell_type": "markdown",
   "metadata": {}
  },
  {
   "cell_type": "code",
   "execution_count": 2,
   "metadata": {},
   "outputs": [
    {
     "output_type": "error",
     "ename": "TypeError",
     "evalue": "'type' object is not subscriptable",
     "traceback": [
      "\u001b[1;31m---------------------------------------------------------------------------\u001b[0m",
      "\u001b[1;31mTypeError\u001b[0m                                 Traceback (most recent call last)",
      "\u001b[1;32m<ipython-input-2-96834bad27da>\u001b[0m in \u001b[0;36m<module>\u001b[1;34m\u001b[0m\n\u001b[1;32m----> 1\u001b[1;33m \u001b[1;32mfrom\u001b[0m \u001b[0mciphers\u001b[0m\u001b[1;33m.\u001b[0m\u001b[0melgamal_key_generator\u001b[0m \u001b[1;32mimport\u001b[0m \u001b[0mprimitive_root\u001b[0m\u001b[1;33m\u001b[0m\u001b[1;33m\u001b[0m\u001b[0m\n\u001b[0m\u001b[0;32m      2\u001b[0m \"\"\"\n\u001b[0;32m      3\u001b[0m \"\"\"\n\u001b[0;32m      4\u001b[0m \u001b[0mprint\u001b[0m\u001b[1;33m(\u001b[0m\u001b[0mprimitive_root\u001b[0m\u001b[1;33m(\u001b[0m\u001b[1;36m10\u001b[0m\u001b[1;33m)\u001b[0m\u001b[1;33m)\u001b[0m\u001b[1;33m\u001b[0m\u001b[1;33m\u001b[0m\u001b[0m\n\u001b[0;32m      5\u001b[0m \u001b[1;33m\u001b[0m\u001b[0m\n",
      "\u001b[1;32mE:\\dev\\AI\\TheAlgorithms\\src\\ciphers\\elgamal_key_generator.py\u001b[0m in \u001b[0;36m<module>\u001b[1;34m\u001b[0m\n\u001b[0;32m     25\u001b[0m \u001b[1;33m\u001b[0m\u001b[0m\n\u001b[0;32m     26\u001b[0m \u001b[1;33m\u001b[0m\u001b[0m\n\u001b[1;32m---> 27\u001b[1;33m \u001b[1;32mdef\u001b[0m \u001b[0mgenerate_key\u001b[0m\u001b[1;33m(\u001b[0m\u001b[0mkey_size\u001b[0m\u001b[1;33m:\u001b[0m \u001b[0mint\u001b[0m\u001b[1;33m)\u001b[0m \u001b[1;33m->\u001b[0m \u001b[0mtuple\u001b[0m\u001b[1;33m[\u001b[0m\u001b[0mtuple\u001b[0m\u001b[1;33m[\u001b[0m\u001b[0mint\u001b[0m\u001b[1;33m,\u001b[0m \u001b[0mint\u001b[0m\u001b[1;33m,\u001b[0m \u001b[0mint\u001b[0m\u001b[1;33m,\u001b[0m \u001b[0mint\u001b[0m\u001b[1;33m]\u001b[0m\u001b[1;33m,\u001b[0m \u001b[0mtuple\u001b[0m\u001b[1;33m[\u001b[0m\u001b[0mint\u001b[0m\u001b[1;33m,\u001b[0m \u001b[0mint\u001b[0m\u001b[1;33m]\u001b[0m\u001b[1;33m]\u001b[0m\u001b[1;33m:\u001b[0m\u001b[1;33m\u001b[0m\u001b[1;33m\u001b[0m\u001b[0m\n\u001b[0m\u001b[0;32m     28\u001b[0m     \u001b[0mprint\u001b[0m\u001b[1;33m(\u001b[0m\u001b[1;34m\"Generating prime p...\"\u001b[0m\u001b[1;33m)\u001b[0m\u001b[1;33m\u001b[0m\u001b[1;33m\u001b[0m\u001b[0m\n\u001b[0;32m     29\u001b[0m     \u001b[0mp\u001b[0m \u001b[1;33m=\u001b[0m \u001b[0mrabin_miller\u001b[0m\u001b[1;33m.\u001b[0m\u001b[0mgenerateLargePrime\u001b[0m\u001b[1;33m(\u001b[0m\u001b[0mkey_size\u001b[0m\u001b[1;33m)\u001b[0m  \u001b[1;31m# select large prime number.\u001b[0m\u001b[1;33m\u001b[0m\u001b[1;33m\u001b[0m\u001b[0m\n",
      "\u001b[1;31mTypeError\u001b[0m: 'type' object is not subscriptable"
     ]
    }
   ],
   "source": [
    "from ciphers.elgamal_key_generator import primitive_root\n",
    "\"\"\"\n",
    "\"\"\"\n",
    "print(primitive_root(10))\n",
    "\n"
   ]
  },
  {
   "cell_type": "code",
   "execution_count": null,
   "metadata": {},
   "outputs": [],
   "source": []
  }
 ]
}