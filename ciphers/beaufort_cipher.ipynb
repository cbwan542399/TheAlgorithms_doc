{
 "metadata": {
  "language_info": {
   "codemirror_mode": {
    "name": "ipython",
    "version": 3
   },
   "file_extension": ".py",
   "mimetype": "text/x-python",
   "name": "python",
   "nbconvert_exporter": "python",
   "pygments_lexer": "ipython3",
   "version": "3.8.0"
  },
  "orig_nbformat": 2,
  "kernelspec": {
   "name": "pythonjvsc74a57bd04570298ddf55f12d72b384cb5a92401407339203adac8a4a881fb11d70b7d0b5",
   "display_name": "Python 3.8.0  ('myaivenv': venv)"
  },
  "metadata": {
   "interpreter": {
    "hash": "4570298ddf55f12d72b384cb5a92401407339203adac8a4a881fb11d70b7d0b5"
   }
  }
 },
 "nbformat": 4,
 "nbformat_minor": 2,
 "cells": [
  {
   "source": [
    "\n",
    "# beaufort_cipher  博福特密码(古典密码)\n",
    "\n",
    "## 概念\n",
    "\n",
    "博福特密码，是一种类似于维吉尼亚密码的替代密码，由弗朗西斯·蒲福（Francis Beaufort）发明。它最知名的应用是M-209密码机。博福特密码属于对等加密，即加密演算法与解密演算法相同\n",
    "\n",
    "博福特密码是按mod q减法运算的一种周期代替密码，其博福特密码表如下\n",
    "\n",
    "![](beaufort_cipher_files/beaufort_cipher_1_1.jpg)\n",
    "\n",
    "与维吉尼亚密码表相比，就第二列开始的字母排序不一致\n",
    "\n",
    "示例\n",
    "\n",
    "例如，明文的第一个字母为D，则先在表格中找到第D列。由于密钥的第一个字母为F，于是D列从上往下找到F。这一F对应的行号为C，因而C便是密文的第一个字母。以此类推可以得到密文。以下便是一个密钥为FORTIFICATION时的例子：<br>\n",
    "Key: FORTIFICATION  <br>\n",
    "明文：DEFENDTHEEASTWALLOFTHECASTLE <br>\n",
    "密钥：FORTIFICATIONFORTIFICATIONFO <br>\n",
    "密文：CKMPVCPVWPIWUJOGIUAPVWRIWUUK <br>\n",
    "\n",
    "\n",
    "## 算法\n",
    "  \n",
    "## 代码\n",
    "[beaufort_cipher.py]{..\\src\\ciphers\\beaufort_cipher.py}"
   ],
   "cell_type": "markdown",
   "metadata": {}
  },
  {
   "cell_type": "code",
   "execution_count": 2,
   "metadata": {},
   "outputs": [],
   "source": [
    "\"\"\"\n",
    "Prepare\n",
    "   1. sys.path 中增加 TheAlgorithms\\src 子模块\n",
    "\n",
    "\"\"\"\n",
    "import sys\n",
    "sys.path.append('E:\\dev\\AI\\TheAlgorithms\\src')\n"
   ]
  },
  {
   "source": [
    "## 案例一： \n",
    "Key: FORTIFICATION  <br>\n",
    "明文：DEFENDTHEEASTWALLOFTHECASTLE <br>\n",
    "密钥：FORTIFICATIONFORTIFICATIONFO <br>\n",
    "密文：CKMPVCPVWPIWUJOGIUAPVWRIWUUK <br>\n"
   ],
   "cell_type": "markdown",
   "metadata": {}
  },
  {
   "cell_type": "code",
   "execution_count": 6,
   "metadata": {},
   "outputs": [
    {
     "output_type": "stream",
     "name": "stdout",
     "text": [
      "Encrypted Text = YQOLFYLFELSEGRMUSGALFEJSEGGQ\nOriginal Text = DEFENDTHEEASTWALLOFTHECASTLE\n"
     ]
    }
   ],
   "source": [
    "from ciphers.beaufort_cipher import generate_key,cipher_text,original_text\n",
    "\"\"\"\n",
    "    \n",
    "\"\"\"\n",
    "message = \"DEFENDTHEEASTWALLOFTHECASTLE\"\n",
    "key = \"FORTIFICATION\"\n",
    "key_new = generate_key(message, key)\n",
    "# key_new = \"FORTIFICATION\"\n",
    "s = cipher_text(message, key_new)\n",
    "print(f\"Encrypted Text = {s}\")\n",
    "print(f\"Original Text = {original_text(s, key_new)}\")\n"
   ]
  },
  {
   "source": [
    "## 案例二： \n",
    "注意：key_new = generate_key(message, key)\n",
    "  与message ,key 有关"
   ],
   "cell_type": "markdown",
   "metadata": {}
  },
  {
   "cell_type": "code",
   "execution_count": 3,
   "metadata": {},
   "outputs": [
    {
     "output_type": "stream",
     "name": "stdout",
     "text": [
      "Encrypted Text = BDC PAYUWL JPAIYI\nOriginal Text = THE GERMAN ATTACK\n"
     ]
    }
   ],
   "source": [
    "from ciphers.beaufort_cipher import generate_key,cipher_text,original_text\n",
    "\"\"\"\n",
    "    \n",
    "\"\"\"\n",
    "message = \"THE GERMAN ATTACK\"\n",
    "key = \"SECRET\"\n",
    "key_new = generate_key(message, key)\n",
    "s = cipher_text(message, key_new)\n",
    "print(f\"Encrypted Text = {s}\")\n",
    "print(f\"Original Text = {original_text(s, key_new)}\")"
   ]
  },
  {
   "cell_type": "code",
   "execution_count": null,
   "metadata": {},
   "outputs": [],
   "source": []
  }
 ]
}