{
 "metadata": {
  "language_info": {
   "codemirror_mode": {
    "name": "ipython",
    "version": 3
   },
   "file_extension": ".py",
   "mimetype": "text/x-python",
   "name": "python",
   "nbconvert_exporter": "python",
   "pygments_lexer": "ipython3",
   "version": "3.8.0"
  },
  "orig_nbformat": 2,
  "kernelspec": {
   "name": "pythonjvsc74a57bd04570298ddf55f12d72b384cb5a92401407339203adac8a4a881fb11d70b7d0b5",
   "display_name": "Python 3.8.0  ('myaivenv': venv)"
  },
  "metadata": {
   "interpreter": {
    "hash": "4570298ddf55f12d72b384cb5a92401407339203adac8a4a881fb11d70b7d0b5"
   }
  }
 },
 "nbformat": 4,
 "nbformat_minor": 2,
 "cells": [
  {
   "source": [
    "\n",
    "# affine_cipher  仿射加密法\n",
    "\n",
    "## 概念\n",
    "仿射加密法与单码加密法没什么不同，因为明文的每个字母分别只映射到一个密文字母。仿射密码的加密算法就是一个线性变换，即对任意的明文字符x，对应的密文字符为$y\\equiv ax+ b (mod(26))  $ ，其中，$a,b∈Z26$，且要求$gcd(a,26)$=1,函数e(x)称为仿射加密函数。\n",
    "\n",
    "## 算法\n",
    "- SYMBOLS :符号表\n",
    "```\n",
    "SYMBOLS = (\n",
    "    r\"\"\" !\"#$%&'()*+,-./0123456789:;<=>?@ABCDEFGHIJKLMNOPQRSTUVWXYZ[\\]^_`\"\"\"\n",
    "    r\"\"\"abcdefghijklmnopqrstuvwxyz{|}~\"\"\"\n",
    ")\n",
    "```\n",
    "- encrypt_message(key: int, message: str) -> str\n",
    "  根据key 值，加密\n",
    "- decrypt_message(key: int, message: str) -> str\n",
    "  根据key 值，解密\n",
    "\n",
    "## 代码\n",
    "[affine_cipher.py]{..\\src\\ciphers\\affine_cipher.py}"
   ],
   "cell_type": "markdown",
   "metadata": {}
  },
  {
   "cell_type": "code",
   "execution_count": 1,
   "metadata": {},
   "outputs": [],
   "source": [
    "\"\"\"\n",
    "Prepare\n",
    "   1. sys.path 中增加 TheAlgorithms\\src 子模块\n",
    "\n",
    "\"\"\"\n",
    "import sys\n",
    "sys.path.append('E:\\dev\\AI\\TheAlgorithms\\src')\n"
   ]
  },
  {
   "source": [
    "## 案例一： \n",
    " 对明文进行加密\n",
    " 对密文进行解密"
   ],
   "cell_type": "markdown",
   "metadata": {}
  },
  {
   "cell_type": "code",
   "execution_count": 6,
   "metadata": {},
   "outputs": [
    {
     "output_type": "stream",
     "name": "stdout",
     "text": [
      "密文:VL}p MM{I}p~{HL}Gp{vp pFsH}pxMpyxIx JHL O}F{~pRppppppppppppppppppppppppppppvuOvF{FuF{xIp~{HL}Gi\n明文:The affine cipher is a type of monoalphabetic \\                            substitution cipher.\n"
     ]
    }
   ],
   "source": [
    "from ciphers.affine_cipher import encrypt_message,decrypt_message\n",
    "\"\"\"\n",
    ">>> encrypt_message(4545, 'The affine cipher is a type of monoalphabetic '\n",
    "                        'substitution cipher.')\n",
    "    'VL}p MM{I}p~{HL}Gp{vp pFsH}pxMpyxIx JHL O}F{~pvuOvF{FuF{xIp~{HL}Gi'\n",
    ">>> decrypt_message(4545, 'VL}p MM{I}p~{HL}Gp{vp pFsH}pxMpyxIx JHL O}F{~pvuOvF{FuF'\n",
    "                      '{xIp~{HL}Gi')\n",
    "  'The affine cipher is a type of monoalphabetic substitution cipher.'\n",
    "\"\"\"\n",
    "sPlain_msg='''The affine cipher is a type of monoalphabetic \\\\                            substitution cipher.'''\n",
    "\n",
    "sCipher_msg = ''\n",
    "key = 4545\n",
    "sCipher_msg = encrypt_message(key,sPlain_msg)\n",
    "print(\"密文:\"+sCipher_msg)\n",
    "print(\"明文:\"+decrypt_message(key,sCipher_msg))\n",
    "\n"
   ]
  },
  {
   "cell_type": "code",
   "execution_count": null,
   "metadata": {},
   "outputs": [],
   "source": []
  }
 ]
}